{
 "cells": [
  {
   "cell_type": "code",
   "execution_count": 1,
   "metadata": {},
   "outputs": [
    {
     "name": "stdout",
     "output_type": "stream",
     "text": [
      "Requirement already satisfied: requests in /Users/Nicolas/.pyenv/versions/3.8.10/lib/python3.8/site-packages (2.32.3)\n",
      "Requirement already satisfied: beautifulsoup4 in /Users/Nicolas/.pyenv/versions/3.8.10/lib/python3.8/site-packages (4.13.3)\n",
      "Requirement already satisfied: pandas in /Users/Nicolas/.pyenv/versions/3.8.10/lib/python3.8/site-packages (2.0.3)\n",
      "Requirement already satisfied: charset-normalizer<4,>=2 in /Users/Nicolas/.pyenv/versions/3.8.10/lib/python3.8/site-packages (from requests) (3.4.1)\n",
      "Requirement already satisfied: idna<4,>=2.5 in /Users/Nicolas/.pyenv/versions/3.8.10/lib/python3.8/site-packages (from requests) (3.10)\n",
      "Requirement already satisfied: urllib3<3,>=1.21.1 in /Users/Nicolas/.pyenv/versions/3.8.10/lib/python3.8/site-packages (from requests) (2.2.3)\n",
      "Requirement already satisfied: certifi>=2017.4.17 in /Users/Nicolas/.pyenv/versions/3.8.10/lib/python3.8/site-packages (from requests) (2025.1.31)\n",
      "Requirement already satisfied: soupsieve>1.2 in /Users/Nicolas/.pyenv/versions/3.8.10/lib/python3.8/site-packages (from beautifulsoup4) (2.6)\n",
      "Requirement already satisfied: typing-extensions>=4.0.0 in /Users/Nicolas/.pyenv/versions/3.8.10/lib/python3.8/site-packages (from beautifulsoup4) (4.12.2)\n",
      "Requirement already satisfied: tzdata>=2022.1 in /Users/Nicolas/.pyenv/versions/3.8.10/lib/python3.8/site-packages (from pandas) (2025.1)\n",
      "Requirement already satisfied: numpy>=1.20.3 in /Users/Nicolas/.pyenv/versions/3.8.10/lib/python3.8/site-packages (from pandas) (1.24.3)\n",
      "Requirement already satisfied: python-dateutil>=2.8.2 in /Users/Nicolas/.pyenv/versions/3.8.10/lib/python3.8/site-packages (from pandas) (2.9.0.post0)\n",
      "Requirement already satisfied: pytz>=2020.1 in /Users/Nicolas/.pyenv/versions/3.8.10/lib/python3.8/site-packages (from pandas) (2025.1)\n",
      "Requirement already satisfied: six>=1.5 in /Users/Nicolas/.pyenv/versions/3.8.10/lib/python3.8/site-packages (from python-dateutil>=2.8.2->pandas) (1.17.0)\n",
      "\u001b[33mWARNING: You are using pip version 21.1.1; however, version 25.0.1 is available.\n",
      "You should consider upgrading via the '/Users/Nicolas/.pyenv/versions/3.8.10/bin/python -m pip install --upgrade pip' command.\u001b[0m\n",
      "Note: you may need to restart the kernel to use updated packages.\n"
     ]
    }
   ],
   "source": [
    "pip install requests beautifulsoup4 pandas\n"
   ]
  },
  {
   "cell_type": "code",
   "execution_count": 2,
   "metadata": {},
   "outputs": [],
   "source": [
    "import requests\n",
    "from bs4 import BeautifulSoup\n",
    "import pandas as pd\n",
    "import re\n"
   ]
  },
  {
   "cell_type": "code",
   "execution_count": 3,
   "metadata": {},
   "outputs": [],
   "source": [
    "url = \"https://www.leboncoin.fr/recherche?category=9&locations=Créteil_94000__48.77745_2.45518_3377&real_estate_type=2\""
   ]
  },
  {
   "cell_type": "code",
   "execution_count": 4,
   "metadata": {},
   "outputs": [],
   "source": [
    "response = requests.get(url)\n",
    "soup = BeautifulSoup(response.text, 'html.parser')\n"
   ]
  },
  {
   "cell_type": "code",
   "execution_count": 5,
   "metadata": {},
   "outputs": [],
   "source": [
    "# Fonction pour nettoyer et récupérer les chiffres\n",
    "def get_numbers(text):\n",
    "    return float(re.sub(r'[^\\d,]', '', text).replace(',', '.'))\n"
   ]
  },
  {
   "cell_type": "code",
   "execution_count": 6,
   "metadata": {},
   "outputs": [],
   "source": [
    "# Liste pour collecter les annonces\n",
    "annonces = []\n"
   ]
  },
  {
   "cell_type": "code",
   "execution_count": 7,
   "metadata": {},
   "outputs": [],
   "source": [
    "# Extraction simple des annonces sur la page\n",
    "for annonce in soup.select('div[data-qa-id=\"aditem_container\"]'):\n",
    "    title = annonce.select_one('p[data-qa-id=\"aditem_title\"]').text.strip()\n",
    "    price_tag = annonce.select_one('span[data-qa-id=\"aditem_price\"]')\n",
    "    surface_tag = annonce.select_one('div[data-qa-id=\"aditem_description\"]')"
   ]
  },
  {
   "cell_type": "code",
   "execution_count": 8,
   "metadata": {},
   "outputs": [
    {
     "ename": "NameError",
     "evalue": "name 'price_tag' is not defined",
     "output_type": "error",
     "traceback": [
      "\u001b[0;31m---------------------------------------------------------------------------\u001b[0m",
      "\u001b[0;31mNameError\u001b[0m                                 Traceback (most recent call last)",
      "Cell \u001b[0;32mIn[8], line 1\u001b[0m\n\u001b[0;32m----> 1\u001b[0m \u001b[38;5;28;01mif\u001b[39;00m \u001b[43mprice_tag\u001b[49m \u001b[38;5;129;01mand\u001b[39;00m surface_tag:\n\u001b[1;32m      2\u001b[0m        price \u001b[38;5;241m=\u001b[39m get_numbers(price_tag\u001b[38;5;241m.\u001b[39mtext)\n",
      "\u001b[0;31mNameError\u001b[0m: name 'price_tag' is not defined"
     ]
    }
   ],
   "source": [
    " if price_tag and surface_tag:\n",
    "        price = get_numbers(price_tag.text)\n",
    "        "
   ]
  },
  {
   "cell_type": "code",
   "execution_count": 9,
   "metadata": {},
   "outputs": [
    {
     "name": "stdout",
     "output_type": "stream",
     "text": [
      "Empty DataFrame\n",
      "Columns: []\n",
      "Index: []\n"
     ]
    }
   ],
   "source": [
    "for annonce in soup.select('div[data-qa-id=\"aditem_container\"]'):\n",
    "    title = annonce.select_one('p[data-qa-id=\"aditem_title\"]').text.strip()\n",
    "    price_tag = annonce.select_one('span[data-qa-id=\"aditem_price\"]')\n",
    "    surface_tag = annonce.select_one('div[data-qa-id=\"aditem_description\"]')\n",
    "\n",
    "    if price_tag and surface_tag:\n",
    "        price = get_numbers(price_tag.text)\n",
    "\n",
    "        surface_match = re.search(r'(\\d+)\\s?m²', surface_tag.text)\n",
    "        if surface_match:\n",
    "            surface = float(surface_match.group(1))\n",
    "            prix_m2 = price / surface\n",
    "\n",
    "            prix_revente_simule = prix_m2 * surface * 1.2\n",
    "            rentabilite = prix_revente_simule - price\n",
    "\n",
    "            annonces.append({\n",
    "                'Titre': title,\n",
    "                'Prix (€)': price,\n",
    "                'Surface (m²)': surface,\n",
    "                'Prix au m² (€)': round(prix_m2, 2),\n",
    "                'Prix Revente Simulé (+20%) (€)': round(prix_revente_simule, 2),\n",
    "                'Rentabilité simulée (€)': round(rentabilite, 2),\n",
    "            })\n",
    "\n",
    "df = pd.DataFrame(annonces)\n",
    "print(df)\n"
   ]
  },
  {
   "cell_type": "code",
   "execution_count": 10,
   "metadata": {},
   "outputs": [
    {
     "name": "stdout",
     "output_type": "stream",
     "text": [
      "Requirement already satisfied: selenium in /Users/Nicolas/.pyenv/versions/3.8.10/lib/python3.8/site-packages (4.27.1)\n",
      "Requirement already satisfied: webdriver-manager in /Users/Nicolas/.pyenv/versions/3.8.10/lib/python3.8/site-packages (4.0.2)\n",
      "Requirement already satisfied: certifi>=2021.10.8 in /Users/Nicolas/.pyenv/versions/3.8.10/lib/python3.8/site-packages (from selenium) (2025.1.31)\n",
      "Requirement already satisfied: urllib3[socks]<3,>=1.26 in /Users/Nicolas/.pyenv/versions/3.8.10/lib/python3.8/site-packages (from selenium) (2.2.3)\n",
      "Requirement already satisfied: trio-websocket~=0.9 in /Users/Nicolas/.pyenv/versions/3.8.10/lib/python3.8/site-packages (from selenium) (0.12.2)\n",
      "Requirement already satisfied: typing_extensions~=4.9 in /Users/Nicolas/.pyenv/versions/3.8.10/lib/python3.8/site-packages (from selenium) (4.12.2)\n",
      "Requirement already satisfied: trio~=0.17 in /Users/Nicolas/.pyenv/versions/3.8.10/lib/python3.8/site-packages (from selenium) (0.27.0)\n",
      "Requirement already satisfied: websocket-client~=1.8 in /Users/Nicolas/.pyenv/versions/3.8.10/lib/python3.8/site-packages (from selenium) (1.8.0)\n",
      "Requirement already satisfied: sortedcontainers in /Users/Nicolas/.pyenv/versions/3.8.10/lib/python3.8/site-packages (from trio~=0.17->selenium) (2.4.0)\n",
      "Requirement already satisfied: exceptiongroup in /Users/Nicolas/.pyenv/versions/3.8.10/lib/python3.8/site-packages (from trio~=0.17->selenium) (1.2.2)\n",
      "Requirement already satisfied: outcome in /Users/Nicolas/.pyenv/versions/3.8.10/lib/python3.8/site-packages (from trio~=0.17->selenium) (1.3.0.post0)\n",
      "Requirement already satisfied: attrs>=23.2.0 in /Users/Nicolas/.pyenv/versions/3.8.10/lib/python3.8/site-packages (from trio~=0.17->selenium) (25.1.0)\n",
      "Requirement already satisfied: sniffio>=1.3.0 in /Users/Nicolas/.pyenv/versions/3.8.10/lib/python3.8/site-packages (from trio~=0.17->selenium) (1.3.1)\n",
      "Requirement already satisfied: idna in /Users/Nicolas/.pyenv/versions/3.8.10/lib/python3.8/site-packages (from trio~=0.17->selenium) (3.10)\n",
      "Requirement already satisfied: wsproto>=0.14 in /Users/Nicolas/.pyenv/versions/3.8.10/lib/python3.8/site-packages (from trio-websocket~=0.9->selenium) (1.2.0)\n",
      "Requirement already satisfied: pysocks!=1.5.7,<2.0,>=1.5.6 in /Users/Nicolas/.pyenv/versions/3.8.10/lib/python3.8/site-packages (from urllib3[socks]<3,>=1.26->selenium) (1.7.1)\n",
      "Requirement already satisfied: h11<1,>=0.9.0 in /Users/Nicolas/.pyenv/versions/3.8.10/lib/python3.8/site-packages (from wsproto>=0.14->trio-websocket~=0.9->selenium) (0.14.0)\n",
      "Requirement already satisfied: packaging in /Users/Nicolas/.pyenv/versions/3.8.10/lib/python3.8/site-packages (from webdriver-manager) (24.2)\n",
      "Requirement already satisfied: requests in /Users/Nicolas/.pyenv/versions/3.8.10/lib/python3.8/site-packages (from webdriver-manager) (2.32.3)\n",
      "Requirement already satisfied: python-dotenv in /Users/Nicolas/.pyenv/versions/3.8.10/lib/python3.8/site-packages (from webdriver-manager) (1.0.1)\n",
      "Requirement already satisfied: charset-normalizer<4,>=2 in /Users/Nicolas/.pyenv/versions/3.8.10/lib/python3.8/site-packages (from requests->webdriver-manager) (3.4.1)\n",
      "\u001b[33mWARNING: You are using pip version 21.1.1; however, version 25.0.1 is available.\n",
      "You should consider upgrading via the '/Users/Nicolas/.pyenv/versions/3.8.10/bin/python -m pip install --upgrade pip' command.\u001b[0m\n",
      "Note: you may need to restart the kernel to use updated packages.\n"
     ]
    }
   ],
   "source": [
    "pip install selenium webdriver-manager\n"
   ]
  },
  {
   "cell_type": "code",
   "execution_count": 11,
   "metadata": {},
   "outputs": [
    {
     "name": "stdout",
     "output_type": "stream",
     "text": [
      "Empty DataFrame\n",
      "Columns: []\n",
      "Index: []\n"
     ]
    }
   ],
   "source": [
    "from selenium import webdriver\n",
    "from selenium.webdriver.common.by import By\n",
    "from webdriver_manager.chrome import ChromeDriverManager\n",
    "from selenium.webdriver.chrome.service import Service\n",
    "import pandas as pd\n",
    "import re\n",
    "import time\n",
    "\n",
    "url = \"https://www.leboncoin.fr/recherche?category=9&locations=Créteil_94000__48.77745_2.45518_3377&real_estate_type=2\"\n",
    "\n",
    "# Préparer le navigateur Chrome\n",
    "driver = webdriver.Chrome(service=Service(ChromeDriverManager().install()))\n",
    "driver.get(url)\n",
    "time.sleep(5)  # Temps pour charger les annonces\n",
    "\n",
    "# Fonction pour nettoyer et récupérer les chiffres\n",
    "def get_numbers(text):\n",
    "    return float(re.sub(r'[^\\d,]', '', text).replace(',', '.'))\n",
    "\n",
    "annonces = []\n",
    "\n",
    "# Extraction annonces avec Selenium\n",
    "cards = driver.find_elements(By.CSS_SELECTOR, 'div[data-qa-id=\"aditem_container\"]')\n",
    "\n",
    "for annonce in cards:\n",
    "    try:\n",
    "        title = annonce.find_element(By.CSS_SELECTOR, 'p[data-qa-id=\"aditem_title\"]').text.strip()\n",
    "        price_text = annonce.find_element(By.CSS_SELECTOR, 'span[data-qa-id=\"aditem_price\"]').text\n",
    "        description = annonce.find_element(By.CSS_SELECTOR, 'div[data-qa-id=\"aditem_description\"]').text\n",
    "\n",
    "        price = get_numbers(price_text)\n",
    "        \n",
    "        surface_match = re.search(r'(\\d+)\\s?m²', description)\n",
    "        if surface_match:\n",
    "            surface = float(surface_match.group(1))\n",
    "            prix_m2 = price / surface\n",
    "\n",
    "            prix_revente_simule = prix_m2 * surface * 1.2\n",
    "            rentabilite = prix_revente_simule - price\n",
    "\n",
    "            annonces.append({\n",
    "                'Titre': title,\n",
    "                'Prix (€)': price,\n",
    "                'Surface (m²)': surface,\n",
    "                'Prix au m² (€)': round(prix_m2, 2),\n",
    "                'Prix Revente Simulé (+20%) (€)': round(prix_revente_simule, 2),\n",
    "                'Rentabilité simulée (€)': round(rentabilite, 2),\n",
    "            })\n",
    "    except Exception as e:\n",
    "        print(\"Annonce ignorée (info manquante)\")\n",
    "\n",
    "driver.quit()\n",
    "\n",
    "df = pd.DataFrame(annonces)\n",
    "print(df)\n",
    "\n",
    "df.to_csv('annonces_immo_test.csv', index=False)\n"
   ]
  },
  {
   "cell_type": "code",
   "execution_count": 12,
   "metadata": {},
   "outputs": [
    {
     "name": "stdout",
     "output_type": "stream",
     "text": [
      "    Prix (€)  Surface (m²)  Prix au m² (€)  Prix Revente Simulé (+20%) (€)  \\\n",
      "0      550.0          50.0           11.00                           660.0   \n",
      "1      280.0          47.0            5.96                           336.0   \n",
      "2      150.0          44.0            3.41                           180.0   \n",
      "3      700.0          60.0           11.67                           840.0   \n",
      "4      990.0          32.0           30.94                          1188.0   \n",
      "5      690.0          16.0           43.12                           828.0   \n",
      "6      490.0          79.0            6.20                           588.0   \n",
      "7      970.0          33.0           29.39                          1164.0   \n",
      "8      910.0          30.0           30.33                          1092.0   \n",
      "9      200.0          28.0            7.14                           240.0   \n",
      "10     902.0          38.0           23.74                          1082.4   \n",
      "11     386.0          61.0            6.33                           463.2   \n",
      "12     988.0          34.0           29.06                          1185.6   \n",
      "13     860.0          29.0           29.66                          1032.0   \n",
      "14     100.0          42.0            2.38                           120.0   \n",
      "15     490.0          79.0            6.20                           588.0   \n",
      "16     995.0          37.0           26.89                          1194.0   \n",
      "17     625.0          52.0           12.02                           750.0   \n",
      "18     390.0          46.0            8.48                           468.0   \n",
      "19      30.0          40.0            0.75                            36.0   \n",
      "20     406.0          59.0            6.88                           487.2   \n",
      "21     370.0          63.0            5.87                           444.0   \n",
      "22     180.0          48.0            3.75                           216.0   \n",
      "23     550.0          50.0           11.00                           660.0   \n",
      "24     850.0          15.0           56.67                          1020.0   \n",
      "25     700.0          20.0           35.00                           840.0   \n",
      "26     580.0          14.0           41.43                           696.0   \n",
      "27     920.0          33.0           27.88                          1104.0   \n",
      "28     843.0          31.0           27.19                          1011.6   \n",
      "29     190.0          49.0            3.88                           228.0   \n",
      "30     850.0          80.0           10.62                          1020.0   \n",
      "31     100.0          37.0            2.70                           120.0   \n",
      "32     190.0          47.0            4.04                           228.0   \n",
      "33     362.0          65.0            5.57                           434.4   \n",
      "34     850.0          32.0           26.56                          1020.0   \n",
      "35     970.0          33.0           29.39                          1164.0   \n",
      "36     700.0          10.0           70.00                           840.0   \n",
      "37     860.0          20.0           43.00                          1032.0   \n",
      "38     225.0          52.0            4.33                           270.0   \n",
      "\n",
      "    Rentabilité simulée (€)  \n",
      "0                     110.0  \n",
      "1                      56.0  \n",
      "2                      30.0  \n",
      "3                     140.0  \n",
      "4                     198.0  \n",
      "5                     138.0  \n",
      "6                      98.0  \n",
      "7                     194.0  \n",
      "8                     182.0  \n",
      "9                      40.0  \n",
      "10                    180.4  \n",
      "11                     77.2  \n",
      "12                    197.6  \n",
      "13                    172.0  \n",
      "14                     20.0  \n",
      "15                     98.0  \n",
      "16                    199.0  \n",
      "17                    125.0  \n",
      "18                     78.0  \n",
      "19                      6.0  \n",
      "20                     81.2  \n",
      "21                     74.0  \n",
      "22                     36.0  \n",
      "23                    110.0  \n",
      "24                    170.0  \n",
      "25                    140.0  \n",
      "26                    116.0  \n",
      "27                    184.0  \n",
      "28                    168.6  \n",
      "29                     38.0  \n",
      "30                    170.0  \n",
      "31                     20.0  \n",
      "32                     38.0  \n",
      "33                     72.4  \n",
      "34                    170.0  \n",
      "35                    194.0  \n",
      "36                    140.0  \n",
      "37                    172.0  \n",
      "38                     45.0  \n"
     ]
    }
   ],
   "source": [
    "import re\n",
    "import pandas as pd\n",
    "\n",
    "# Charger ton fichier texte copié depuis LeBonCoin\n",
    "with open('annonces.txt', 'r', encoding='utf-8') as file:\n",
    "    contenu = file.read()\n",
    "\n",
    "# Trouver toutes les annonces (prix et surface)\n",
    "prix = re.findall(r'(\\d{2,3}\\s?\\d{0,3})\\s?€', contenu)\n",
    "surfaces = re.findall(r'(\\d{1,3})\\s?m²', contenu)\n",
    "\n",
    "annonces = []\n",
    "\n",
    "# On limite aux annonces pour lesquelles on a à la fois prix et surface\n",
    "for p, s in zip(prix, surfaces):\n",
    "    price = float(p.replace(' ', '').replace(',', '.'))\n",
    "    surface = float(s)\n",
    "    prix_m2 = price / surface\n",
    "    prix_revente_simule = prix_m2 * surface * 1.2\n",
    "    rentabilite = prix_revente_simule - price\n",
    "\n",
    "    annonces.append({\n",
    "        'Prix (€)': price,\n",
    "        'Surface (m²)': surface,\n",
    "        'Prix au m² (€)': round(prix_m2, 2),\n",
    "        'Prix Revente Simulé (+20%) (€)': round(prix_revente_simule, 2),\n",
    "        'Rentabilité simulée (€)': round(rentabilite, 2),\n",
    "    })\n",
    "\n",
    "df = pd.DataFrame(annonces)\n",
    "print(df)\n",
    "\n",
    "# Export en CSV\n",
    "df.to_csv('annonces_immo_test.csv', index=False)\n"
   ]
  },
  {
   "cell_type": "code",
   "execution_count": null,
   "metadata": {},
   "outputs": [],
   "source": []
  },
  {
   "cell_type": "code",
   "execution_count": null,
   "metadata": {},
   "outputs": [],
   "source": []
  },
  {
   "cell_type": "code",
   "execution_count": null,
   "metadata": {},
   "outputs": [],
   "source": [
    "import re\n",
    "import pandas as pd\n",
    "\n",
    "# Charger le contenu du fichier texte annonces.txt\n",
    "with open('annonces.txt', 'r', encoding='utf-8') as file:\n",
    "    contenu = file.read()\n",
    "\n",
    "# Extraction automatique des prix et surfaces\n",
    "prix = re.findall(r'(\\d{2,3}\\s?\\d{0,3})\\s?€', contenu)\n",
    "surfaces = re.findall(r'(\\d{1,3})\\s?m²', contenu)\n",
    "\n",
    "annonces = []\n",
    "\n",
    "# Calcul automatique de rentabilité pour chaque annonce\n",
    "for p, s in zip(prix, surfaces):\n",
    "    price = float(p.replace(' ', '').replace(',', '.'))\n",
    "    surface = float(s)\n",
    "    prix_m2 = price / surface\n",
    "    prix_revente_simule = prix_m2 * surface * 1.2\n",
    "    rentabilite = prix_revente_simule - price\n",
    "\n",
    "    annonces.append({\n",
    "        'Prix (€)': price,\n",
    "        'Surface (m²)': surface,\n",
    "        'Prix au m² (€)': round(prix_m2, 2),\n",
    "        'Prix Revente Simulé (+20%) (€)': round(prix_revente_simule, 2),\n",
    "        'Rentabilité simulée (€)': round(rentabilite, 2),\n",
    "    })\n",
    "\n",
    "# Créer le tableau (DataFrame)\n",
    "df = pd.DataFrame(annonces)\n",
    "\n",
    "# Afficher le tableau\n",
    "print(df)\n",
    "\n",
    "# Exporter le résultat en CSV\n",
    "df.to_csv('annonces_immo_test.csv', index=False)\n"
   ]
  },
  {
   "cell_type": "code",
   "execution_count": 13,
   "metadata": {},
   "outputs": [
    {
     "name": "stdout",
     "output_type": "stream",
     "text": [
      "Requirement already satisfied: requests in /Users/Nicolas/.pyenv/versions/3.8.10/lib/python3.8/site-packages (2.32.3)\n",
      "Requirement already satisfied: beautifulsoup4 in /Users/Nicolas/.pyenv/versions/3.8.10/lib/python3.8/site-packages (4.13.3)\n",
      "Requirement already satisfied: pandas in /Users/Nicolas/.pyenv/versions/3.8.10/lib/python3.8/site-packages (2.0.3)\n",
      "Requirement already satisfied: idna<4,>=2.5 in /Users/Nicolas/.pyenv/versions/3.8.10/lib/python3.8/site-packages (from requests) (3.10)\n",
      "Requirement already satisfied: urllib3<3,>=1.21.1 in /Users/Nicolas/.pyenv/versions/3.8.10/lib/python3.8/site-packages (from requests) (2.2.3)\n",
      "Requirement already satisfied: certifi>=2017.4.17 in /Users/Nicolas/.pyenv/versions/3.8.10/lib/python3.8/site-packages (from requests) (2025.1.31)\n",
      "Requirement already satisfied: charset-normalizer<4,>=2 in /Users/Nicolas/.pyenv/versions/3.8.10/lib/python3.8/site-packages (from requests) (3.4.1)\n",
      "Requirement already satisfied: soupsieve>1.2 in /Users/Nicolas/.pyenv/versions/3.8.10/lib/python3.8/site-packages (from beautifulsoup4) (2.6)\n",
      "Requirement already satisfied: typing-extensions>=4.0.0 in /Users/Nicolas/.pyenv/versions/3.8.10/lib/python3.8/site-packages (from beautifulsoup4) (4.12.2)\n",
      "Requirement already satisfied: pytz>=2020.1 in /Users/Nicolas/.pyenv/versions/3.8.10/lib/python3.8/site-packages (from pandas) (2025.1)\n",
      "Requirement already satisfied: numpy>=1.20.3 in /Users/Nicolas/.pyenv/versions/3.8.10/lib/python3.8/site-packages (from pandas) (1.24.3)\n",
      "Requirement already satisfied: tzdata>=2022.1 in /Users/Nicolas/.pyenv/versions/3.8.10/lib/python3.8/site-packages (from pandas) (2025.1)\n",
      "Requirement already satisfied: python-dateutil>=2.8.2 in /Users/Nicolas/.pyenv/versions/3.8.10/lib/python3.8/site-packages (from pandas) (2.9.0.post0)\n",
      "Requirement already satisfied: six>=1.5 in /Users/Nicolas/.pyenv/versions/3.8.10/lib/python3.8/site-packages (from python-dateutil>=2.8.2->pandas) (1.17.0)\n",
      "\u001b[33mWARNING: You are using pip version 21.1.1; however, version 25.0.1 is available.\n",
      "You should consider upgrading via the '/Users/Nicolas/.pyenv/versions/3.8.10/bin/python -m pip install --upgrade pip' command.\u001b[0m\n",
      "Note: you may need to restart the kernel to use updated packages.\n"
     ]
    }
   ],
   "source": [
    "pip install requests beautifulsoup4 pandas\n"
   ]
  },
  {
   "cell_type": "code",
   "execution_count": 14,
   "metadata": {},
   "outputs": [
    {
     "name": "stdout",
     "output_type": "stream",
     "text": [
      "Empty DataFrame\n",
      "Columns: []\n",
      "Index: []\n"
     ]
    }
   ],
   "source": [
    "import requests\n",
    "from bs4 import BeautifulSoup\n",
    "import re\n",
    "import pandas as pd\n",
    "\n",
    "url = \"https://www.pap.fr/annonce/vente-appartements-creteil-94000-g43319-2-pieces\"\n",
    "\n",
    "response = requests.get(url)\n",
    "soup = BeautifulSoup(response.text, 'html.parser')\n",
    "\n",
    "def get_numbers(text):\n",
    "    return float(re.sub(r'[^\\d,]', '', text).replace(',', '.'))\n",
    "\n",
    "annonces = []\n",
    "\n",
    "# PAP : Extraction des annonces\n",
    "for annonce in soup.select('.search-list-item'):\n",
    "    title = annonce.select_one('.item-title').get_text(strip=True)\n",
    "    price_tag = annonce.select_one('.item-price')\n",
    "    details = annonce.select_one('.item-tags').get_text(strip=True)\n",
    "\n",
    "    if price_tag and details:\n",
    "        price = get_numbers(price_tag.get_text())\n",
    "        surface_match = re.search(r'(\\d+)\\s?m²', details)\n",
    "        if surface_match:\n",
    "            surface = float(surface_match.group(1))\n",
    "            prix_m2 = price / surface\n",
    "            prix_revente_simule = prix_m2 * surface * 1.2\n",
    "            rentabilite = prix_revente_simule - price\n",
    "\n",
    "            annonces.append({\n",
    "                'Titre': title,\n",
    "                'Prix (€)': price,\n",
    "                'Surface (m²)': surface,\n",
    "                'Prix au m² (€)': round(prix_m2, 2),\n",
    "                'Prix Revente Simulé (+20%) (€)': round(prix_revente_simule, 2),\n",
    "                'Rentabilité simulée (€)': round(rentabilite, 2),\n",
    "            })\n",
    "\n",
    "df = pd.DataFrame(annonces)\n",
    "print(df)\n",
    "\n",
    "# Export rapide CSV\n",
    "df.to_csv('annonces_pap.csv', index=False)\n"
   ]
  },
  {
   "cell_type": "code",
   "execution_count": 17,
   "metadata": {},
   "outputs": [
    {
     "ename": "IndentationError",
     "evalue": "unexpected unindent (1030472990.py, line 50)",
     "output_type": "error",
     "traceback": [
      "\u001b[0;36m  Cell \u001b[0;32mIn[17], line 50\u001b[0;36m\u001b[0m\n\u001b[0;31m    df = pd.DataFrame(annonces)\u001b[0m\n\u001b[0m                               ^\u001b[0m\n\u001b[0;31mIndentationError\u001b[0m\u001b[0;31m:\u001b[0m unexpected unindent\n"
     ]
    }
   ],
   "source": [
    "import requests\n",
    "from bs4 import BeautifulSoup\n",
    "import re\n",
    "import pandas as pd\n",
    "\n",
    "url = \"https://www.logic-immo.com/classified-search?distributionTypes=Buy,Buy_Auction,Compulsory_Auction&estateTypes=House,Apartment&locations=AD08FR36687&order=Default&m=homepage_new_search_classified_search_result\"\n",
    "\n",
    "headers = {\n",
    "    'User-Agent': 'Mozilla/5.0 (Windows NT 10.0; Win64; x64)'\n",
    "}\n",
    "\n",
    "response = requests.get(url, headers=headers)\n",
    "soup = BeautifulSoup(response.text, 'html.parser')\n",
    "\n",
    "annonces = []\n",
    "\n",
    "def get_numbers(text):\n",
    "    return float(re.sub(r'[^\\d,]', '', text).replace(',', '.'))\n",
    "\n",
    "cards = soup.select('.offer-link')\n",
    "\n",
    "print(f\"Annonces trouvées : {len(cards)}\")\n",
    "\n",
    "for card in cards:\n",
    "    try:\n",
    "        title_tag = card.select_one('.offer-type')\n",
    "        price_tag = card.select_one('.offer-price')\n",
    "        details_tag = card.select_one('.offer-details')\n",
    "\n",
    "        if title_tag and price_tag and details_tag:\n",
    "            title = title_tag.get_text(strip=True)\n",
    "            price = float(re.sub(r'\\D', '', price_tag.get_text()))\n",
    "            \n",
    "            surface_match = re.search(r'(\\d+)\\s?m²', details_tag.get_text(strip=True))\n",
    "            if surface_match:\n",
    "                surface = float(surface_match.group(1))\n",
    "                prix_m2 = price / surface\n",
    "                prix_revente_simule = prix_m2 * surface * 1.2\n",
    "                rentabilite = prix_revente_simule - price\n",
    "\n",
    "                annonces.append({\n",
    "                    'Titre': title,\n",
    "                    'Prix (€)': price,\n",
    "                    'Surface (m²)': surface,\n",
    "                    'Prix au m² (€)': round(prix_m2, 2),\n",
    "                    'Prix Revente Simulé (+20%) (€)': round(prix_revente_simule, 2),\n",
    "                    'Rentabilité simulée (€)': round(rentabilite, 2),\n",
    "                })\n",
    "\n",
    "df = pd.DataFrame(annonces)\n",
    "\n",
    "print(df)\n",
    "\n",
    "df.to_csv('annonces_logic_immo.csv', index=False)\n"
   ]
  }
 ],
 "metadata": {
  "kernelspec": {
   "display_name": "3.8.10",
   "language": "python",
   "name": "python3"
  },
  "language_info": {
   "codemirror_mode": {
    "name": "ipython",
    "version": 3
   },
   "file_extension": ".py",
   "mimetype": "text/x-python",
   "name": "python",
   "nbconvert_exporter": "python",
   "pygments_lexer": "ipython3",
   "version": "3.8.10"
  }
 },
 "nbformat": 4,
 "nbformat_minor": 2
}
