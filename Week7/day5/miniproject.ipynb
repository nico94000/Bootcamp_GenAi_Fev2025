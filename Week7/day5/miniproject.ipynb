{
 "cells": [
  {
   "cell_type": "markdown",
   "metadata": {},
   "source": [
    "Introduction "
   ]
  },
  {
   "cell_type": "markdown",
   "metadata": {},
   "source": [
    "Les grands modèles de langage (Large Language Models, LLMs) ont profondément transformé le domaine du traitement automatique du langage naturel ces dernières années. En exploitant des milliards de paramètres et d'énormes corpus textuels, ces modèles tels que GPT-4, LLaMA, ou encore PaLM ont démontré des capacités inédites, dépassant souvent les performances humaines dans des tâches variées allant de la génération de texte à la résolution de problèmes complexes.\n",
    "\n",
    "L'objectif de cette méta-analyse est d'analyser et de synthétiser les récentes avancées méthodologiques et technologiques autour des LLMs à travers cinq études majeures publiées en 2025. Les articles sélectionnés abordent des thématiques variées mais interconnectées, incluant l'entraînement post-initial (post-training), les capacités émergentes des modèles, les stratégies de personnalisation pour répondre aux besoins spécifiques des utilisateurs, et les défis généraux liés à l'utilisation de ces modèles à grande échelle.\n",
    "\n",
    "Cette analyse comparative vise à identifier les tendances actuelles, à évaluer les approches innovantes et à comprendre les limitations récurrentes dans ce domaine en pleine expansion. Les articles retenus pour cette étude sont :\n",
    "\n",
    "\"Seeing the Forest for the Trees: A Large Scale, Continuously Updating Meta-Analysis of Frontier LLMs\" (février 2025).\n",
    "\n",
    "\"A Survey on Large Language Models with Insights on their Emergent Abilities\" (janvier 2025).\n",
    "\n",
    "\"A Survey on Post-training of Large Language Models\" (mars 2025).\n",
    "\n",
    "\"A Survey of Personalized Large Language Models: Progress and Future Directions\" (février 2025).\n",
    "\n",
    "\"Large Language Models: A Comprehensive Survey of Applications, Challenges, Limitations, and Future Prospects\" (2025).\n",
    "\n",
    "Ce rapport permettra de mieux cerner les évolutions majeures des LLMs et d'ouvrir des pistes de réflexion sur les futurs axes de recherche.\n",
    "\n"
   ]
  },
  {
   "cell_type": "markdown",
   "metadata": {},
   "source": [
    "1. Citation complète :\n",
    "\n",
    "Auteurs : Guiyao Tie, et al.\n",
    "Année : mars 2025\n",
    "Titre : \"A Survey on Post-training of Large Language Models\"\n",
    "Source : arxiv.org\n"
   ]
  },
  {
   "cell_type": "markdown",
   "metadata": {},
   "source": [
    "2. Problématique étudiée :\n",
    "\n",
    "L'article étudie spécifiquement les approches et méthodes de post-entraînement (post-training) utilisées pour améliorer les capacités des grands modèles de langage (LLMs) après leur pré-entraînement initial. Il aborde en particulier l’amélioration des performances en termes d'alignement, de raisonnement, d’efficacité, et d'adaptation aux cas d’usage spécifiques."
   ]
  },
  {
   "cell_type": "markdown",
   "metadata": {},
   "source": [
    "3. Méthodologie et approche proposée :\n",
    "\n",
    "L’article présente une revue détaillée des techniques suivantes utilisées pour le post-training :\n",
    "\n",
    "Fine-tuning supervisé et semi-supervisé (Supervised Fine-tuning - SFT).\n",
    "Apprentissage par renforcement avec retour humain (Reinforcement Learning with Human Feedback - RLHF).\n",
    "Distillation de connaissances (Knowledge Distillation).\n",
    "Prompt Tuning et Prefix Tuning pour spécialiser rapidement les modèles sans réentraînement complet.\n",
    "Techniques avancées d’alignement et d’évaluation de l’adaptation à la tâche.\n",
    "La méthodologie utilisée est une analyse systématique des publications récentes, comparant précisément ces techniques en termes d'efficacité, de coût de calcul, et d'amélioration des performances."
   ]
  },
  {
   "cell_type": "markdown",
   "metadata": {},
   "source": [
    "4. Résultats principaux :\n",
    "\n",
    "Les principaux résultats relevés dans cette étude sont :\n",
    "\n",
    "Le fine-tuning supervisé reste la méthode la plus répandue mais coûteuse, efficace surtout quand de grandes quantités de données annotées existent.\n",
    "Le RLHF (apprentissage par renforcement avec feedback humain) est particulièrement efficace pour l'alignement éthique et la génération de réponses plus « humaines ».\n",
    "Le prompt-tuning offre une excellente efficacité en réduisant considérablement les coûts computationnels, avec cependant une performance légèrement inférieure aux méthodes supervisées.\n",
    "La distillation de connaissances permet de créer des modèles compacts conservant une grande partie des performances des grands modèles.\n",
    "Des efforts croissants visent à rendre ces modèles plus efficaces énergétiquement tout en conservant leur performance."
   ]
  },
  {
   "cell_type": "markdown",
   "metadata": {},
   "source": [
    "5. Datasets utilisés, architectures, métriques d’évaluation :\n",
    "\n",
    "Datasets :\n",
    "Utilisation fréquente de benchmarks standards comme SuperGLUE, MMLU, TruthfulQA, AlpacaEval, et HELM.\n",
    "Jeux de données spécifiques pour l'évaluation d’alignement (EthicalQA, RealToxicityPrompts).\n",
    "Architectures mentionnées :\n",
    "GPT (GPT-3, GPT-4), LLaMA, PaLM, T5, Falcon, et Mistral AI.\n",
    "Métriques d’évaluation :\n",
    "Métriques de précision (accuracy), scores de performance sur tâches précises.\n",
    "Métriques de coût computationnel (nombre d'opérations flottantes - FLOPs, ressources GPU/TPU nécessaires).\n",
    "Métriques d’évaluation qualitative de l'alignement éthique et de la pertinence des réponses générées.\n"
   ]
  },
  {
   "cell_type": "markdown",
   "metadata": {},
   "source": [
    "6. Forces, limitations et reproductibilité :\n",
    "\n",
    "Forces :\n",
    "Analyse très complète et structurée des méthodes de post-training.\n",
    "Excellente couverture des techniques actuelles les plus performantes et prometteuses.\n",
    "Identification claire des compromis entre performance et coût.\n",
    "Limitations :\n",
    "Repose essentiellement sur des résultats existants sans tests expérimentaux originaux par les auteurs eux-mêmes.\n",
    "Manque relatif d'analyse critique approfondie sur la transférabilité à d'autres domaines spécifiques.\n",
    "Reproductibilité :\n",
    "Bonne reproductibilité générale, car basée sur des méthodes et benchmarks standards largement adoptés dans la communauté.\n"
   ]
  },
  {
   "cell_type": "markdown",
   "metadata": {},
   "source": [
    "7. Tendances et méthodes innovantes observées :\n",
    "\n",
    "Popularité croissante du prompt-tuning et du RLHF en raison du compromis favorable entre performance et coût.\n",
    "Importance accrue de l'alignement éthique et de l’adaptation rapide aux tâches spécifiques.\n",
    "Intérêt majeur vers les approches économes en ressources (efficacité énergétique).\n"
   ]
  },
  {
   "cell_type": "markdown",
   "metadata": {},
   "source": [
    "8. Limites et défis récurrents identifiés :\n",
    "\n",
    "Coût élevé de calcul du fine-tuning complet.\n",
    "Dépendance forte aux annotations humaines pour RLHF.\n",
    "Difficultés à généraliser l'efficacité des modèles compacts issus de la distillation à toutes les tâches.\n"
   ]
  },
  {
   "cell_type": "markdown",
   "metadata": {},
   "source": []
  },
  {
   "cell_type": "markdown",
   "metadata": {},
   "source": [
    "9. Perspectives d'avenir proposées :\n",
    "\n",
    "Automatisation accrue du post-training en utilisant des systèmes semi-autonomes pour réduire les interventions humaines.\n",
    "Développement de techniques hybrides combinant distillation, prompt-tuning et RLHF.\n",
    "Nécessité de nouvelles métriques pour mieux quantifier l'efficacité énergétique et éthique des LLMs.\n"
   ]
  },
  {
   "cell_type": "markdown",
   "metadata": {},
   "source": []
  }
 ],
 "metadata": {
  "kernelspec": {
   "display_name": "3.8.10",
   "language": "python",
   "name": "python3"
  },
  "language_info": {
   "name": "python",
   "version": "3.8.10"
  }
 },
 "nbformat": 4,
 "nbformat_minor": 2
}
