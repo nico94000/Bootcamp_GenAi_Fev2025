{
 "cells": [
  {
   "cell_type": "markdown",
   "metadata": {},
   "source": [
    "Hackaton"
   ]
  },
  {
   "cell_type": "markdown",
   "metadata": {},
   "source": [
    "!!!!!!!!!!!!!!!!!!!!!!!!!!!!!!!!!!“Social Sentiment: Global Trends in Public Discussions”!!!!!!!!!!!!!!!!!!!!!!!!!!!!!!"
   ]
  },
  {
   "cell_type": "code",
   "execution_count": 67,
   "metadata": {},
   "outputs": [],
   "source": [
    "import pandas as pd\n",
    "import numpy as np\n",
    "import matplotlib.pyplot as plt\n",
    "import seaborn as sns\n",
    "import scipy.stats as stats\n",
    "\n",
    "import re\n",
    "import nltk\n",
    "from nltk.corpus import stopwords\n",
    "from collections import Counter\n",
    "from wordcloud import WordCloud\n",
    "from sklearn.feature_extraction.text import CountVectorizer\n"
   ]
  },
  {
   "cell_type": "code",
   "execution_count": 3,
   "metadata": {},
   "outputs": [],
   "source": [
    "# file_path = \"messi.csv\",\n",
    "# df = pd.read_csv(file_path)\n",
    "file_path = (\"messi.csv\", \"ronaldo.csv\")"
   ]
  },
  {
   "cell_type": "code",
   "execution_count": 4,
   "metadata": {},
   "outputs": [],
   "source": [
    "# Read each file separately\n",
    "df_messi = pd.read_csv(file_path[0])\n",
    "df_ronaldo = pd.read_csv(file_path[1])\n",
    "\n",
    "# Concatenate the dataframes if needed\n",
    "df = pd.concat([df_messi, df_ronaldo], ignore_index=True)"
   ]
  },
  {
   "cell_type": "code",
   "execution_count": 5,
   "metadata": {},
   "outputs": [
    {
     "data": {
      "text/html": [
       "<div>\n",
       "<style scoped>\n",
       "    .dataframe tbody tr th:only-of-type {\n",
       "        vertical-align: middle;\n",
       "    }\n",
       "\n",
       "    .dataframe tbody tr th {\n",
       "        vertical-align: top;\n",
       "    }\n",
       "\n",
       "    .dataframe thead th {\n",
       "        text-align: right;\n",
       "    }\n",
       "</style>\n",
       "<table border=\"1\" class=\"dataframe\">\n",
       "  <thead>\n",
       "    <tr style=\"text-align: right;\">\n",
       "      <th></th>\n",
       "      <th>tweet_id</th>\n",
       "      <th>author_id</th>\n",
       "      <th>content</th>\n",
       "      <th>lang</th>\n",
       "      <th>date</th>\n",
       "      <th>source</th>\n",
       "      <th>geo</th>\n",
       "      <th>retweet_count</th>\n",
       "      <th>like_count</th>\n",
       "      <th>quote_count</th>\n",
       "    </tr>\n",
       "  </thead>\n",
       "  <tbody>\n",
       "    <tr>\n",
       "      <th>0</th>\n",
       "      <td>1554369750175780864</td>\n",
       "      <td>936125201540149248</td>\n",
       "      <td>only lionel messi has more in every category</td>\n",
       "      <td>en</td>\n",
       "      <td>2022-08-02T07:33:21.000Z</td>\n",
       "      <td>Twitter for iPhone</td>\n",
       "      <td>-1</td>\n",
       "      <td>0.0</td>\n",
       "      <td>0.0</td>\n",
       "      <td>0.0</td>\n",
       "    </tr>\n",
       "    <tr>\n",
       "      <th>1</th>\n",
       "      <td>1554369704265129984</td>\n",
       "      <td>719822976829546497</td>\n",
       "      <td>balls riqui actually had talent at that time h...</td>\n",
       "      <td>en</td>\n",
       "      <td>2022-08-02T07:33:10.000Z</td>\n",
       "      <td>Twitter for Android</td>\n",
       "      <td>-1</td>\n",
       "      <td>0.0</td>\n",
       "      <td>0.0</td>\n",
       "      <td>0.0</td>\n",
       "    </tr>\n",
       "    <tr>\n",
       "      <th>2</th>\n",
       "      <td>1554369683473645568</td>\n",
       "      <td>1124462707355181056</td>\n",
       "      <td>when messi winning everything then you will bl...</td>\n",
       "      <td>en</td>\n",
       "      <td>2022-08-02T07:33:05.000Z</td>\n",
       "      <td>Twitter for Android</td>\n",
       "      <td>-1</td>\n",
       "      <td>0.0</td>\n",
       "      <td>0.0</td>\n",
       "      <td>0.0</td>\n",
       "    </tr>\n",
       "    <tr>\n",
       "      <th>3</th>\n",
       "      <td>1554369634563940361</td>\n",
       "      <td>1529031568659980288</td>\n",
       "      <td>messi won the treble with barca in</td>\n",
       "      <td>en</td>\n",
       "      <td>2022-08-02T07:32:54.000Z</td>\n",
       "      <td>Twitter for Android</td>\n",
       "      <td>-1</td>\n",
       "      <td>0.0</td>\n",
       "      <td>0.0</td>\n",
       "      <td>0.0</td>\n",
       "    </tr>\n",
       "    <tr>\n",
       "      <th>4</th>\n",
       "      <td>1554369624111734785</td>\n",
       "      <td>1217760894563897345</td>\n",
       "      <td>ronaldo only has the ucl competition as a top ...</td>\n",
       "      <td>en</td>\n",
       "      <td>2022-08-02T07:32:51.000Z</td>\n",
       "      <td>Twitter for Android</td>\n",
       "      <td>-1</td>\n",
       "      <td>0.0</td>\n",
       "      <td>0.0</td>\n",
       "      <td>0.0</td>\n",
       "    </tr>\n",
       "  </tbody>\n",
       "</table>\n",
       "</div>"
      ],
      "text/plain": [
       "              tweet_id            author_id  \\\n",
       "0  1554369750175780864   936125201540149248   \n",
       "1  1554369704265129984   719822976829546497   \n",
       "2  1554369683473645568  1124462707355181056   \n",
       "3  1554369634563940361  1529031568659980288   \n",
       "4  1554369624111734785  1217760894563897345   \n",
       "\n",
       "                                             content lang  \\\n",
       "0       only lionel messi has more in every category   en   \n",
       "1  balls riqui actually had talent at that time h...   en   \n",
       "2  when messi winning everything then you will bl...   en   \n",
       "3                 messi won the treble with barca in   en   \n",
       "4  ronaldo only has the ucl competition as a top ...   en   \n",
       "\n",
       "                       date               source geo  retweet_count  \\\n",
       "0  2022-08-02T07:33:21.000Z   Twitter for iPhone  -1            0.0   \n",
       "1  2022-08-02T07:33:10.000Z  Twitter for Android  -1            0.0   \n",
       "2  2022-08-02T07:33:05.000Z  Twitter for Android  -1            0.0   \n",
       "3  2022-08-02T07:32:54.000Z  Twitter for Android  -1            0.0   \n",
       "4  2022-08-02T07:32:51.000Z  Twitter for Android  -1            0.0   \n",
       "\n",
       "   like_count  quote_count  \n",
       "0         0.0          0.0  \n",
       "1         0.0          0.0  \n",
       "2         0.0          0.0  \n",
       "3         0.0          0.0  \n",
       "4         0.0          0.0  "
      ]
     },
     "execution_count": 5,
     "metadata": {},
     "output_type": "execute_result"
    }
   ],
   "source": [
    "df.head()"
   ]
  },
  {
   "cell_type": "code",
   "execution_count": 6,
   "metadata": {},
   "outputs": [
    {
     "name": "stdout",
     "output_type": "stream",
     "text": [
      "<class 'pandas.core.frame.DataFrame'>\n",
      "RangeIndex: 967149 entries, 0 to 967148\n",
      "Data columns (total 10 columns):\n",
      " #   Column         Non-Null Count   Dtype  \n",
      "---  ------         --------------   -----  \n",
      " 0   tweet_id       967149 non-null  int64  \n",
      " 1   author_id      967149 non-null  int64  \n",
      " 2   content        967127 non-null  object \n",
      " 3   lang           967149 non-null  object \n",
      " 4   date           967149 non-null  object \n",
      " 5   source         967149 non-null  object \n",
      " 6   geo            967149 non-null  object \n",
      " 7   retweet_count  967149 non-null  float64\n",
      " 8   like_count     967149 non-null  float64\n",
      " 9   quote_count    967149 non-null  float64\n",
      "dtypes: float64(3), int64(2), object(5)\n",
      "memory usage: 73.8+ MB\n"
     ]
    }
   ],
   "source": [
    "df.info()"
   ]
  },
  {
   "cell_type": "code",
   "execution_count": 7,
   "metadata": {},
   "outputs": [
    {
     "data": {
      "text/html": [
       "<div>\n",
       "<style scoped>\n",
       "    .dataframe tbody tr th:only-of-type {\n",
       "        vertical-align: middle;\n",
       "    }\n",
       "\n",
       "    .dataframe tbody tr th {\n",
       "        vertical-align: top;\n",
       "    }\n",
       "\n",
       "    .dataframe thead th {\n",
       "        text-align: right;\n",
       "    }\n",
       "</style>\n",
       "<table border=\"1\" class=\"dataframe\">\n",
       "  <thead>\n",
       "    <tr style=\"text-align: right;\">\n",
       "      <th></th>\n",
       "      <th>tweet_id</th>\n",
       "      <th>author_id</th>\n",
       "      <th>retweet_count</th>\n",
       "      <th>like_count</th>\n",
       "      <th>quote_count</th>\n",
       "    </tr>\n",
       "  </thead>\n",
       "  <tbody>\n",
       "    <tr>\n",
       "      <th>count</th>\n",
       "      <td>9.671490e+05</td>\n",
       "      <td>9.671490e+05</td>\n",
       "      <td>967149.000000</td>\n",
       "      <td>967149.000000</td>\n",
       "      <td>967149.000000</td>\n",
       "    </tr>\n",
       "    <tr>\n",
       "      <th>mean</th>\n",
       "      <td>1.526351e+18</td>\n",
       "      <td>9.644884e+17</td>\n",
       "      <td>3.139161</td>\n",
       "      <td>37.531435</td>\n",
       "      <td>0.306607</td>\n",
       "    </tr>\n",
       "    <tr>\n",
       "      <th>std</th>\n",
       "      <td>1.102250e+16</td>\n",
       "      <td>5.845723e+17</td>\n",
       "      <td>77.103634</td>\n",
       "      <td>851.156641</td>\n",
       "      <td>10.409226</td>\n",
       "    </tr>\n",
       "    <tr>\n",
       "      <th>min</th>\n",
       "      <td>1.512352e+18</td>\n",
       "      <td>2.360000e+03</td>\n",
       "      <td>0.000000</td>\n",
       "      <td>0.000000</td>\n",
       "      <td>0.000000</td>\n",
       "    </tr>\n",
       "    <tr>\n",
       "      <th>25%</th>\n",
       "      <td>1.515424e+18</td>\n",
       "      <td>7.026224e+17</td>\n",
       "      <td>0.000000</td>\n",
       "      <td>0.000000</td>\n",
       "      <td>0.000000</td>\n",
       "    </tr>\n",
       "    <tr>\n",
       "      <th>50%</th>\n",
       "      <td>1.524728e+18</td>\n",
       "      <td>1.239876e+18</td>\n",
       "      <td>0.000000</td>\n",
       "      <td>0.000000</td>\n",
       "      <td>0.000000</td>\n",
       "    </tr>\n",
       "    <tr>\n",
       "      <th>75%</th>\n",
       "      <td>1.533542e+18</td>\n",
       "      <td>1.430367e+18</td>\n",
       "      <td>0.000000</td>\n",
       "      <td>2.000000</td>\n",
       "      <td>0.000000</td>\n",
       "    </tr>\n",
       "    <tr>\n",
       "      <th>max</th>\n",
       "      <td>1.554370e+18</td>\n",
       "      <td>1.554358e+18</td>\n",
       "      <td>15804.000000</td>\n",
       "      <td>134246.000000</td>\n",
       "      <td>2899.000000</td>\n",
       "    </tr>\n",
       "  </tbody>\n",
       "</table>\n",
       "</div>"
      ],
      "text/plain": [
       "           tweet_id     author_id  retweet_count     like_count    quote_count\n",
       "count  9.671490e+05  9.671490e+05  967149.000000  967149.000000  967149.000000\n",
       "mean   1.526351e+18  9.644884e+17       3.139161      37.531435       0.306607\n",
       "std    1.102250e+16  5.845723e+17      77.103634     851.156641      10.409226\n",
       "min    1.512352e+18  2.360000e+03       0.000000       0.000000       0.000000\n",
       "25%    1.515424e+18  7.026224e+17       0.000000       0.000000       0.000000\n",
       "50%    1.524728e+18  1.239876e+18       0.000000       0.000000       0.000000\n",
       "75%    1.533542e+18  1.430367e+18       0.000000       2.000000       0.000000\n",
       "max    1.554370e+18  1.554358e+18   15804.000000  134246.000000    2899.000000"
      ]
     },
     "execution_count": 7,
     "metadata": {},
     "output_type": "execute_result"
    }
   ],
   "source": [
    "df.describe()"
   ]
  },
  {
   "cell_type": "code",
   "execution_count": 8,
   "metadata": {},
   "outputs": [
    {
     "name": "stdout",
     "output_type": "stream",
     "text": [
      "Index(['tweet_id', 'author_id', 'content', 'lang', 'date', 'source', 'geo',\n",
      "       'retweet_count', 'like_count', 'quote_count'],\n",
      "      dtype='object')\n"
     ]
    }
   ],
   "source": [
    "print(df.columns)"
   ]
  },
  {
   "cell_type": "code",
   "execution_count": 9,
   "metadata": {},
   "outputs": [
    {
     "name": "stdout",
     "output_type": "stream",
     "text": [
      "tweet_id          0\n",
      "author_id         0\n",
      "content          22\n",
      "lang              0\n",
      "date              0\n",
      "source            0\n",
      "geo               0\n",
      "retweet_count     0\n",
      "like_count        0\n",
      "quote_count       0\n",
      "dtype: int64\n"
     ]
    }
   ],
   "source": [
    "print(df.isnull().sum())"
   ]
  },
  {
   "cell_type": "code",
   "execution_count": 10,
   "metadata": {},
   "outputs": [
    {
     "data": {
      "text/html": [
       "<div>\n",
       "<style scoped>\n",
       "    .dataframe tbody tr th:only-of-type {\n",
       "        vertical-align: middle;\n",
       "    }\n",
       "\n",
       "    .dataframe tbody tr th {\n",
       "        vertical-align: top;\n",
       "    }\n",
       "\n",
       "    .dataframe thead th {\n",
       "        text-align: right;\n",
       "    }\n",
       "</style>\n",
       "<table border=\"1\" class=\"dataframe\">\n",
       "  <thead>\n",
       "    <tr style=\"text-align: right;\">\n",
       "      <th></th>\n",
       "      <th>tweet_id</th>\n",
       "      <th>author_id</th>\n",
       "      <th>content</th>\n",
       "      <th>lang</th>\n",
       "      <th>date</th>\n",
       "      <th>source</th>\n",
       "      <th>geo</th>\n",
       "      <th>retweet_count</th>\n",
       "      <th>like_count</th>\n",
       "      <th>quote_count</th>\n",
       "    </tr>\n",
       "  </thead>\n",
       "  <tbody>\n",
       "    <tr>\n",
       "      <th>0</th>\n",
       "      <td>1554369750175780864</td>\n",
       "      <td>936125201540149248</td>\n",
       "      <td>only lionel messi has more in every category</td>\n",
       "      <td>en</td>\n",
       "      <td>2022-08-02T07:33:21.000Z</td>\n",
       "      <td>Twitter for iPhone</td>\n",
       "      <td>-1</td>\n",
       "      <td>0.0</td>\n",
       "      <td>0.0</td>\n",
       "      <td>0.0</td>\n",
       "    </tr>\n",
       "    <tr>\n",
       "      <th>1</th>\n",
       "      <td>1554369704265129984</td>\n",
       "      <td>719822976829546497</td>\n",
       "      <td>balls riqui actually had talent at that time h...</td>\n",
       "      <td>en</td>\n",
       "      <td>2022-08-02T07:33:10.000Z</td>\n",
       "      <td>Twitter for Android</td>\n",
       "      <td>-1</td>\n",
       "      <td>0.0</td>\n",
       "      <td>0.0</td>\n",
       "      <td>0.0</td>\n",
       "    </tr>\n",
       "    <tr>\n",
       "      <th>2</th>\n",
       "      <td>1554369683473645568</td>\n",
       "      <td>1124462707355181056</td>\n",
       "      <td>when messi winning everything then you will bl...</td>\n",
       "      <td>en</td>\n",
       "      <td>2022-08-02T07:33:05.000Z</td>\n",
       "      <td>Twitter for Android</td>\n",
       "      <td>-1</td>\n",
       "      <td>0.0</td>\n",
       "      <td>0.0</td>\n",
       "      <td>0.0</td>\n",
       "    </tr>\n",
       "    <tr>\n",
       "      <th>3</th>\n",
       "      <td>1554369634563940361</td>\n",
       "      <td>1529031568659980288</td>\n",
       "      <td>messi won the treble with barca in</td>\n",
       "      <td>en</td>\n",
       "      <td>2022-08-02T07:32:54.000Z</td>\n",
       "      <td>Twitter for Android</td>\n",
       "      <td>-1</td>\n",
       "      <td>0.0</td>\n",
       "      <td>0.0</td>\n",
       "      <td>0.0</td>\n",
       "    </tr>\n",
       "    <tr>\n",
       "      <th>4</th>\n",
       "      <td>1554369624111734785</td>\n",
       "      <td>1217760894563897345</td>\n",
       "      <td>ronaldo only has the ucl competition as a top ...</td>\n",
       "      <td>en</td>\n",
       "      <td>2022-08-02T07:32:51.000Z</td>\n",
       "      <td>Twitter for Android</td>\n",
       "      <td>-1</td>\n",
       "      <td>0.0</td>\n",
       "      <td>0.0</td>\n",
       "      <td>0.0</td>\n",
       "    </tr>\n",
       "  </tbody>\n",
       "</table>\n",
       "</div>"
      ],
      "text/plain": [
       "              tweet_id            author_id  \\\n",
       "0  1554369750175780864   936125201540149248   \n",
       "1  1554369704265129984   719822976829546497   \n",
       "2  1554369683473645568  1124462707355181056   \n",
       "3  1554369634563940361  1529031568659980288   \n",
       "4  1554369624111734785  1217760894563897345   \n",
       "\n",
       "                                             content lang  \\\n",
       "0       only lionel messi has more in every category   en   \n",
       "1  balls riqui actually had talent at that time h...   en   \n",
       "2  when messi winning everything then you will bl...   en   \n",
       "3                 messi won the treble with barca in   en   \n",
       "4  ronaldo only has the ucl competition as a top ...   en   \n",
       "\n",
       "                       date               source geo  retweet_count  \\\n",
       "0  2022-08-02T07:33:21.000Z   Twitter for iPhone  -1            0.0   \n",
       "1  2022-08-02T07:33:10.000Z  Twitter for Android  -1            0.0   \n",
       "2  2022-08-02T07:33:05.000Z  Twitter for Android  -1            0.0   \n",
       "3  2022-08-02T07:32:54.000Z  Twitter for Android  -1            0.0   \n",
       "4  2022-08-02T07:32:51.000Z  Twitter for Android  -1            0.0   \n",
       "\n",
       "   like_count  quote_count  \n",
       "0         0.0          0.0  \n",
       "1         0.0          0.0  \n",
       "2         0.0          0.0  \n",
       "3         0.0          0.0  \n",
       "4         0.0          0.0  "
      ]
     },
     "execution_count": 10,
     "metadata": {},
     "output_type": "execute_result"
    }
   ],
   "source": [
    "df.head()"
   ]
  },
  {
   "cell_type": "code",
   "execution_count": 163,
   "metadata": {},
   "outputs": [],
   "source": [
    "# df_ronaldo"
   ]
  },
  {
   "cell_type": "code",
   "execution_count": 37,
   "metadata": {},
   "outputs": [],
   "source": [
    "# df_messi"
   ]
  },
  {
   "cell_type": "markdown",
   "metadata": {},
   "source": [
    "Nous affichons les valeurs manquantes pour les deux df (ronaldo et messi) en même temps graçe à la concaténation. RECHERCHE DES VALEURS MANQUANTES POUR LES DEUUX df (ronaldo et messi)"
   ]
  },
  {
   "cell_type": "code",
   "execution_count": 11,
   "metadata": {},
   "outputs": [
    {
     "name": "stdout",
     "output_type": "stream",
     "text": [
      "Valeurs manquantes dans les fichier Ronaldo et messi:\n",
      "tweet_id          0\n",
      "author_id         0\n",
      "content          22\n",
      "lang              0\n",
      "date              0\n",
      "source            0\n",
      "geo               0\n",
      "retweet_count     0\n",
      "like_count        0\n",
      "quote_count       0\n",
      "dtype: int64\n"
     ]
    }
   ],
   "source": [
    "\n",
    "# print(\"Valeurs manquantes dans Ronaldo:\")\n",
    "# print(df_ronaldo.isnull().sum())\n",
    "\n",
    "# print(\"\\nValeurs manquantes dans Messi:\")\n",
    "# print(df_messi.isnull().sum())\n",
    "\n",
    "\n",
    "print(\"Valeurs manquantes dans les fichier Ronaldo et messi:\")\n",
    "print(df.isnull().sum())\n"
   ]
  },
  {
   "cell_type": "code",
   "execution_count": 12,
   "metadata": {},
   "outputs": [],
   "source": [
    "# df_ronaldo = df_ronaldo.dropna()\n",
    "# df_messi = df_messi.dropna()\n",
    "\n",
    "df = df.dropna()\n"
   ]
  },
  {
   "cell_type": "markdown",
   "metadata": {},
   "source": [
    "Renommer la colonne 'date' en 'Timestamp' avant de convertir en datetime"
   ]
  },
  {
   "cell_type": "code",
   "execution_count": 13,
   "metadata": {},
   "outputs": [],
   "source": [
    "# # Renommer la colonne 'date' en 'Timestamp' avant de convertir en datetime\n",
    "# df_ronaldo.rename(columns={\"date\": \"Timestamp\"}, inplace=True)\n",
    "# df_messi.rename(columns={\"date\": \"Timestamp\"}, inplace=True)\n",
    "\n",
    "# # Convertir la colonne Timestamp en format datetime\n",
    "# df_ronaldo[\"Timestamp\"] = pd.to_datetime(df_ronaldo[\"Timestamp\"], errors=\"coerce\")\n",
    "# df_messi[\"Timestamp\"] = pd.to_datetime(df_messi[\"Timestamp\"], errors=\"coerce\")\n",
    "\n",
    "\n",
    "df.rename(columns={\"date\": \"Timestamp\"}, inplace=True)"
   ]
  },
  {
   "cell_type": "code",
   "execution_count": 70,
   "metadata": {},
   "outputs": [
    {
     "data": {
      "text/html": [
       "<div>\n",
       "<style scoped>\n",
       "    .dataframe tbody tr th:only-of-type {\n",
       "        vertical-align: middle;\n",
       "    }\n",
       "\n",
       "    .dataframe tbody tr th {\n",
       "        vertical-align: top;\n",
       "    }\n",
       "\n",
       "    .dataframe thead th {\n",
       "        text-align: right;\n",
       "    }\n",
       "</style>\n",
       "<table border=\"1\" class=\"dataframe\">\n",
       "  <thead>\n",
       "    <tr style=\"text-align: right;\">\n",
       "      <th></th>\n",
       "      <th>tweet_id</th>\n",
       "      <th>author_id</th>\n",
       "      <th>content</th>\n",
       "      <th>lang</th>\n",
       "      <th>Timestamp</th>\n",
       "      <th>source</th>\n",
       "      <th>geo</th>\n",
       "      <th>retweet_count</th>\n",
       "      <th>like_count</th>\n",
       "      <th>quote_count</th>\n",
       "    </tr>\n",
       "  </thead>\n",
       "  <tbody>\n",
       "    <tr>\n",
       "      <th>0</th>\n",
       "      <td>1554369750175780864</td>\n",
       "      <td>936125201540149248</td>\n",
       "      <td>only lionel messi has more in every category</td>\n",
       "      <td>en</td>\n",
       "      <td>2022-08-02T07:33:21.000Z</td>\n",
       "      <td>Twitter for iPhone</td>\n",
       "      <td>-1</td>\n",
       "      <td>0.0</td>\n",
       "      <td>0.0</td>\n",
       "      <td>0.0</td>\n",
       "    </tr>\n",
       "    <tr>\n",
       "      <th>1</th>\n",
       "      <td>1554369704265129984</td>\n",
       "      <td>719822976829546497</td>\n",
       "      <td>balls riqui actually had talent at that time h...</td>\n",
       "      <td>en</td>\n",
       "      <td>2022-08-02T07:33:10.000Z</td>\n",
       "      <td>Twitter for Android</td>\n",
       "      <td>-1</td>\n",
       "      <td>0.0</td>\n",
       "      <td>0.0</td>\n",
       "      <td>0.0</td>\n",
       "    </tr>\n",
       "    <tr>\n",
       "      <th>2</th>\n",
       "      <td>1554369683473645568</td>\n",
       "      <td>1124462707355181056</td>\n",
       "      <td>when messi winning everything then you will bl...</td>\n",
       "      <td>en</td>\n",
       "      <td>2022-08-02T07:33:05.000Z</td>\n",
       "      <td>Twitter for Android</td>\n",
       "      <td>-1</td>\n",
       "      <td>0.0</td>\n",
       "      <td>0.0</td>\n",
       "      <td>0.0</td>\n",
       "    </tr>\n",
       "    <tr>\n",
       "      <th>3</th>\n",
       "      <td>1554369634563940361</td>\n",
       "      <td>1529031568659980288</td>\n",
       "      <td>messi won the treble with barca in</td>\n",
       "      <td>en</td>\n",
       "      <td>2022-08-02T07:32:54.000Z</td>\n",
       "      <td>Twitter for Android</td>\n",
       "      <td>-1</td>\n",
       "      <td>0.0</td>\n",
       "      <td>0.0</td>\n",
       "      <td>0.0</td>\n",
       "    </tr>\n",
       "    <tr>\n",
       "      <th>4</th>\n",
       "      <td>1554369624111734785</td>\n",
       "      <td>1217760894563897345</td>\n",
       "      <td>ronaldo only has the ucl competition as a top ...</td>\n",
       "      <td>en</td>\n",
       "      <td>2022-08-02T07:32:51.000Z</td>\n",
       "      <td>Twitter for Android</td>\n",
       "      <td>-1</td>\n",
       "      <td>0.0</td>\n",
       "      <td>0.0</td>\n",
       "      <td>0.0</td>\n",
       "    </tr>\n",
       "    <tr>\n",
       "      <th>...</th>\n",
       "      <td>...</td>\n",
       "      <td>...</td>\n",
       "      <td>...</td>\n",
       "      <td>...</td>\n",
       "      <td>...</td>\n",
       "      <td>...</td>\n",
       "      <td>...</td>\n",
       "      <td>...</td>\n",
       "      <td>...</td>\n",
       "      <td>...</td>\n",
       "    </tr>\n",
       "    <tr>\n",
       "      <th>967144</th>\n",
       "      <td>1515850721681416195</td>\n",
       "      <td>597636087</td>\n",
       "      <td>needing a ronaldo hatrick to beat norwich is m...</td>\n",
       "      <td>en</td>\n",
       "      <td>2022-04-18T00:32:29.000Z</td>\n",
       "      <td>Twitter for Android</td>\n",
       "      <td>-1</td>\n",
       "      <td>0.0</td>\n",
       "      <td>0.0</td>\n",
       "      <td>0.0</td>\n",
       "    </tr>\n",
       "    <tr>\n",
       "      <th>967145</th>\n",
       "      <td>1515850716518227972</td>\n",
       "      <td>1408952337302011915</td>\n",
       "      <td>this is fake saf said messi is clear</td>\n",
       "      <td>en</td>\n",
       "      <td>2022-04-18T00:32:28.000Z</td>\n",
       "      <td>Twitter for iPhone</td>\n",
       "      <td>-1</td>\n",
       "      <td>0.0</td>\n",
       "      <td>0.0</td>\n",
       "      <td>0.0</td>\n",
       "    </tr>\n",
       "    <tr>\n",
       "      <th>967146</th>\n",
       "      <td>1515850679046320134</td>\n",
       "      <td>1303392584727838721</td>\n",
       "      <td>wonderful moment cr</td>\n",
       "      <td>en</td>\n",
       "      <td>2022-04-18T00:32:19.000Z</td>\n",
       "      <td>Twitter for Android</td>\n",
       "      <td>04f58e21fc69d75a</td>\n",
       "      <td>0.0</td>\n",
       "      <td>1.0</td>\n",
       "      <td>0.0</td>\n",
       "    </tr>\n",
       "    <tr>\n",
       "      <th>967147</th>\n",
       "      <td>1515850628689547271</td>\n",
       "      <td>1369425436300742656</td>\n",
       "      <td>this isn t about you this is about ronaldo who...</td>\n",
       "      <td>en</td>\n",
       "      <td>2022-04-18T00:32:07.000Z</td>\n",
       "      <td>Twitter for Android</td>\n",
       "      <td>-1</td>\n",
       "      <td>0.0</td>\n",
       "      <td>0.0</td>\n",
       "      <td>0.0</td>\n",
       "    </tr>\n",
       "    <tr>\n",
       "      <th>967148</th>\n",
       "      <td>1515850625333923845</td>\n",
       "      <td>1227156887050678272</td>\n",
       "      <td>morning blue bird since everyone is sleeping r...</td>\n",
       "      <td>en</td>\n",
       "      <td>2022-04-18T00:32:06.000Z</td>\n",
       "      <td>Twitter for iPhone</td>\n",
       "      <td>-1</td>\n",
       "      <td>0.0</td>\n",
       "      <td>5.0</td>\n",
       "      <td>0.0</td>\n",
       "    </tr>\n",
       "  </tbody>\n",
       "</table>\n",
       "<p>967127 rows × 10 columns</p>\n",
       "</div>"
      ],
      "text/plain": [
       "                   tweet_id            author_id  \\\n",
       "0       1554369750175780864   936125201540149248   \n",
       "1       1554369704265129984   719822976829546497   \n",
       "2       1554369683473645568  1124462707355181056   \n",
       "3       1554369634563940361  1529031568659980288   \n",
       "4       1554369624111734785  1217760894563897345   \n",
       "...                     ...                  ...   \n",
       "967144  1515850721681416195            597636087   \n",
       "967145  1515850716518227972  1408952337302011915   \n",
       "967146  1515850679046320134  1303392584727838721   \n",
       "967147  1515850628689547271  1369425436300742656   \n",
       "967148  1515850625333923845  1227156887050678272   \n",
       "\n",
       "                                                  content lang  \\\n",
       "0            only lionel messi has more in every category   en   \n",
       "1       balls riqui actually had talent at that time h...   en   \n",
       "2       when messi winning everything then you will bl...   en   \n",
       "3                      messi won the treble with barca in   en   \n",
       "4       ronaldo only has the ucl competition as a top ...   en   \n",
       "...                                                   ...  ...   \n",
       "967144  needing a ronaldo hatrick to beat norwich is m...   en   \n",
       "967145               this is fake saf said messi is clear   en   \n",
       "967146                                wonderful moment cr   en   \n",
       "967147  this isn t about you this is about ronaldo who...   en   \n",
       "967148  morning blue bird since everyone is sleeping r...   en   \n",
       "\n",
       "                       Timestamp               source               geo  \\\n",
       "0       2022-08-02T07:33:21.000Z   Twitter for iPhone                -1   \n",
       "1       2022-08-02T07:33:10.000Z  Twitter for Android                -1   \n",
       "2       2022-08-02T07:33:05.000Z  Twitter for Android                -1   \n",
       "3       2022-08-02T07:32:54.000Z  Twitter for Android                -1   \n",
       "4       2022-08-02T07:32:51.000Z  Twitter for Android                -1   \n",
       "...                          ...                  ...               ...   \n",
       "967144  2022-04-18T00:32:29.000Z  Twitter for Android                -1   \n",
       "967145  2022-04-18T00:32:28.000Z   Twitter for iPhone                -1   \n",
       "967146  2022-04-18T00:32:19.000Z  Twitter for Android  04f58e21fc69d75a   \n",
       "967147  2022-04-18T00:32:07.000Z  Twitter for Android                -1   \n",
       "967148  2022-04-18T00:32:06.000Z   Twitter for iPhone                -1   \n",
       "\n",
       "        retweet_count  like_count  quote_count  \n",
       "0                 0.0         0.0          0.0  \n",
       "1                 0.0         0.0          0.0  \n",
       "2                 0.0         0.0          0.0  \n",
       "3                 0.0         0.0          0.0  \n",
       "4                 0.0         0.0          0.0  \n",
       "...               ...         ...          ...  \n",
       "967144            0.0         0.0          0.0  \n",
       "967145            0.0         0.0          0.0  \n",
       "967146            0.0         1.0          0.0  \n",
       "967147            0.0         0.0          0.0  \n",
       "967148            0.0         5.0          0.0  \n",
       "\n",
       "[967127 rows x 10 columns]"
      ]
     },
     "execution_count": 70,
     "metadata": {},
     "output_type": "execute_result"
    }
   ],
   "source": [
    "df"
   ]
  },
  {
   "cell_type": "code",
   "execution_count": 71,
   "metadata": {},
   "outputs": [
    {
     "name": "stdout",
     "output_type": "stream",
     "text": [
      "Colonnes dans Messi et ronaldo dataset:                    tweet_id            author_id  \\\n",
      "0       1554369750175780864   936125201540149248   \n",
      "1       1554369704265129984   719822976829546497   \n",
      "2       1554369683473645568  1124462707355181056   \n",
      "3       1554369634563940361  1529031568659980288   \n",
      "4       1554369624111734785  1217760894563897345   \n",
      "...                     ...                  ...   \n",
      "967144  1515850721681416195            597636087   \n",
      "967145  1515850716518227972  1408952337302011915   \n",
      "967146  1515850679046320134  1303392584727838721   \n",
      "967147  1515850628689547271  1369425436300742656   \n",
      "967148  1515850625333923845  1227156887050678272   \n",
      "\n",
      "                                                  content lang  \\\n",
      "0            only lionel messi has more in every category   en   \n",
      "1       balls riqui actually had talent at that time h...   en   \n",
      "2       when messi winning everything then you will bl...   en   \n",
      "3                      messi won the treble with barca in   en   \n",
      "4       ronaldo only has the ucl competition as a top ...   en   \n",
      "...                                                   ...  ...   \n",
      "967144  needing a ronaldo hatrick to beat norwich is m...   en   \n",
      "967145               this is fake saf said messi is clear   en   \n",
      "967146                                wonderful moment cr   en   \n",
      "967147  this isn t about you this is about ronaldo who...   en   \n",
      "967148  morning blue bird since everyone is sleeping r...   en   \n",
      "\n",
      "                       Timestamp               source               geo  \\\n",
      "0       2022-08-02T07:33:21.000Z   Twitter for iPhone                -1   \n",
      "1       2022-08-02T07:33:10.000Z  Twitter for Android                -1   \n",
      "2       2022-08-02T07:33:05.000Z  Twitter for Android                -1   \n",
      "3       2022-08-02T07:32:54.000Z  Twitter for Android                -1   \n",
      "4       2022-08-02T07:32:51.000Z  Twitter for Android                -1   \n",
      "...                          ...                  ...               ...   \n",
      "967144  2022-04-18T00:32:29.000Z  Twitter for Android                -1   \n",
      "967145  2022-04-18T00:32:28.000Z   Twitter for iPhone                -1   \n",
      "967146  2022-04-18T00:32:19.000Z  Twitter for Android  04f58e21fc69d75a   \n",
      "967147  2022-04-18T00:32:07.000Z  Twitter for Android                -1   \n",
      "967148  2022-04-18T00:32:06.000Z   Twitter for iPhone                -1   \n",
      "\n",
      "        retweet_count  like_count  quote_count  \n",
      "0                 0.0         0.0          0.0  \n",
      "1                 0.0         0.0          0.0  \n",
      "2                 0.0         0.0          0.0  \n",
      "3                 0.0         0.0          0.0  \n",
      "4                 0.0         0.0          0.0  \n",
      "...               ...         ...          ...  \n",
      "967144            0.0         0.0          0.0  \n",
      "967145            0.0         0.0          0.0  \n",
      "967146            0.0         1.0          0.0  \n",
      "967147            0.0         0.0          0.0  \n",
      "967148            0.0         5.0          0.0  \n",
      "\n",
      "[967127 rows x 10 columns]\n"
     ]
    }
   ],
   "source": [
    "# print(\"Colonnes dans Ronaldo dataset:\", df_ronaldo.columns)\n",
    "# print(\"Colonnes dans Messi dataset:\", df_messi.columns)\n",
    "\n",
    "print(\"Colonnes dans Messi et ronaldo dataset:\", df)"
   ]
  },
  {
   "cell_type": "code",
   "execution_count": 72,
   "metadata": {},
   "outputs": [
    {
     "name": "stdout",
     "output_type": "stream",
     "text": [
      "Le nom des Colones pour ronaldo et messi Index(['tweet_id', 'author_id', 'content', 'lang', 'Timestamp', 'source',\n",
      "       'geo', 'retweet_count', 'like_count', 'quote_count'],\n",
      "      dtype='object')\n"
     ]
    }
   ],
   "source": [
    "print(\"Le nom des Colones pour ronaldo et messi\", df.columns)"
   ]
  },
  {
   "cell_type": "markdown",
   "metadata": {},
   "source": [
    "Nous ajoutons une colone \"player\" pour différencier les tweet entre Ronaldo et Messi. Puis concaténatiion des deux data set (Messi et ronaldo) en une seule.  !!!! Sachant que les deux dattaset ont des colones identiques"
   ]
  },
  {
   "cell_type": "code",
   "execution_count": 14,
   "metadata": {},
   "outputs": [
    {
     "name": "stdout",
     "output_type": "stream",
     "text": [
      "              tweet_id            author_id  \\\n",
      "0  1554369938630103040  1413800950846922757   \n",
      "1  1554369912428167170  1331632873338793986   \n",
      "2  1554369829414502400  1193232041959186434   \n",
      "3  1554369821432840192   727241246465527809   \n",
      "4  1554369806714867712  1324146514495741952   \n",
      "\n",
      "                                             content lang  \\\n",
      "0  we fell down to with ronaldo and no big team w...   en   \n",
      "1  man utd transfer news live frenkie de jong fin...   en   \n",
      "2  r and ronaldinho make me smile when i saw than...   en   \n",
      "3  ronaldo was in the best champions league team ...   en   \n",
      "4  from cristiano ronaldo s point of view it is a...   en   \n",
      "\n",
      "                       date               source geo  retweet_count  \\\n",
      "0  2022-08-02T07:34:06.000Z  Twitter for Android  -1            0.0   \n",
      "1  2022-08-02T07:34:00.000Z            Publer.io  -1            0.0   \n",
      "2  2022-08-02T07:33:40.000Z   Twitter for iPhone  -1            0.0   \n",
      "3  2022-08-02T07:33:38.000Z  Twitter for Android  -1            0.0   \n",
      "4  2022-08-02T07:33:35.000Z        WordPress.com  -1            0.0   \n",
      "\n",
      "   like_count  quote_count   player  \n",
      "0         0.0          0.0  Ronaldo  \n",
      "1         0.0          0.0  Ronaldo  \n",
      "2         0.0          0.0  Ronaldo  \n",
      "3         0.0          0.0  Ronaldo  \n",
      "4         0.0          0.0  Ronaldo  \n",
      "Nombre total de tweets combinés : 967149\n"
     ]
    }
   ],
   "source": [
    "# !!!!!!!!!!!!!!! ATTENTION 2X CONCATENATION df_combined\n",
    "\n",
    "import pandas as pd\n",
    "\n",
    "# Ajouter une colonne 'player' pour différencier les tweets\n",
    "df_ronaldo[\"player\"] = \"Ronaldo\"\n",
    "df_messi[\"player\"] = \"Messi\"\n",
    "\n",
    "# Concaténer les deux datasets en gardant toutes les colonnes\n",
    "df_combined = pd.concat([df_ronaldo, df_messi], ignore_index=True)\n",
    "\n",
    "# # # Afficher un aperçu du dataset fusionné\n",
    "print(df_combined.head())\n",
    "print(\"Nombre total de tweets combinés :\", len(df_combined))\n"
   ]
  },
  {
   "cell_type": "code",
   "execution_count": 15,
   "metadata": {},
   "outputs": [
    {
     "name": "stdout",
     "output_type": "stream",
     "text": [
      "['Ronaldo' 'Messi']\n"
     ]
    }
   ],
   "source": [
    "# Vérifie cation des valeurs uniques dans la colonne \"player\"\n",
    "print(df_combined[\"player\"].unique())"
   ]
  },
  {
   "cell_type": "code",
   "execution_count": 16,
   "metadata": {},
   "outputs": [
    {
     "name": "stdout",
     "output_type": "stream",
     "text": [
      "Index(['tweet_id', 'author_id', 'content', 'lang', 'date', 'source', 'geo',\n",
      "       'retweet_count', 'like_count', 'quote_count', 'player'],\n",
      "      dtype='object')\n"
     ]
    }
   ],
   "source": [
    "print(df_combined.columns)"
   ]
  },
  {
   "cell_type": "code",
   "execution_count": 17,
   "metadata": {},
   "outputs": [
    {
     "data": {
      "text/plain": [
       "<bound method DataFrame.info of                    tweet_id            author_id  \\\n",
       "0       1554369938630103040  1413800950846922757   \n",
       "1       1554369912428167170  1331632873338793986   \n",
       "2       1554369829414502400  1193232041959186434   \n",
       "3       1554369821432840192   727241246465527809   \n",
       "4       1554369806714867712  1324146514495741952   \n",
       "...                     ...                  ...   \n",
       "967144  1515845141667500039  1489843259702665216   \n",
       "967145  1515845073476460544  1496170748548943875   \n",
       "967146  1515845061975715850  1249801072408956928   \n",
       "967147  1515845043831070721  1505797638595264512   \n",
       "967148  1515845001485430791  1202283615427727360   \n",
       "\n",
       "                                                  content lang  \\\n",
       "0       we fell down to with ronaldo and no big team w...   en   \n",
       "1       man utd transfer news live frenkie de jong fin...   en   \n",
       "2       r and ronaldinho make me smile when i saw than...   en   \n",
       "3       ronaldo was in the best champions league team ...   en   \n",
       "4       from cristiano ronaldo s point of view it is a...   en   \n",
       "...                                                   ...  ...   \n",
       "967144  it s cringe messi ghosted against ordinary mar...   en   \n",
       "967145  you have to be an injured man to enjoy leo mes...   en   \n",
       "967146  unbelievable i can t believe he used to be my ...   en   \n",
       "967147  becoz messi play with mbappe neymar verrati an...   en   \n",
       "967148  yes we can never see a player going from a goa...   en   \n",
       "\n",
       "                            date               source geo  retweet_count  \\\n",
       "0       2022-08-02T07:34:06.000Z  Twitter for Android  -1            0.0   \n",
       "1       2022-08-02T07:34:00.000Z            Publer.io  -1            0.0   \n",
       "2       2022-08-02T07:33:40.000Z   Twitter for iPhone  -1            0.0   \n",
       "3       2022-08-02T07:33:38.000Z  Twitter for Android  -1            0.0   \n",
       "4       2022-08-02T07:33:35.000Z        WordPress.com  -1            0.0   \n",
       "...                          ...                  ...  ..            ...   \n",
       "967144  2022-04-18T00:10:19.000Z   Twitter for iPhone  -1            1.0   \n",
       "967145  2022-04-18T00:10:03.000Z   Twitter for iPhone  -1            0.0   \n",
       "967146  2022-04-18T00:10:00.000Z      Twitter Web App  -1            0.0   \n",
       "967147  2022-04-18T00:09:56.000Z  Twitter for Android  -1            0.0   \n",
       "967148  2022-04-18T00:09:46.000Z      Twitter Web App  -1            0.0   \n",
       "\n",
       "        like_count  quote_count   player  \n",
       "0              0.0          0.0  Ronaldo  \n",
       "1              0.0          0.0  Ronaldo  \n",
       "2              0.0          0.0  Ronaldo  \n",
       "3              0.0          0.0  Ronaldo  \n",
       "4              0.0          0.0  Ronaldo  \n",
       "...            ...          ...      ...  \n",
       "967144         0.0          0.0    Messi  \n",
       "967145         0.0          0.0    Messi  \n",
       "967146         0.0          0.0    Messi  \n",
       "967147         0.0          0.0    Messi  \n",
       "967148         0.0          0.0    Messi  \n",
       "\n",
       "[967149 rows x 11 columns]>"
      ]
     },
     "execution_count": 17,
     "metadata": {},
     "output_type": "execute_result"
    }
   ],
   "source": [
    "df_combined.info"
   ]
  },
  {
   "cell_type": "markdown",
   "metadata": {},
   "source": [
    "Nous vérifions que \"Player\" abien été ajouté"
   ]
  },
  {
   "cell_type": "code",
   "execution_count": 18,
   "metadata": {},
   "outputs": [
    {
     "name": "stdout",
     "output_type": "stream",
     "text": [
      "La colone Player a bien été ajoutée ! Youpi ;) : Index(['tweet_id', 'author_id', 'content', 'lang', 'date', 'source', 'geo',\n",
      "       'retweet_count', 'like_count', 'quote_count', 'player'],\n",
      "      dtype='object')\n"
     ]
    }
   ],
   "source": [
    "if \"player\" in df_combined.columns:\n",
    "\tprint(\"La colone Player a bien été ajoutée ! Youpi ;) :\", df_combined.columns)"
   ]
  },
  {
   "cell_type": "code",
   "execution_count": 19,
   "metadata": {},
   "outputs": [
    {
     "name": "stdout",
     "output_type": "stream",
     "text": [
      "Index(['tweet_id', 'author_id', 'content', 'lang', 'date', 'source', 'geo',\n",
      "       'retweet_count', 'like_count', 'quote_count', 'player'],\n",
      "      dtype='object')\n"
     ]
    }
   ],
   "source": [
    "print(df_combined.columns)"
   ]
  },
  {
   "cell_type": "markdown",
   "metadata": {},
   "source": [
    "PREPROCESSING DE LA NOUVELLE DATAFRAME COMBINEE \"df_Combined\"\n"
   ]
  },
  {
   "cell_type": "code",
   "execution_count": 20,
   "metadata": {},
   "outputs": [],
   "source": [
    "# Suppression des doublons\n",
    "df_combined = df_combined.drop_duplicates()\n"
   ]
  },
  {
   "cell_type": "code",
   "execution_count": 21,
   "metadata": {},
   "outputs": [
    {
     "name": "stdout",
     "output_type": "stream",
     "text": [
      "Valeurs manquantes après fusion :\n",
      "tweet_id          0\n",
      "author_id         0\n",
      "content          22\n",
      "lang              0\n",
      "date              0\n",
      "source            0\n",
      "geo               0\n",
      "retweet_count     0\n",
      "like_count        0\n",
      "quote_count       0\n",
      "player            0\n",
      "dtype: int64\n"
     ]
    }
   ],
   "source": [
    "print(\"Valeurs manquantes après fusion :\")\n",
    "print(df_combined.isnull().sum())\n"
   ]
  },
  {
   "cell_type": "markdown",
   "metadata": {},
   "source": [
    "GESTION DE LA COLONE \"CONTENT\""
   ]
  },
  {
   "cell_type": "code",
   "execution_count": 22,
   "metadata": {},
   "outputs": [
    {
     "name": "stdout",
     "output_type": "stream",
     "text": [
      "['we fell down to with ronaldo and no big team who wins trophies want him yet you want him at to be our main striker then next year you ll complain about us not winning trophies can t make this shit up'\n",
      " 'man utd transfer news live frenkie de jong final bid latest cristiano ronaldo admission tielemans interested'\n",
      " 'r and ronaldinho make me smile when i saw than on the field stats of course cr but loving football r and ronaldinho'\n",
      " ... 'you have to be an injured man to enjoy leo messi s downfall'\n",
      " 'becoz messi play with mbappe neymar verrati and dimaria that too in farmers league and ronaldo plays with fred and maguire in world most competitive league'\n",
      " 'yes we can never see a player going from a goat debate out of it in just one season goal in messi is and downfall happened cr is amp still a machine ultimate goat']\n"
     ]
    }
   ],
   "source": [
    "print(df_combined[\"content\"].unique())  # Vérifie si \"content\" contient des éléments\n"
   ]
  },
  {
   "cell_type": "markdown",
   "metadata": {},
   "source": [
    "CREATION D'UN DICTIONNAIRE DE MAPPING AVEC DES MOTS CLE POUR RELEVER LES SENTIMENT DES TWEETS"
   ]
  },
  {
   "cell_type": "code",
   "execution_count": 23,
   "metadata": {},
   "outputs": [],
   "source": [
    "# Dictionnaire de mapping des sentiments détaillés vers trois catégories principales (positif négatif et neutre)\n",
    "# On a mis des (Noms génériques, noms communs, argo, expressions verbes)\n",
    "\n",
    "sentiment_mapping = {\n",
    "    # Sentiments positifs (Français)\n",
    "    \"joyeux\": \"positif\", \"heureux\": \"positif\", \"content\": \"positif\", \"satisfait\": \"positif\",\n",
    "    \"excité\": \"positif\", \"enthousiaste\": \"positif\", \"émerveillé\": \"positif\", \"ravi\": \"positif\",\n",
    "    \"confiant\": \"positif\", \"apprécié\": \"positif\", \"chaleureux\": \"positif\", \"positif\": \"positif\",\n",
    "    \"paisible\": \"positif\", \"serein\": \"positif\", \"motivé\": \"positif\", \"amoureux\": \"positif\",\n",
    "    \"reconnaissant\": \"positif\", \"fier\": \"positif\", \"optimiste\": \"positif\", \"joyeusement\": \"positif\",\n",
    "    \"épanoui\": \"positif\", \"radieux\": \"positif\", \"enchanté\": \"positif\", \"comblé\": \"positif\",\n",
    "    \"vivant\": \"positif\", \"détendu\": \"positif\", \"élevé\": \"positif\", \"triomphant\": \"positif\",\n",
    "    \"au top\": \"positif\", \"avoir la pêche\": \"positif\", \"bien dans sa peau\": \"positif\",\n",
    "    \n",
    "    # Sentiments positifs (Anglais)\n",
    "    \"joyful\": \"positive\", \"happy\": \"positive\", \"content\": \"positive\", \"satisfied\": \"positive\",\n",
    "    \"excited\": \"positive\", \"enthusiastic\": \"positive\", \"amazed\": \"positive\", \"delighted\": \"positive\",\n",
    "    \"confident\": \"positive\", \"appreciated\": \"positive\", \"warm\": \"positive\", \"positive\": \"positive\",\n",
    "    \"peaceful\": \"positive\", \"serene\": \"positive\", \"motivated\": \"positive\", \"in love\": \"positive\",\n",
    "    \"grateful\": \"positive\", \"proud\": \"positive\", \"optimistic\": \"positive\", \"cheerful\": \"positive\",\n",
    "    \"hopeful\": \"positive\", \"inspired\": \"positive\", \"elated\": \"positive\", \"blessed\": \"positive\",\n",
    "    \"relaxed\": \"positive\", \"triumphant\": \"positive\", \"uplifted\": \"positive\", \"joyous\": \"positive\",\n",
    "    \"on cloud nine\": \"positive\", \"feeling great\": \"positive\",\n",
    "    \n",
    "    # Sentiments positifs (Espagnol)\n",
    "    \"alegre\": \"positivo\", \"feliz\": \"positivo\", \"contento\": \"positivo\", \"satisfecho\": \"positivo\",\n",
    "    \"emocionado\": \"positivo\", \"entusiasta\": \"positivo\", \"maravillado\": \"positivo\", \"encantado\": \"positivo\",\n",
    "    \"confiado\": \"positivo\", \"agradecido\": \"positivo\", \"calido\": \"positivo\", \"optimista\": \"positivo\",\n",
    "    \n",
    "    # Sentiments positifs (Allemand)\n",
    "    \"glücklich\": \"positiv\", \"zufrieden\": \"positiv\", \"begeistert\": \"positiv\", \"erfreut\": \"positiv\",\n",
    "    \"hoffnungsvoll\": \"positiv\", \"entspannt\": \"positiv\", \"dankbar\": \"positiv\", \"optimistisch\": \"positiv\",\n",
    "    \n",
    "    # Sentiments positifs (Arabe)\n",
    "    \"سعيد\": \"إيجابي\", \"مسرور\": \"إيجابي\", \"راضٍ\": \"إيجابي\", \"متفائل\": \"إيجابي\", \"متحمس\": \"إيجابي\",\n",
    "    \n",
    "    # Sentiments négatifs (Français)\n",
    "    \"triste\": \"négatif\", \"malheureux\": \"négatif\", \"déprimé\": \"négatif\", \"frustré\": \"négatif\",\n",
    "    \"fâché\": \"négatif\", \"colère\": \"négatif\", \"furieux\": \"négatif\", \"horrible\": \"négatif\",\n",
    "    \"effrayé\": \"négatif\", \"inquiet\": \"négatif\", \"angoissé\": \"négatif\", \"désespéré\": \"négatif\",\n",
    "    \"déçu\": \"négatif\", \"irrité\": \"négatif\", \"exaspéré\": \"négatif\", \"fatigué\": \"négatif\",\n",
    "    \"stressé\": \"négatif\", \"honteux\": \"négatif\", \"jaloux\": \"négatif\", \"solitaire\": \"négatif\",\n",
    "    \"blessé\": \"négatif\", \"amer\": \"négatif\", \"désolé\": \"négatif\", \"désorienté\": \"négatif\",\n",
    "    \"mécontent\": \"négatif\", \"démoralisé\": \"négatif\", \"accablé\": \"négatif\",\n",
    "    \"au bout du rouleau\": \"négatif\", \"avoir le cafard\": \"négatif\", \"coup de blues\": \"négatif\",\n",
    "    \n",
    "    # Sentiments négatifs (Anglais)\n",
    "    \"sad\": \"negative\", \"unhappy\": \"negative\", \"depressed\": \"negative\", \"frustrated\": \"negative\",\n",
    "    \"angry\": \"negative\", \"furious\": \"negative\", \"horrible\": \"negative\", \"scared\": \"negative\",\n",
    "    \"worried\": \"negative\", \"anxious\": \"negative\", \"hopeless\": \"negative\", \"disappointed\": \"negative\",\n",
    "    \"irritated\": \"negative\", \"exasperated\": \"negative\", \"tired\": \"negative\", \"stressed\": \"negative\",\n",
    "    \"ashamed\": \"negative\", \"jealous\": \"negative\", \"hurt\": \"negative\", \"lonely\": \"negative\",\n",
    "    \"disoriented\": \"negative\", \"overwhelmed\": \"negative\", \"unmotivated\": \"negative\",\n",
    "    \"down in the dumps\": \"negative\", \"feeling low\": \"negative\",\n",
    "    \n",
    "    # Sentiments négatifs (Espagnol)\n",
    "    \"triste\": \"negativo\", \"infeliz\": \"negativo\", \"deprimido\": \"negativo\", \"frustrado\": \"negativo\",\n",
    "    \"enojado\": \"negativo\", \"furioso\": \"negativo\", \"horrible\": \"negativo\", \"asustado\": \"negativo\",\n",
    "    \"ansioso\": \"negativo\", \"desesperado\": \"negativo\", \"decepcionado\": \"negativo\",\n",
    "    \n",
    "    # Sentiments neutres (Français)\n",
    "    \"neutre\": \"neutre\", \"normal\": \"neutre\", \"indifférent\": \"neutre\", \"calme\": \"neutre\",\n",
    "    \"perplexe\": \"neutre\", \"hésitant\": \"neutre\", \"curieux\": \"neutre\", \"réservé\": \"neutre\",\n",
    "    \"apatique\": \"neutre\", \"impartial\": \"neutre\", \"moyen\": \"neutre\",\n",
    "    \"bof\": \"neutre\", \"rien de spécial\": \"neutre\", \"comme d'habitude\": \"neutre\",\n",
    "    \n",
    "    # Sentiments neutres (Anglais)\n",
    "    \"neutral\": \"neutral\", \"normal\": \"neutral\", \"indifferent\": \"neutral\", \"calm\": \"neutral\",\n",
    "    \"hesitant\": \"neutral\", \"curious\": \"neutral\", \"reserved\": \"neutral\",\n",
    "    \"apathetic\": \"neutral\", \"moderate\": \"neutral\", \"impartial\": \"neutral\",\n",
    "    \"meh\": \"neutral\", \"nothing special\": \"neutral\"\n",
    "}\n",
    "\n",
    "\n",
    "\n",
    "\n",
    "# Appliquer le mapping aux des tweets pour que \"sentiment\" \n",
    "# !!!!!!!!!!!!!!!!!!!!!!!!!!!!!!!!!!!!!!!!!!!!!!!\n",
    "# df_combined[\"Sentiments\"] = df_combined[\"content\"].replace(sentiment_mapping)\n",
    "\n",
    "# # Vérifier les nouvelles valeurs après mapping\n",
    "# print(df_combined[\"Sentiments\"].unique())\n"
   ]
  },
  {
   "cell_type": "code",
   "execution_count": 24,
   "metadata": {},
   "outputs": [
    {
     "name": "stdout",
     "output_type": "stream",
     "text": [
      "Index(['tweet_id', 'author_id', 'content', 'lang', 'date', 'source', 'geo',\n",
      "       'retweet_count', 'like_count', 'quote_count', 'player'],\n",
      "      dtype='object')\n"
     ]
    }
   ],
   "source": [
    "print(df_combined.columns)"
   ]
  },
  {
   "cell_type": "markdown",
   "metadata": {},
   "source": [
    "CHANGEMENT DE LA COLONE \"DATE\" EN \"TIMESTAMP\""
   ]
  },
  {
   "cell_type": "code",
   "execution_count": 25,
   "metadata": {},
   "outputs": [],
   "source": [
    "# df_messi[\"Timestamp\"] = pd.to_datetime(df_messi[\"date\"], errors=\"coerce\")\n",
    "# df_ronaldo[\"Timestamp\"] = pd.to_datetime(df_ronaldo[\"date\"], errors=\"coerce\")\n",
    "\n",
    "df_combined = df_combined.rename(columns={\"date\": \"Timestamp\"})"
   ]
  },
  {
   "cell_type": "code",
   "execution_count": 26,
   "metadata": {},
   "outputs": [
    {
     "name": "stdout",
     "output_type": "stream",
     "text": [
      "Index(['tweet_id', 'author_id', 'content', 'lang', 'Timestamp', 'source',\n",
      "       'geo', 'retweet_count', 'like_count', 'quote_count', 'player'],\n",
      "      dtype='object')\n"
     ]
    }
   ],
   "source": [
    "print(df_combined.columns)"
   ]
  },
  {
   "cell_type": "markdown",
   "metadata": {},
   "source": [
    "<!-- !!nous avions tenté de coder(charger) les 900 000 tweets et malheureusement chargement trop long alors nous decideons d'echantilloner . -->"
   ]
  },
  {
   "cell_type": "markdown",
   "metadata": {},
   "source": [
    "MISE EN PLACE DE L'ECHANTILLONAGE"
   ]
  },
  {
   "cell_type": "code",
   "execution_count": 31,
   "metadata": {},
   "outputs": [
    {
     "name": "stdout",
     "output_type": "stream",
     "text": [
      "Taille du dataset après échantillonnage : 100000\n"
     ]
    }
   ],
   "source": [
    "# On Défini une taille de l'échantillon \n",
    "sample_size = 100000\n",
    "\n",
    "# On Vérifie si le dataset contient au moins ce nombre\n",
    "sample_size = min(sample_size, len(df_combined))\n",
    "\n",
    "# On Sélectionne un échantillon aléatoire\n",
    "df_sample = df_combined.sample(n=sample_size, random_state=100000)\n",
    "\n",
    "# On Vérifie la taille du nouvel échantillon\n",
    "print(\"Taille du dataset après échantillonnage :\", len(df_sample))\n"
   ]
  },
  {
   "cell_type": "code",
   "execution_count": 32,
   "metadata": {},
   "outputs": [
    {
     "name": "stdout",
     "output_type": "stream",
     "text": [
      "Nombre de lignes dans df_combined : 967149\n"
     ]
    }
   ],
   "source": [
    "# Vérifier si df_combined existe dans la mémoire\n",
    "try:\n",
    "    print(\"Nombre de lignes dans df_combined :\", len(df_combined))\n",
    "except NameError:\n",
    "    print(\" df_combined n'existe pas encore. Exécutez d'abord la cellule qui fusionne les datasets.\")\n"
   ]
  },
  {
   "cell_type": "code",
   "execution_count": 28,
   "metadata": {},
   "outputs": [
    {
     "name": "stdout",
     "output_type": "stream",
     "text": [
      "Index(['tweet_id', 'author_id', 'content', 'lang', 'Timestamp', 'source',\n",
      "       'geo', 'retweet_count', 'like_count', 'quote_count', 'player'],\n",
      "      dtype='object')\n"
     ]
    }
   ],
   "source": [
    "print(df_combined.columns)"
   ]
  },
  {
   "cell_type": "markdown",
   "metadata": {},
   "source": [
    "ANALYSE DES SENTIMENTS BASES SUR LES MOTS-CLES CONTENUS DANS LES TWEETS + AJOUT D'UN DICTIONNAIRE DE CORRESPONDANCES (POUR LES DIFFERENTES LANGUES DES MOTS CLES)"
   ]
  },
  {
   "cell_type": "code",
   "execution_count": 33,
   "metadata": {},
   "outputs": [
    {
     "name": "stdout",
     "output_type": "stream",
     "text": [
      "              tweet_id            author_id  \\\n",
      "0  1554369938630103040  1413800950846922757   \n",
      "1  1554369912428167170  1331632873338793986   \n",
      "2  1554369829414502400  1193232041959186434   \n",
      "3  1554369821432840192   727241246465527809   \n",
      "4  1554369806714867712  1324146514495741952   \n",
      "\n",
      "                                             content lang  \\\n",
      "0  we fell down to with ronaldo and no big team w...   en   \n",
      "1  man utd transfer news live frenkie de jong fin...   en   \n",
      "2  r and ronaldinho make me smile when i saw than...   en   \n",
      "3  ronaldo was in the best champions league team ...   en   \n",
      "4  from cristiano ronaldo s point of view it is a...   en   \n",
      "\n",
      "                  Timestamp               source geo  retweet_count  \\\n",
      "0  2022-08-02T07:34:06.000Z  Twitter for Android  -1            0.0   \n",
      "1  2022-08-02T07:34:00.000Z            Publer.io  -1            0.0   \n",
      "2  2022-08-02T07:33:40.000Z   Twitter for iPhone  -1            0.0   \n",
      "3  2022-08-02T07:33:38.000Z  Twitter for Android  -1            0.0   \n",
      "4  2022-08-02T07:33:35.000Z        WordPress.com  -1            0.0   \n",
      "\n",
      "   like_count  quote_count   player Sentiments  \n",
      "0         0.0          0.0  Ronaldo   Negative  \n",
      "1         0.0          0.0  Ronaldo   Positive  \n",
      "2         0.0          0.0  Ronaldo   Positive  \n",
      "3         0.0          0.0  Ronaldo   Positive  \n",
      "4         0.0          0.0  Ronaldo   Negative  \n"
     ]
    }
   ],
   "source": [
    "# On precise les indicateurs de sentiments en passant par l'outil textblob qui nous permet grace au nlp d'aller analyser les informations dans les tweets et nous donner 3 categories de sentiments: POSITIF, NEGATIF ET NEUTRE\n",
    "\n",
    "\n",
    "# AVEC TEXTBLOB\n",
    "\n",
    "from textblob import TextBlob\n",
    "\n",
    "# Fonction pour analyser le sentiment d'un tweet\n",
    "def get_sentiment(text):\n",
    "    analysis = TextBlob(str(text))  # Convertir en string pour éviter les erreurs avec NaN\n",
    "    if analysis.sentiment.polarity > 0:\n",
    "        return \"Positive\"\n",
    "    elif analysis.sentiment.polarity < 0:\n",
    "        return \"Negative\"\n",
    "    else:\n",
    "        return \"Neutral\"\n",
    "    \n",
    "sentiment_normalization = {\n",
    "        \"positive\": \"positif\", \"positivo\": \"positif\",\n",
    "        \"negative\": \"négatif\", \"negativo\": \"négatif\",\n",
    "        \"neutral\": \"neutre\", \"neutral\": \"neutre\"\n",
    "}\n",
    "\n",
    "# Appliquer l'analyse de sentiment sur les tweets\n",
    "df_combined[\"Sentiments\"] = df_combined[\"content\"].apply(get_sentiment)\n",
    "\n",
    "print(df_combined.head())"
   ]
  },
  {
   "cell_type": "markdown",
   "metadata": {},
   "source": [
    "OVERVIEW DES TWEETS ET LES SENTIMENTS ASSOCIES"
   ]
  },
  {
   "cell_type": "code",
   "execution_count": 34,
   "metadata": {},
   "outputs": [
    {
     "name": "stdout",
     "output_type": "stream",
     "text": [
      "Colonnes après ajout du sentiment : Index(['tweet_id', 'author_id', 'content', 'lang', 'Timestamp', 'source',\n",
      "       'geo', 'retweet_count', 'like_count', 'quote_count', 'player',\n",
      "       'Sentiments'],\n",
      "      dtype='object')\n",
      "                                             content Sentiments\n",
      "0  we fell down to with ronaldo and no big team w...   Negative\n",
      "1  man utd transfer news live frenkie de jong fin...   Positive\n",
      "2  r and ronaldinho make me smile when i saw than...   Positive\n",
      "3  ronaldo was in the best champions league team ...   Positive\n",
      "4  from cristiano ronaldo s point of view it is a...   Negative\n"
     ]
    }
   ],
   "source": [
    "# Vérifier si la colonne est bien créée\n",
    "print(\"Colonnes après ajout du sentiment :\", df_combined.columns)\n",
    "print(df_combined[[\"content\", \"Sentiments\"]].head())  # Voir quelques résultats"
   ]
  },
  {
   "cell_type": "markdown",
   "metadata": {},
   "source": [
    "ON VERIFIE QUE LES SENTIMENTS (POSITIF, NEGATIFS,NEUTRE) SONT BIEN REDESCENDU DANS LA NOUVELLE COLONE \"SENTIMENTS\" "
   ]
  },
  {
   "cell_type": "code",
   "execution_count": 2,
   "metadata": {},
   "outputs": [],
   "source": [
    "# print(df_combined[\"Sentiments\"].tolist())"
   ]
  },
  {
   "cell_type": "code",
   "execution_count": 35,
   "metadata": {},
   "outputs": [
    {
     "name": "stdout",
     "output_type": "stream",
     "text": [
      "Sentiments positifs:\n",
      "[]\n",
      "Sentiments négatifs:\n",
      "[]\n",
      "Sentiments neutres:\n",
      "[]\n"
     ]
    }
   ],
   "source": [
    "# Afficher les sentiments positifs\n",
    "print(\"Sentiments positifs:\")\n",
    "print(df_combined[df_combined[\"Sentiments\"] == \"positif\"][\"Sentiments\"].tolist())\n",
    "\n",
    "# Afficher les sentiments négatifs\n",
    "print(\"Sentiments négatifs:\")\n",
    "print(df_combined[df_combined[\"Sentiments\"] == \"négatif\"][\"Sentiments\"].tolist())\n",
    "\n",
    "# Afficher les sentiments neutres\n",
    "print(\"Sentiments neutres:\")\n",
    "print(df_combined[df_combined[\"Sentiments\"] == \"neutre\"][\"Sentiments\"].tolist())"
   ]
  },
  {
   "cell_type": "code",
   "execution_count": 36,
   "metadata": {},
   "outputs": [
    {
     "name": "stdout",
     "output_type": "stream",
     "text": [
      "Sentiments\n",
      "Positive    437679\n",
      "Neutral     375950\n",
      "Negative    153520\n",
      "Name: count, dtype: int64\n"
     ]
    }
   ],
   "source": [
    "print(df_combined[\"Sentiments\"].value_counts())"
   ]
  },
  {
   "cell_type": "markdown",
   "metadata": {},
   "source": [
    "RECUPERER LES SENTIMENTS DOMINANTS"
   ]
  },
  {
   "cell_type": "code",
   "execution_count": 37,
   "metadata": {},
   "outputs": [],
   "source": [
    "\n",
    "    \n",
    "def get_dominant_sentiment(sentiments):\n",
    "        # Trouver le score maximal des sentiments\n",
    "        max_score = max(sentiments.values())\n",
    "    \n",
    "        # Récupérer tous les sentiments qui ont ce score maximal\n",
    "        dominant_sentiments = [sent for sent, score in sentiments.items() if score == max_score]\n",
    "    \n",
    "        # Gérer les cas d'égalité\n",
    "        if len(dominant_sentiments) == 1:\n",
    "            return dominant_sentiments[0]  # Retourner le sentiment dominant unique\n",
    "        elif \"neutre\" in dominant_sentiments:  \n",
    "            return \"neutre\"  # Si \"neutre\" est présent, on considère que le sentiment est neutre\n",
    "        else:\n",
    "            return \"positif\" if \"positif\" in dominant_sentiments else \"négatif\"  # Priorité à positif\n"
   ]
  },
  {
   "cell_type": "markdown",
   "metadata": {},
   "source": [
    "ANALYSE DES SENTIMENTS ENTRE RONALDO ET MESSI"
   ]
  },
  {
   "cell_type": "code",
   "execution_count": 38,
   "metadata": {},
   "outputs": [
    {
     "name": "stdout",
     "output_type": "stream",
     "text": [
      "Nombre de lignes dans df_combined : 967149\n"
     ]
    }
   ],
   "source": [
    "try:\n",
    "    print(\"Nombre de lignes dans df_combined :\", len(df_combined))\n",
    "except NameError:\n",
    "    print(\"⚠️ df_combined n'existe pas ! Vous devez exécuter la cellule de fusion des datasets.\")\n"
   ]
  },
  {
   "cell_type": "code",
   "execution_count": 97,
   "metadata": {},
   "outputs": [
    {
     "data": {
      "text/plain": [
       "<Figure size 1500x800 with 0 Axes>"
      ]
     },
     "metadata": {},
     "output_type": "display_data"
    },
    {
     "data": {
      "image/png": "[encoded data removed]",
      "text/plain": [
       "<Figure size 1000x500 with 1 Axes>"
      ]
     },
     "metadata": {},
     "output_type": "display_data"
    }
   ],
   "source": [
    "# Compter les sentiments pour chaque joueur\n",
    "sentiment_counts = df_combined.groupby([\"player\", \"Sentiments\"]).size().unstack()\n",
    "\n",
    "# Tracage du graphique\n",
    "plt.figure(figsize=(15, 8))\n",
    "sentiment_counts.plot(kind=\"bar\", stacked=True, figsize=(10, 5), colormap=\"coolwarm\")\n",
    "\n",
    "# Personnalisation du graphiique\n",
    "plt.title(\"Comparaison des Sentiments entre Ronaldo et Messi\", fontsize=14)\n",
    "plt.xlabel(\"Joueur\", fontsize=12)\n",
    "plt.ylabel(\"Nombre de Tweets\", fontsize=12)\n",
    "plt.xticks(rotation=0)\n",
    "plt.legend(title=\"Sentiments\", fontsize=10)\n",
    "plt.grid(axis=\"y\")\n",
    "\n",
    "plt.show()"
   ]
  },
  {
   "cell_type": "markdown",
   "metadata": {},
   "source": [
    "EVOLUTION DES SENTIMENTS DE RONALDO ET MESSI AU FIL DU TEMPS"
   ]
  },
  {
   "cell_type": "code",
   "execution_count": 99,
   "metadata": {},
   "outputs": [],
   "source": [
    "# !pip install textblob\n"
   ]
  },
  {
   "cell_type": "code",
   "execution_count": 42,
   "metadata": {},
   "outputs": [
    {
     "data": {
      "image/png": "[encoded data removed]",
      "text/plain": [
       "<Figure size 1400x700 with 1 Axes>"
      ]
     },
     "metadata": {},
     "output_type": "display_data"
    }
   ],
   "source": [
    "import pandas as pd\n",
    "import matplotlib.pyplot as plt\n",
    "import seaborn as sns\n",
    "\n",
    "# Convertir la colonne Timestamp en datetime\n",
    "df_combined[\"Timestamp\"] = pd.to_datetime(df_combined[\"Timestamp\"], errors=\"coerce\")\n",
    "\n",
    "# Trier les données par date\n",
    "df_combined = df_combined.sort_values(by=\"Timestamp\")\n",
    "\n",
    "# Grouper les tweets par date, joueur et sentiment\n",
    "trend_sentiments = df_combined.groupby([df_combined[\"Timestamp\"].dt.date, \"player\", \"Sentiments\"]).size().reset_index(name=\"count\")\n",
    "\n",
    "# Configuration de la figure\n",
    "plt.figure(figsize=(14, 7))\n",
    "sns.lineplot(\n",
    "    data=trend_sentiments,\n",
    "    x=\"Timestamp\",\n",
    "    y=\"count\",\n",
    "    hue=\"Sentiments\",\n",
    "    style=\"player\",  # Différencier Ronaldo et Messi\n",
    "    markers=True,\n",
    "    dashes=False,\n",
    "    palette=\"coolwarm\"\n",
    ")\n",
    "\n",
    "# Personnalisation\n",
    "plt.title(\"Évolution des Sentiments sur Ronaldo et Messi au Fil du Temps\", fontsize=14)\n",
    "plt.xlabel(\"Date\", fontsize=12)\n",
    "plt.ylabel(\"Nombre de Tweets\", fontsize=12)\n",
    "plt.xticks(rotation=45)  # Incliner les dates pour meilleure lisibilité\n",
    "plt.legend(title=\"Sentiment & Joueur\", fontsize=10)\n",
    "plt.grid(True)\n",
    "plt.tight_layout()\n",
    "\n",
    "# Affichage\n",
    "plt.show()\n"
   ]
  },
  {
   "cell_type": "markdown",
   "metadata": {},
   "source": [
    "EVOLUTION DES SENTIMENTS SUR RONALDO ET MESSI AU FIL DU TEMPS (SELON LES REGIONS)"
   ]
  },
  {
   "cell_type": "code",
   "execution_count": 99,
   "metadata": {},
   "outputs": [
    {
     "name": "stdout",
     "output_type": "stream",
     "text": [
      "Colonnes disponibles : Index(['tweet_id', 'author_id', 'content', 'lang', 'Timestamp', 'source',\n",
      "       'geo', 'retweet_count', 'like_count', 'quote_count', 'player',\n",
      "       'Sentiments'],\n",
      "      dtype='object')\n",
      "       geo\n",
      "965148  -1\n",
      "965147  -1\n",
      "965146  -1\n",
      "965145  -1\n",
      "965144  -1\n"
     ]
    }
   ],
   "source": [
    "print(\"Colonnes disponibles :\", df_combined.columns)\n",
    "print(df_combined[[\"geo\"]].head())  # Afficher quelques valeurs\n"
   ]
  },
  {
   "cell_type": "code",
   "execution_count": 100,
   "metadata": {},
   "outputs": [
    {
     "name": "stdout",
     "output_type": "stream",
     "text": [
      "geo\n",
      "-1                  957056\n",
      "003e299707d0375b       368\n",
      "01eddd9d0dbec2c8       310\n",
      "00817d75276a95cf       226\n",
      "009b4bcc18019797       200\n",
      "Name: count, dtype: int64\n"
     ]
    }
   ],
   "source": [
    "# Vérifier les valeurs uniques de la colonne \"geo\"\n",
    "print(df_combined[\"geo\"].value_counts().head())  # Top 20 régions les plus mentionnées\n"
   ]
  },
  {
   "cell_type": "markdown",
   "metadata": {},
   "source": [
    "VERIFIER LE NOMBRE TOTAL DE TWEETS QUI ONT UNE VALEUR UTILISABLE DANS \"geo\" :"
   ]
  },
  {
   "cell_type": "code",
   "execution_count": 101,
   "metadata": {},
   "outputs": [
    {
     "name": "stdout",
     "output_type": "stream",
     "text": [
      "Nombre total de tweets : 967149\n",
      "Nombre de tweets avec une valeur GEO exploitable : 10093\n",
      "Proportion de tweets géolocalisés : 1.04%\n"
     ]
    }
   ],
   "source": [
    "# Compter le nombre total de tweets et ceux qui ont une géolocalisation exploitable\n",
    "total_tweets = len(df_combined)\n",
    "tweets_with_geo = df_combined[df_combined[\"geo\"] != \"-1\"]\n",
    "\n",
    "print(f\"Nombre total de tweets : {total_tweets}\")\n",
    "print(f\"Nombre de tweets avec une valeur GEO exploitable : {len(tweets_with_geo)}\")\n",
    "print(f\"Proportion de tweets géolocalisés : {len(tweets_with_geo) / total_tweets:.2%}\")\n"
   ]
  },
  {
   "cell_type": "code",
   "execution_count": 102,
   "metadata": {},
   "outputs": [
    {
     "name": "stdout",
     "output_type": "stream",
     "text": [
      "geo\n",
      "003e299707d0375b    368\n",
      "01eddd9d0dbec2c8    310\n",
      "00817d75276a95cf    226\n",
      "009b4bcc18019797    200\n",
      "00e55e2b4c491c5f    166\n",
      "000c69ad123213a8    143\n",
      "01e215db7136a37e    139\n",
      "dd9c0d7d7e07eb49    134\n",
      "0065f09a6666479e     94\n",
      "315b740b108481f6     88\n",
      "006c6743642cb09c     86\n",
      "01ed1f9a43bfb9bd     76\n",
      "011a942e0a0e8fb2     73\n",
      "0008cb6457ff0b55     64\n",
      "a0583a9994e6bf1b     59\n",
      "001907e868d06e24     57\n",
      "70957ac3123b3249     54\n",
      "00c822476a63c75b     54\n",
      "c884a1b7e3a91f5e     53\n",
      "3797791ff9c0e4c6     52\n",
      "Name: count, dtype: int64\n"
     ]
    }
   ],
   "source": [
    "# Supprimer les tweets sans localisation valide\n",
    "df_geo = df_combined[df_combined[\"geo\"] != \"-1\"]  #.copy() peut être ajouter pour modif différente dans la mémoire\n",
    "\n",
    "# Vérifier à nouveau les valeurs GEO disponibles\n",
    "print(df_geo[\"geo\"].value_counts().head(20))\n"
   ]
  },
  {
   "cell_type": "code",
   "execution_count": 122,
   "metadata": {},
   "outputs": [
    {
     "name": "stdout",
     "output_type": "stream",
     "text": [
      "Nombre total de tweets : 23435\n",
      "Nombre de tweets avec une valeur GEO valide : 210\n",
      "Top 10 valeurs GEO : geo\n",
      "-1                  23087\n",
      "01eddd9d0dbec2c8       41\n",
      "00817d75276a95cf       13\n",
      "003e299707d0375b       10\n",
      "009b4bcc18019797        7\n",
      "000c69ad123213a8        4\n",
      "011a942e0a0e8fb2        4\n",
      "173c2bb9d42baaa5        4\n",
      "001907e868d06e24        3\n",
      "8b9ec16fdc0d7e55        3\n",
      "Name: count, dtype: int64\n"
     ]
    }
   ],
   "source": [
    "# Vérifier combien de tweets ont une géolocalisation valide\n",
    "geo_counts = df_combined[\"geo\"].value_counts()\n",
    "print(\"Nombre total de tweets :\", len(df_combined))\n",
    "print(\"Nombre de tweets avec une valeur GEO valide :\", len(geo_counts))\n",
    "print(\"Top 10 valeurs GEO :\", geo_counts.head(10))\n"
   ]
  },
  {
   "cell_type": "code",
   "execution_count": 123,
   "metadata": {},
   "outputs": [],
   "source": [
    "# !pip install geopy"
   ]
  },
  {
   "cell_type": "markdown",
   "metadata": {},
   "source": [
    "TRANSFORMATION DES CODES DE GEOLOCALISATION EN \"REGIONS\" "
   ]
  },
  {
   "cell_type": "code",
   "execution_count": 55,
   "metadata": {},
   "outputs": [
    {
     "name": "stdout",
     "output_type": "stream",
     "text": [
      "['5dbba3e8fa522441' '01546f6801ce58cd' '0065f09a6666479e'\n",
      " '001aff55522d96c9' '7ef79c5ab17d518c' '001c0a9c3c005adf'\n",
      " '7746cc53490be860' 'd16815010421ff73' '3bc1b6cfd27ef7f6'\n",
      " 'f773199c979358a5']\n"
     ]
    }
   ],
   "source": [
    "# Obtenir les codes geo uniques\n",
    "\n",
    "df_geo = df_combined[df_combined[\"geo\"] != \"-1\"].copy()\n",
    "geo_codes = df_geo[\"geo\"].unique()\n",
    "print(geo_codes[:10])  # Afficher les 10 premiers codes"
   ]
  },
  {
   "cell_type": "markdown",
   "metadata": {},
   "source": [
    "UTILISATION DE L'API X (GEO)"
   ]
  },
  {
   "cell_type": "code",
   "execution_count": 52,
   "metadata": {},
   "outputs": [
    {
     "name": "stderr",
     "output_type": "stream",
     "text": [
      "C:\\Users\\bintu\\AppData\\Local\\Temp\\ipykernel_29540\\3718760526.py:22: SettingWithCopyWarning: \n",
      "A value is trying to be set on a copy of a slice from a DataFrame.\n",
      "Try using .loc[row_indexer,col_indexer] = value instead\n",
      "\n",
      "See the caveats in the documentation: https://pandas.pydata.org/pandas-docs/stable/user_guide/indexing.html#returning-a-view-versus-a-copy\n",
      "  df_geo[\"Région\"] = df_geo[\"geo\"].map(geo_to_region)\n"
     ]
    }
   ],
   "source": [
    "import requests\n",
    "import time\n",
    "\n",
    "BEARER_TOKEN = \"AAAAAAAAAAAAAAAAAAAAAKqjzgEAAAAA5hbhg3eSLqNZzXYCe6sdHF8Gtzc%3DmtvWtr6HZkRd5tc9NZ0mTqmOBGFE6YAykio26AB2LqgBfdw1b6\"\n",
    "geo_to_region = {}                                             # Contiendra la convertion des codes geos en Régions\n",
    "\n",
    "for geo_id in geo_codes:\n",
    "    url = f\"https://api.twitter.com/2/tweets?place.fields=full_name&id={geo_id}\"\n",
    "    headers = {\"Authorization\": f\"Bearer {BEARER_TOKEN}\"}\n",
    "    response = requests.get(url, headers=headers)\n",
    "    \n",
    "    if response.status_code == 200:\n",
    "        data = response.json()\n",
    "        if \"full_name\" in data:\n",
    "            geo_to_region[geo_id] = data[\"full_name\"]\n",
    "    else:\n",
    "        geo_to_region[geo_id] = \"Inconnu\"\n",
    "    \n",
    "    time.sleep(1)  # Éviter les limites de requêtes\n",
    "\n",
    "# Ajouter la nouvelle colonne \"Région\"\n",
    "df_geo[\"Région\"] = df_geo[\"geo\"].map(geo_to_region)\n",
    "\n",
    "\n",
    "\n",
    "# -\tBEARER TOKEN : AAAAAAAAAAAAAAAAAAAAAKqjzgEAAAAA5hbhg3eSLqNZzXYCe6sdHF8Gtzc%3DmtvWtr6HZkRd5tc9NZ0mTqmOBGFE6YAykio26AB2LqgBfdw1b6\n",
    "# -\tAccess Token  :  1896163083627687936-5IsaBeDqygUlvBH8kMNhgdRK2ggml1\n",
    "# -\tAccess Token Secret : XOY2XQ2d9OeSceKArDb24G0hnKb7Eo1V0Y1o4NuEMEQVo\n",
    "\n",
    "\n"
   ]
  },
  {
   "cell_type": "code",
   "execution_count": null,
   "metadata": {},
   "outputs": [
    {
     "name": "stdout",
     "output_type": "stream",
     "text": [
      "Index(['tweet_id', 'author_id', 'content', 'lang', 'Timestamp', 'source',\n",
      "       'geo', 'retweet_count', 'like_count', 'quote_count', 'player',\n",
      "       'Sentiments'],\n",
      "      dtype='object')\n"
     ]
    }
   ],
   "source": [
    "print(df_combined.columns)"
   ]
  },
  {
   "cell_type": "code",
   "execution_count": 3,
   "metadata": {},
   "outputs": [],
   "source": [
    "# print(geo_to_region)  # Vérifie si des correspondances existent"
   ]
  },
  {
   "cell_type": "markdown",
   "metadata": {},
   "source": [
    "DECODAGE AVEC GEOCODERS"
   ]
  },
  {
   "cell_type": "code",
   "execution_count": 58,
   "metadata": {},
   "outputs": [],
   "source": [
    "# from geopy.geocoders import Nominatim\n",
    "\n",
    "# geolocator = Nominatim(user_agent=\"geo_analysis\")\n",
    "\n",
    "# # Fonction pour convertir un ID geo en un pays\n",
    "# def geo_to_country(geo_id):\n",
    "#     try:\n",
    "#         location = geolocator.geocode(geo_id, exactly_one=True)\n",
    "#         if location:\n",
    "#             return location.address.split(\",\")[-1].strip()  # Récupérer le pays\n",
    "#     except:\n",
    "#         return None\n",
    "\n",
    "# # Appliquer la fonction sur un échantillon de 10 tweets géolocalisés\n",
    "# df_combined[\"country\"] = df_combined[\"geo\"].apply(lambda x: geo_to_country(x) if x != \"-1\" else None)\n",
    "\n",
    "# # Vérifier si ça fonctionne\n",
    "# print(df_combined[[\"geo\", \"country\"]].dropna().head(10))\n"
   ]
  },
  {
   "cell_type": "markdown",
   "metadata": {},
   "source": [
    "FINALEMENT LES CODES GEOS N'ONT PAS PU ETRE DECODES CAR L'API TWITTER NE LE PERMETS PLUS DEPUIS QUELQUES TEMPS ET PUISQUE C'EST UN FORMAT TWEETER, LE GEOCODER NE PEUX PAS LES INTERPRETER"
   ]
  },
  {
   "cell_type": "markdown",
   "metadata": {},
   "source": []
  },
  {
   "cell_type": "markdown",
   "metadata": {},
   "source": [
    "!!! LANDSCAPE!!! NOUVELLE APPROOCHE POUR DETERMINER LES REGIONS EN ANALYSANT LA LANGUE DES TWEETS"
   ]
  },
  {
   "cell_type": "code",
   "execution_count": 105,
   "metadata": {},
   "outputs": [],
   "source": [
    "#Installation de Langdetect\n",
    "\n",
    "# !pip install langdetect\n",
    "from langdetect import detect, DetectorFactory\n",
    "import pandas as pd\n",
    "\n",
    "DetectorFactory.seed = 0  # Pour rendre la détection reproductible\n",
    "\n",
    "def detect_language(text):\n",
    "    try:\n",
    "        return detect(text)\n",
    "    except:\n",
    "        return \"unknown\"  # Si on ne peut pas détecter la langue\n",
    "\n",
    "df_combined[\"langue\"] = df_combined[\"content\"].apply(detect_language)"
   ]
  },
  {
   "cell_type": "markdown",
   "metadata": {},
   "source": [
    "RECUPERATION DE LA LANGUE ET ASSOCIATION A UNE REGION"
   ]
  },
  {
   "cell_type": "markdown",
   "metadata": {},
   "source": [
    "CREATION D'UN DICTIONNAIRE DE CORRESPONDANCE ENTRE LANGUE ET REGION"
   ]
  },
  {
   "cell_type": "code",
   "execution_count": 44,
   "metadata": {},
   "outputs": [],
   "source": [
    "langue_to_region = {\n",
    "    \"fr\": \"Europe francophone\",\n",
    "    \"en\": \"Amérique du Nord / Monde anglophone\",\n",
    "    \"es\": \"Espagne / Amérique latine\",\n",
    "    \"pt\": \"Brésil / Portugal\",\n",
    "    \"de\": \"Europe germanophone\",\n",
    "    \"it\": \"Italie\",\n",
    "    \"nl\": \"Pays-Bas / Belgique\",\n",
    "    \"ru\": \"Russie\",\n",
    "    \"ar\": \"Moyen-Orient / Maghreb\",\n",
    "    \"tr\": \"Turquie\",\n",
    "    \"zh\": \"Chine\",\n",
    "    \"ja\": \"Japon\",\n",
    "    \"ko\": \"Corée du Sud\",\n",
    "    \"unknown\": \"Non déterminé\"\n",
    "}\n",
    "\n",
    "# Ajouter la colonne \"Région\"\n",
    "df_combined[\"region\"] = df_combined[\"lang\"].map(langue_to_region).fillna(\"Autre\")\n"
   ]
  },
  {
   "cell_type": "code",
   "execution_count": 45,
   "metadata": {},
   "outputs": [
    {
     "name": "stdout",
     "output_type": "stream",
     "text": [
      "                                                  content lang  \\\n",
      "965148  a second clip messi s argentina clip alone wou...   en   \n",
      "965147  really messi being on the pitch and creating c...   en   \n",
      "965146  iniesta wasnt that great bar wc in especially ...   en   \n",
      "965145  messi had better teammates at barcelona xavi i...   en   \n",
      "965144  hahaha that s rich coming from a messi groupie...   en   \n",
      "965143  kudos to you being able to restrict a messi co...   en   \n",
      "965142  man said he competed messi was so shit that we...   en   \n",
      "965141  unbelievable player i can actually mention som...   en   \n",
      "965140  yep messi played for the club ronaldo played f...   en   \n",
      "965139  witness the incredible the gtco food and drink...   en   \n",
      "965138  stevie g regularly dropped alfredo to the benc...   en   \n",
      "965137  i respect messi a lot for what he does on the ...   en   \n",
      "965136  if you regard messi as the greatest of all tim...   en   \n",
      "965134  messi was the system at barca and still is at ...   en   \n",
      "965135  sometimes benzema s form is just short lived t...   en   \n",
      "965133  which system did messi play under koemam which...   en   \n",
      "965132  wrong messi tries to adapt to whatever system ...   en   \n",
      "965131  messi hasn t scored against madrid since he ha...   en   \n",
      "965130  time doesn t forgive signorini predicts what l...   en   \n",
      "965129  i don t entirely blame players who play for th...   en   \n",
      "\n",
      "                                     region  \n",
      "965148  Amérique du Nord / Monde anglophone  \n",
      "965147  Amérique du Nord / Monde anglophone  \n",
      "965146  Amérique du Nord / Monde anglophone  \n",
      "965145  Amérique du Nord / Monde anglophone  \n",
      "965144  Amérique du Nord / Monde anglophone  \n",
      "965143  Amérique du Nord / Monde anglophone  \n",
      "965142  Amérique du Nord / Monde anglophone  \n",
      "965141  Amérique du Nord / Monde anglophone  \n",
      "965140  Amérique du Nord / Monde anglophone  \n",
      "965139  Amérique du Nord / Monde anglophone  \n",
      "965138  Amérique du Nord / Monde anglophone  \n",
      "965137  Amérique du Nord / Monde anglophone  \n",
      "965136  Amérique du Nord / Monde anglophone  \n",
      "965134  Amérique du Nord / Monde anglophone  \n",
      "965135  Amérique du Nord / Monde anglophone  \n",
      "965133  Amérique du Nord / Monde anglophone  \n",
      "965132  Amérique du Nord / Monde anglophone  \n",
      "965131  Amérique du Nord / Monde anglophone  \n",
      "965130  Amérique du Nord / Monde anglophone  \n",
      "965129  Amérique du Nord / Monde anglophone  \n"
     ]
    }
   ],
   "source": [
    "# Affichage de quelques valeurs pour voir si les régions ont bien été assignées :\n",
    "\n",
    "print(df_combined[[\"content\", \"lang\", \"region\"]].head(20))"
   ]
  },
  {
   "cell_type": "markdown",
   "metadata": {},
   "source": [
    "FILTRAGE DES VALEURS MANQUANTES"
   ]
  },
  {
   "cell_type": "code",
   "execution_count": 46,
   "metadata": {},
   "outputs": [],
   "source": [
    "# On filtre les valeurs manquantes :\n",
    "\n",
    "df_combined = df_combined.dropna(subset=[\"region\"])"
   ]
  },
  {
   "cell_type": "code",
   "execution_count": 50,
   "metadata": {},
   "outputs": [
    {
     "name": "stdout",
     "output_type": "stream",
     "text": [
      "Index(['tweet_id', 'author_id', 'content', 'lang', 'Timestamp', 'source',\n",
      "       'geo', 'retweet_count', 'like_count', 'quote_count', 'player',\n",
      "       'Sentiments', 'region'],\n",
      "      dtype='object')\n"
     ]
    }
   ],
   "source": [
    "print(df_combined.columns)\n"
   ]
  },
  {
   "cell_type": "markdown",
   "metadata": {},
   "source": [
    "COMPTAGE DU NOMBRE DE TWEETS EN FONCTION DE LA DATE, DU JOUR, DE LA REGION ET DU SENTIMENT"
   ]
  },
  {
   "cell_type": "code",
   "execution_count": 51,
   "metadata": {},
   "outputs": [
    {
     "name": "stdout",
     "output_type": "stream",
     "text": [
      "Sentiments                                              Negative  Neutral  \\\n",
      "Date       region                              player                       \n",
      "2022-04-08 Amérique du Nord / Monde anglophone Messi        1301     2802   \n",
      "2022-04-09 Amérique du Nord / Monde anglophone Messi        3279     9305   \n",
      "                                               Ronaldo      2567     4292   \n",
      "2022-04-10 Amérique du Nord / Monde anglophone Messi        2470     5333   \n",
      "                                               Ronaldo      5861     8021   \n",
      "\n",
      "Sentiments                                              Positive  \n",
      "Date       region                              player             \n",
      "2022-04-08 Amérique du Nord / Monde anglophone Messi        4011  \n",
      "2022-04-09 Amérique du Nord / Monde anglophone Messi        8584  \n",
      "                                               Ronaldo      3979  \n",
      "2022-04-10 Amérique du Nord / Monde anglophone Messi        6166  \n",
      "                                               Ronaldo      8957  \n"
     ]
    }
   ],
   "source": [
    "import matplotlib.pyplot as plt\n",
    "\n",
    "# Convertir Timestamp en datetime si ce n'est pas encore fait\n",
    "df_combined[\"Timestamp\"] = pd.to_datetime(df_combined[\"Timestamp\"], errors=\"coerce\")\n",
    "\n",
    "# Extraire uniquement la date (sans l'heure)\n",
    "df_combined[\"Date\"] = df_combined[\"Timestamp\"].dt.date\n",
    "\n",
    "# Grouper les tweets par date, région, joueur et sentiment\n",
    "trend_sentiments = df_combined.groupby([\"Date\", \"region\", \"player\", \"Sentiments\"]).size().unstack()\n",
    "\n",
    "# Vérifier les premières lignes\n",
    "print(trend_sentiments.head())"
   ]
  },
  {
   "cell_type": "markdown",
   "metadata": {},
   "source": [
    "AFFICHAGE DU GRAPHIQUE : EVOLUTION DES SENTIMENTS POUR RONALDO ET MESSI EN FONCTION DES REGIONS"
   ]
  },
  {
   "cell_type": "code",
   "execution_count": 65,
   "metadata": {},
   "outputs": [
    {
     "data": {
      "image/png": "[encoded data removed]",
      "text/plain": [
       "<Figure size 1400x400 with 2 Axes>"
      ]
     },
     "metadata": {},
     "output_type": "display_data"
    }
   ],
   "source": [
    "import matplotlib.pyplot as plt\n",
    "import pandas as pd\n",
    "\n",
    "# Convertir Timestamp en datetime si ce n'est pas déjà fait\n",
    "df_combined[\"Timestamp\"] = pd.to_datetime(df_combined[\"Timestamp\"], errors=\"coerce\")\n",
    "\n",
    "# Extraire uniquement la date\n",
    "df_combined[\"Date\"] = df_combined[\"Timestamp\"].dt.date\n",
    "\n",
    "# Grouper les tweets par date, région, joueur et sentiment\n",
    "trend_sentiments = df_combined.groupby([\"Date\", \"region\", \"player\", \"Sentiments\"]).size().unstack()\n",
    "\n",
    "# Lissage des données : moyenne glissante sur 7 jours\n",
    "trend_sentiments = trend_sentiments.rolling(window=7, min_periods=1).mean()\n",
    "\n",
    "# Liste des régions uniques\n",
    "regions = df_combined[\"region\"].dropna().unique()\n",
    "\n",
    "# Définir la palette de couleurs pour les sentiments\n",
    "sentiment_colors = {\"Positive\": \"green\", \"Neutral\": \"blue\", \"Negative\": \"red\"}\n",
    "\n",
    "# Créer la figure et ajuster le layout pour gérer plusieurs régions\n",
    "fig, axes = plt.subplots(nrows=len(regions), ncols=2, figsize=(14, len(regions) * 4), sharex=True)\n",
    "\n",
    "# Si une seule région, forcer axes à être un tableau\n",
    "if len(regions) == 1:\n",
    "    axes = [axes]\n",
    "\n",
    "# Tracer les tendances des sentiments pour chaque région\n",
    "for i, region in enumerate(regions):\n",
    "    if region in trend_sentiments.index.get_level_values(\"region\"):\n",
    "        region_data = trend_sentiments.xs(region, level=\"region\")\n",
    "\n",
    "        # Tracer Messi\n",
    "        ax_messi = axes[i][0]\n",
    "        messi_data = region_data.xs(\"Messi\", level=\"player\")\n",
    "        messi_data.plot(ax=ax_messi, color=[sentiment_colors.get(s, \"black\") for s in messi_data.columns])\n",
    "        ax_messi.set_title(f\"Messi - Sentiments ({region})\")\n",
    "        ax_messi.set_ylabel(\"Nombre de Tweets\")\n",
    "        ax_messi.legend(loc=\"upper right\")\n",
    "        ax_messi.grid(True)\n",
    "\n",
    "        # Tracer Ronaldo\n",
    "        ax_ronaldo = axes[i][1]\n",
    "        ronaldo_data = region_data.xs(\"Ronaldo\", level=\"player\")\n",
    "        ronaldo_data.plot(ax=ax_ronaldo, color=[sentiment_colors.get(s, \"black\") for s in ronaldo_data.columns])\n",
    "        ax_ronaldo.set_title(f\"Ronaldo - Sentiments ({region})\")\n",
    "        ax_ronaldo.set_ylabel(\"Nombre de Tweets\")\n",
    "        ax_ronaldo.legend(loc=\"upper right\")\n",
    "        ax_ronaldo.grid(True)\n",
    "\n",
    "# Ajuster l'affichage des dates\n",
    "plt.xticks(rotation=45)\n",
    "plt.xlabel(\"Date\")\n",
    "fig.suptitle(\"Évolution des sentiments sur Messi et Ronaldo par région\", fontsize=16)\n",
    "plt.tight_layout()\n",
    "plt.show()\n"
   ]
  },
  {
   "cell_type": "markdown",
   "metadata": {},
   "source": [
    "LES PLUS FREQUAMENT UTILISES EN RAPPORT AVE MESSI ET RONALDO. AINSI QUE LEURS COORELATION AVEC LE RESULTAT DES SENTIMENTS"
   ]
  },
  {
   "cell_type": "code",
   "execution_count": null,
   "metadata": {},
   "outputs": [
    {
     "name": "stderr",
     "output_type": "stream",
     "text": [
      "[nltk_data] Downloading package stopwords to\n",
      "[nltk_data]     C:\\Users\\bintu\\AppData\\Roaming\\nltk_data...\n",
      "[nltk_data]   Package stopwords is already up-to-date!\n",
      "C:\\Users\\bintu\\AppData\\Local\\Temp\\ipykernel_27964\\1471245850.py:39: UserWarning: Glyph 128313 (\\N{SMALL BLUE DIAMOND}) missing from font(s) DejaVu Sans.\n",
      "  plt.tight_layout()\n"
     ]
    },
    {
     "data": {
      "image/png": "[encoded data removed]",
      "text/plain": [
       "<Figure size 1800x600 with 3 Axes>"
      ]
     },
     "metadata": {},
     "output_type": "display_data"
    }
   ],
   "source": [
    "\n",
    "\n",
    "# stopwords\n",
    "nltk.download(\"stopwords\")\n",
    "stop_words = set(stopwords.words(\"english\") + stopwords.words(\"french\"))\n",
    "\n",
    "# Fonction pour extraire les mots les plus fréquents (sans nettoyage approfondi)\n",
    "def get_top_keywords(df, sentiment, top_n=10):\n",
    "    all_text = \" \".join(df[df[\"Sentiments\"] == sentiment][\"content\"].dropna())  # Concaténer tous les tweets\n",
    "    all_words = re.findall(r\"\\b\\w+\\b\", all_text.lower())  # Extraire uniquement les mots\n",
    "    words_freq = Counter(all_words)  # Compter les occurrences des mots\n",
    "    words_freq = {word: count for word, count in words_freq.items() if word not in stop_words}  # Supprimer les stopwords\n",
    "    return dict(sorted(words_freq.items(), key=lambda item: item[1], reverse=True)[:top_n])\n",
    "\n",
    "# Obtenir les mots les plus fréquents par sentiment\n",
    "top_positive = get_top_keywords(df_combined, \"Positive\", 10)\n",
    "top_neutral = get_top_keywords(df_combined, \"Neutral\", 10)\n",
    "top_negative = get_top_keywords(df_combined, \"Negative\", 10)\n",
    "\n",
    "# Création d'un graphique en barres\n",
    "fig, axes = plt.subplots(1, 3, figsize=(18, 6))\n",
    "\n",
    "def plot_bar_chart(word_freq, ax, title, color):\n",
    "    if word_freq:  # Vérifier qu'il y a bien des mots à afficher\n",
    "        words, counts = zip(*word_freq.items())\n",
    "        ax.barh(words, counts, color=color)\n",
    "        ax.set_title(title, fontsize=14)\n",
    "        ax.set_xlabel(\"Nombre d'occurrences\")\n",
    "        ax.set_ylabel(\"Mots-clés\")\n",
    "        ax.invert_yaxis()  # Affichage des mots les plus fréquents en haut\n",
    "    else:\n",
    "        ax.set_title(title, fontsize=14)\n",
    "        ax.text(0.5, 0.5, \"Pas assez de données\", ha=\"center\", va=\"center\", fontsize=12)\n",
    "        ax.set_xticks([])\n",
    "        ax.set_yticks([])\n",
    "\n",
    "plot_bar_chart(top_positive, axes[0], \"🔹 Mots-clés Positifs 🔹\", \"green\")\n",
    "plot_bar_chart(top_neutral, axes[1], \"🔹 Mots-clés Neutres 🔹\", \"blue\")\n",
    "plot_bar_chart(top_negative, axes[2], \"🔹 Mots-clés Négatifs 🔹\", \"red\")\n",
    "\n",
    "plt.tight_layout()\n",
    "plt.show()\n"
   ]
  },
  {
   "cell_type": "markdown",
   "metadata": {},
   "source": [
    "Pas de données précises pour rpondre à la question 3"
   ]
  }
 ],
 "metadata": {
  "kernelspec": {
   "display_name": "Python 3",
   "language": "python",
   "name": "python3"
  },
  "language_info": {
   "codemirror_mode": {
    "name": "ipython",
    "version": 3
   },
   "file_extension": ".py",
   "mimetype": "text/x-python",
   "name": "python",
   "nbconvert_exporter": "python",
   "pygments_lexer": "ipython3",
   "version": "3.8.10"
  }
 },
 "nbformat": 4,
 "nbformat_minor": 2
}
