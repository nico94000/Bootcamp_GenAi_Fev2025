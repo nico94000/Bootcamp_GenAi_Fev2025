{
 "cells": [
  {
   "cell_type": "code",
   "execution_count": null,
   "metadata": {},
   "outputs": [],
   "source": []
  },
  {
   "cell_type": "code",
   "execution_count": 1,
   "metadata": {},
   "outputs": [
    {
     "name": "stdout",
     "output_type": "stream",
     "text": [
      "              tweet_id            author_id  \\\n",
      "0  1554369938630103040  1413800950846922757   \n",
      "1  1554369912428167170  1331632873338793986   \n",
      "2  1554369829414502400  1193232041959186434   \n",
      "3  1554369821432840192   727241246465527809   \n",
      "4  1554369806714867712  1324146514495741952   \n",
      "\n",
      "                                             content lang  \\\n",
      "0  we fell down to with ronaldo and no big team w...   en   \n",
      "1  man utd transfer news live frenkie de jong fin...   en   \n",
      "2  r and ronaldinho make me smile when i saw than...   en   \n",
      "3  ronaldo was in the best champions league team ...   en   \n",
      "4  from cristiano ronaldo s point of view it is a...   en   \n",
      "\n",
      "                       date               source geo  retweet_count  \\\n",
      "0  2022-08-02T07:34:06.000Z  Twitter for Android  -1            0.0   \n",
      "1  2022-08-02T07:34:00.000Z            Publer.io  -1            0.0   \n",
      "2  2022-08-02T07:33:40.000Z   Twitter for iPhone  -1            0.0   \n",
      "3  2022-08-02T07:33:38.000Z  Twitter for Android  -1            0.0   \n",
      "4  2022-08-02T07:33:35.000Z        WordPress.com  -1            0.0   \n",
      "\n",
      "   like_count  quote_count  \n",
      "0         0.0          0.0  \n",
      "1         0.0          0.0  \n",
      "2         0.0          0.0  \n",
      "3         0.0          0.0  \n",
      "4         0.0          0.0  \n",
      "              tweet_id            author_id  \\\n",
      "0  1554369750175780864   936125201540149248   \n",
      "1  1554369704265129984   719822976829546497   \n",
      "2  1554369683473645568  1124462707355181056   \n",
      "3  1554369634563940361  1529031568659980288   \n",
      "4  1554369624111734785  1217760894563897345   \n",
      "\n",
      "                                             content lang  \\\n",
      "0       only lionel messi has more in every category   en   \n",
      "1  balls riqui actually had talent at that time h...   en   \n",
      "2  when messi winning everything then you will bl...   en   \n",
      "3                 messi won the treble with barca in   en   \n",
      "4  ronaldo only has the ucl competition as a top ...   en   \n",
      "\n",
      "                       date               source geo  retweet_count  \\\n",
      "0  2022-08-02T07:33:21.000Z   Twitter for iPhone  -1              0   \n",
      "1  2022-08-02T07:33:10.000Z  Twitter for Android  -1              0   \n",
      "2  2022-08-02T07:33:05.000Z  Twitter for Android  -1              0   \n",
      "3  2022-08-02T07:32:54.000Z  Twitter for Android  -1              0   \n",
      "4  2022-08-02T07:32:51.000Z  Twitter for Android  -1              0   \n",
      "\n",
      "   like_count  quote_count  \n",
      "0           0            0  \n",
      "1           0            0  \n",
      "2           0            0  \n",
      "3           0            0  \n",
      "4           0            0  \n"
     ]
    }
   ],
   "source": [
    "import pandas as pd\n",
    "\n",
    "# Charger les fichiers CSV\n",
    "df_ronaldo = pd.read_csv(\"ronaldo.csv\")\n",
    "df_messi = pd.read_csv(\"messi.csv\")\n",
    "\n",
    "# Vérifier le chargement\n",
    "print(df_ronaldo.head())  # Affiche les 5 premières lignes pour vérifier\n",
    "print(df_messi.head())\n"
   ]
  },
  {
   "cell_type": "code",
   "execution_count": 2,
   "metadata": {},
   "outputs": [
    {
     "name": "stdout",
     "output_type": "stream",
     "text": [
      "Requirement already satisfied: geotext in /Users/Nicolas/.pyenv/versions/3.8.10/lib/python3.8/site-packages (0.4.0)\n",
      "\u001b[33mWARNING: You are using pip version 21.1.1; however, version 25.0.1 is available.\n",
      "You should consider upgrading via the '/Users/Nicolas/.pyenv/versions/3.8.10/bin/python -m pip install --upgrade pip' command.\u001b[0m\n",
      "Note: you may need to restart the kernel to use updated packages.\n"
     ]
    }
   ],
   "source": [
    "pip install geotext\n"
   ]
  },
  {
   "cell_type": "code",
   "execution_count": 3,
   "metadata": {},
   "outputs": [
    {
     "ename": "ModuleNotFoundError",
     "evalue": "No module named 'ace_tools'",
     "output_type": "error",
     "traceback": [
      "\u001b[0;31m---------------------------------------------------------------------------\u001b[0m",
      "\u001b[0;31mModuleNotFoundError\u001b[0m                       Traceback (most recent call last)",
      "Cell \u001b[0;32mIn[3], line 18\u001b[0m\n\u001b[1;32m     16\u001b[0m \u001b[38;5;66;03m# Afficher les résultats sous forme de tableau\u001b[39;00m\n\u001b[1;32m     17\u001b[0m \u001b[38;5;28;01mimport\u001b[39;00m\u001b[38;5;250m \u001b[39m\u001b[38;5;21;01mpandas\u001b[39;00m\u001b[38;5;250m \u001b[39m\u001b[38;5;28;01mas\u001b[39;00m\u001b[38;5;250m \u001b[39m\u001b[38;5;21;01mpd\u001b[39;00m\n\u001b[0;32m---> 18\u001b[0m \u001b[38;5;28;01mimport\u001b[39;00m\u001b[38;5;250m \u001b[39m\u001b[38;5;21;01mace_tools\u001b[39;00m\u001b[38;5;250m \u001b[39m\u001b[38;5;28;01mas\u001b[39;00m\u001b[38;5;250m \u001b[39m\u001b[38;5;21;01mtools\u001b[39;00m\n\u001b[1;32m     20\u001b[0m result_df \u001b[38;5;241m=\u001b[39m pd\u001b[38;5;241m.\u001b[39mDataFrame({\n\u001b[1;32m     21\u001b[0m     \u001b[38;5;124m\"\u001b[39m\u001b[38;5;124mLieu Ronaldo\u001b[39m\u001b[38;5;124m\"\u001b[39m: location_counts_ronaldo\u001b[38;5;241m.\u001b[39mindex,\n\u001b[1;32m     22\u001b[0m     \u001b[38;5;124m\"\u001b[39m\u001b[38;5;124mNombre Ronaldo\u001b[39m\u001b[38;5;124m\"\u001b[39m: location_counts_ronaldo\u001b[38;5;241m.\u001b[39mvalues,\n\u001b[1;32m     23\u001b[0m     \u001b[38;5;124m\"\u001b[39m\u001b[38;5;124mLieu Messi\u001b[39m\u001b[38;5;124m\"\u001b[39m: location_counts_messi\u001b[38;5;241m.\u001b[39mindex,\n\u001b[1;32m     24\u001b[0m     \u001b[38;5;124m\"\u001b[39m\u001b[38;5;124mNombre Messi\u001b[39m\u001b[38;5;124m\"\u001b[39m: location_counts_messi\u001b[38;5;241m.\u001b[39mvalues\n\u001b[1;32m     25\u001b[0m })\n\u001b[1;32m     27\u001b[0m tools\u001b[38;5;241m.\u001b[39mdisplay_dataframe_to_user(name\u001b[38;5;241m=\u001b[39m\u001b[38;5;124m\"\u001b[39m\u001b[38;5;124mLieux détectés dans les Tweets\u001b[39m\u001b[38;5;124m\"\u001b[39m, dataframe\u001b[38;5;241m=\u001b[39mresult_df)\n",
      "\u001b[0;31mModuleNotFoundError\u001b[0m: No module named 'ace_tools'"
     ]
    }
   ],
   "source": [
    "from geotext import GeoText\n",
    "\n",
    "# Fonction pour détecter villes et pays dans un tweet\n",
    "def extract_location_geotext(text):\n",
    "    places = GeoText(str(text))\n",
    "    return places.cities + places.countries  # Retourne une liste de lieux trouvés\n",
    "\n",
    "# Appliquer aux datasets de Ronaldo et Messi\n",
    "df_ronaldo[\"detected_location\"] = df_ronaldo[\"content\"].apply(extract_location_geotext)\n",
    "df_messi[\"detected_location\"] = df_messi[\"content\"].apply(extract_location_geotext)\n",
    "\n",
    "# Compter les occurrences des lieux détectés\n",
    "location_counts_ronaldo = df_ronaldo[\"detected_location\"].explode().value_counts().head(10)\n",
    "location_counts_messi = df_messi[\"detected_location\"].explode().value_counts().head(10)\n",
    "\n",
    "# Afficher les résultats sous forme de tableau\n",
    "import pandas as pd\n",
    "import ace_tools as tools\n",
    "\n",
    "result_df = pd.DataFrame({\n",
    "    \"Lieu Ronaldo\": location_counts_ronaldo.index,\n",
    "    \"Nombre Ronaldo\": location_counts_ronaldo.values,\n",
    "    \"Lieu Messi\": location_counts_messi.index,\n",
    "    \"Nombre Messi\": location_counts_messi.values\n",
    "})\n",
    "\n",
    "tools.display_dataframe_to_user(name=\"Lieux détectés dans les Tweets\", dataframe=result_df)\n"
   ]
  },
  {
   "cell_type": "code",
   "execution_count": 4,
   "metadata": {},
   "outputs": [
    {
     "name": "stdout",
     "output_type": "stream",
     "text": [
      "Lieux détectés dans les tweets de Ronaldo :\n"
     ]
    },
    {
     "ename": "NameError",
     "evalue": "name 'result_df' is not defined",
     "output_type": "error",
     "traceback": [
      "\u001b[0;31m---------------------------------------------------------------------------\u001b[0m",
      "\u001b[0;31mNameError\u001b[0m                                 Traceback (most recent call last)",
      "Cell \u001b[0;32mIn[4], line 2\u001b[0m\n\u001b[1;32m      1\u001b[0m \u001b[38;5;28mprint\u001b[39m(\u001b[38;5;124m\"\u001b[39m\u001b[38;5;124mLieux détectés dans les tweets de Ronaldo :\u001b[39m\u001b[38;5;124m\"\u001b[39m)\n\u001b[0;32m----> 2\u001b[0m \u001b[38;5;28mprint\u001b[39m(\u001b[43mresult_df\u001b[49m\u001b[38;5;241m.\u001b[39mhead(\u001b[38;5;241m10\u001b[39m))  \u001b[38;5;66;03m# Affiche les 10 premières lignes\u001b[39;00m\n",
      "\u001b[0;31mNameError\u001b[0m: name 'result_df' is not defined"
     ]
    }
   ],
   "source": [
    "print(\"Lieux détectés dans les tweets de Ronaldo :\")\n",
    "print(result_df.head(10))  # Affiche les 10 premières lignes\n"
   ]
  },
  {
   "cell_type": "code",
   "execution_count": 5,
   "metadata": {},
   "outputs": [
    {
     "name": "stdout",
     "output_type": "stream",
     "text": [
      "Lieux détectés dans les tweets de Ronaldo et Messi :\n",
      "Empty DataFrame\n",
      "Columns: [Lieu Ronaldo, Nombre Ronaldo, Lieu Messi, Nombre Messi]\n",
      "Index: []\n"
     ]
    }
   ],
   "source": [
    "import pandas as pd\n",
    "from geotext import GeoText\n",
    "\n",
    "# 📌 Charger les fichiers CSV\n",
    "df_ronaldo = pd.read_csv(\"ronaldo.csv\")\n",
    "df_messi = pd.read_csv(\"messi.csv\")\n",
    "\n",
    "# 📌 Fonction pour détecter villes et pays dans un tweet\n",
    "def extract_location_geotext(text):\n",
    "    places = GeoText(str(text))\n",
    "    return places.cities + places.countries  # Retourne une liste de lieux trouvés\n",
    "\n",
    "# 📌 Appliquer aux datasets de Ronaldo et Messi\n",
    "df_ronaldo[\"detected_location\"] = df_ronaldo[\"content\"].apply(extract_location_geotext)\n",
    "df_messi[\"detected_location\"] = df_messi[\"content\"].apply(extract_location_geotext)\n",
    "\n",
    "# 📌 Compter les occurrences des lieux détectés\n",
    "location_counts_ronaldo = df_ronaldo[\"detected_location\"].explode().value_counts().head(10)\n",
    "location_counts_messi = df_messi[\"detected_location\"].explode().value_counts().head(10)\n",
    "\n",
    "# 📌 Afficher les résultats sous forme de tableau avec pandas\n",
    "result_df = pd.DataFrame({\n",
    "    \"Lieu Ronaldo\": location_counts_ronaldo.index,\n",
    "    \"Nombre Ronaldo\": location_counts_ronaldo.values,\n",
    "    \"Lieu Messi\": location_counts_messi.index,\n",
    "    \"Nombre Messi\": location_counts_messi.values\n",
    "})\n",
    "\n",
    "# 📌 Affichage du résultat\n",
    "print(\"Lieux détectés dans les tweets de Ronaldo et Messi :\")\n",
    "print(result_df.head(10))  # Affiche les 10 premiers résultats\n"
   ]
  },
  {
   "cell_type": "code",
   "execution_count": 6,
   "metadata": {},
   "outputs": [
    {
     "name": "stdout",
     "output_type": "stream",
     "text": [
      "Villes détectées : ['Madrid']\n",
      "Pays détectés : ['Portugal']\n"
     ]
    }
   ],
   "source": [
    "from geotext import GeoText\n",
    "\n",
    "tweet_test = \"Cristiano Ronaldo est né au Portugal et a joué à Madrid\"\n",
    "places = GeoText(tweet_test)\n",
    "\n",
    "print(\"Villes détectées :\", places.cities)  # Devrait afficher ['Madrid']\n",
    "print(\"Pays détectés :\", places.countries)  # Devrait afficher ['Portugal']\n"
   ]
  }
 ],
 "metadata": {
  "kernelspec": {
   "display_name": "3.8.10",
   "language": "python",
   "name": "python3"
  },
  "language_info": {
   "codemirror_mode": {
    "name": "ipython",
    "version": 3
   },
   "file_extension": ".py",
   "mimetype": "text/x-python",
   "name": "python",
   "nbconvert_exporter": "python",
   "pygments_lexer": "ipython3",
   "version": "3.8.10"
  }
 },
 "nbformat": 4,
 "nbformat_minor": 2
}
