{
 "cells": [
  {
   "cell_type": "markdown",
   "metadata": {},
   "source": [
    "exercice 1"
   ]
  },
  {
   "cell_type": "code",
   "execution_count": 1,
   "metadata": {},
   "outputs": [],
   "source": [
    "import numpy as np"
   ]
  },
  {
   "cell_type": "code",
   "execution_count": 3,
   "metadata": {},
   "outputs": [],
   "source": [
    "matrice = np.array([\n",
    "    [2, 4, 1], \n",
    "    [3, 1, 5], \n",
    "    [6, 2, 8]\n",
    "])\n"
   ]
  },
  {
   "cell_type": "markdown",
   "metadata": {},
   "source": [
    "exercice 2 \n"
   ]
  },
  {
   "cell_type": "code",
   "execution_count": 4,
   "metadata": {},
   "outputs": [],
   "source": [
    "import numpy as np\n"
   ]
  },
  {
   "cell_type": "code",
   "execution_count": null,
   "metadata": {},
   "outputs": [],
   "source": []
  },
  {
   "cell_type": "code",
   "execution_count": 18,
   "metadata": {},
   "outputs": [],
   "source": [
    "data = np.random.rand(50)"
   ]
  },
  {
   "cell_type": "code",
   "execution_count": 19,
   "metadata": {},
   "outputs": [
    {
     "data": {
      "text/plain": [
       "array([0.13835389, 0.15100873, 0.92972447, 0.15016809, 0.83033814,\n",
       "       0.04604776, 0.9657456 , 0.57847617, 0.66008636, 0.4882014 ,\n",
       "       0.35243007, 0.10122223, 0.68061468, 0.53155156, 0.73540576,\n",
       "       0.26353809, 0.5521119 , 0.54646251, 0.57589484, 0.88222072,\n",
       "       0.30147857, 0.61582974, 0.5394192 , 0.05240784, 0.2344471 ,\n",
       "       0.64129129, 0.39178399, 0.09072645, 0.16292763, 0.39555078,\n",
       "       0.17517108, 0.45689812, 0.60346624, 0.85876409, 0.05619044,\n",
       "       0.44277336, 0.77548179, 0.06978865, 0.48365328, 0.69854413,\n",
       "       0.23807291, 0.12711107, 0.77063437, 0.43493605, 0.44292679,\n",
       "       0.03387525, 0.84506517, 0.84160038, 0.43072521, 0.57960754])"
      ]
     },
     "execution_count": 19,
     "metadata": {},
     "output_type": "execute_result"
    }
   ],
   "source": [
    "data"
   ]
  },
  {
   "cell_type": "code",
   "execution_count": 23,
   "metadata": {},
   "outputs": [],
   "source": [
    "mean_value = np.mean(data) "
   ]
  },
  {
   "cell_type": "code",
   "execution_count": 24,
   "metadata": {},
   "outputs": [
    {
     "data": {
      "text/plain": [
       "0.4590150294247293"
      ]
     },
     "execution_count": 24,
     "metadata": {},
     "output_type": "execute_result"
    }
   ],
   "source": [
    "mean_value"
   ]
  },
  {
   "cell_type": "code",
   "execution_count": 25,
   "metadata": {},
   "outputs": [],
   "source": [
    "median_value = np.median(data)  "
   ]
  },
  {
   "cell_type": "code",
   "execution_count": 26,
   "metadata": {},
   "outputs": [
    {
     "data": {
      "text/plain": [
       "0.47027570027380805"
      ]
     },
     "execution_count": 26,
     "metadata": {},
     "output_type": "execute_result"
    }
   ],
   "source": [
    "median_value"
   ]
  },
  {
   "cell_type": "code",
   "execution_count": 27,
   "metadata": {},
   "outputs": [],
   "source": [
    "std_dev_value = np.std(data)"
   ]
  },
  {
   "cell_type": "code",
   "execution_count": 28,
   "metadata": {},
   "outputs": [
    {
     "data": {
      "text/plain": [
       "0.2709739458294457"
      ]
     },
     "execution_count": 28,
     "metadata": {},
     "output_type": "execute_result"
    }
   ],
   "source": [
    "std_dev_value"
   ]
  },
  {
   "cell_type": "markdown",
   "metadata": {},
   "source": [
    "exercice 3"
   ]
  },
  {
   "cell_type": "code",
   "execution_count": 17,
   "metadata": {},
   "outputs": [],
   "source": [
    "import numpy as np\n",
    "import pandas as pd\n"
   ]
  },
  {
   "cell_type": "code",
   "execution_count": null,
   "metadata": {},
   "outputs": [],
   "source": []
  },
  {
   "cell_type": "code",
   "execution_count": null,
   "metadata": {},
   "outputs": [],
   "source": []
  },
  {
   "cell_type": "code",
   "execution_count": 32,
   "metadata": {},
   "outputs": [],
   "source": [
    "dates = np.arange('2023-01-01', '2023-01-31', dtype='datetime64[D]')"
   ]
  },
  {
   "cell_type": "code",
   "execution_count": 31,
   "metadata": {},
   "outputs": [
    {
     "data": {
      "text/plain": [
       "array(['2023-01-01', '2023-01-02', '2023-01-03', '2023-01-04',\n",
       "       '2023-01-05', '2023-01-06', '2023-01-07', '2023-01-08',\n",
       "       '2023-01-09', '2023-01-10', '2023-01-11', '2023-01-12',\n",
       "       '2023-01-13', '2023-01-14', '2023-01-15', '2023-01-16',\n",
       "       '2023-01-17', '2023-01-18', '2023-01-19', '2023-01-20',\n",
       "       '2023-01-21', '2023-01-22', '2023-01-23', '2023-01-24',\n",
       "       '2023-01-25', '2023-01-26', '2023-01-27', '2023-01-28',\n",
       "       '2023-01-29', '2023-01-30'], dtype='datetime64[D]')"
      ]
     },
     "execution_count": 31,
     "metadata": {},
     "output_type": "execute_result"
    }
   ],
   "source": [
    "dates"
   ]
  },
  {
   "cell_type": "markdown",
   "metadata": {},
   "source": [
    "exercice 4\n"
   ]
  },
  {
   "cell_type": "code",
   "execution_count": 33,
   "metadata": {},
   "outputs": [],
   "source": [
    "import numpy as np\n",
    "import pandas as pd"
   ]
  },
  {
   "cell_type": "code",
   "execution_count": null,
   "metadata": {},
   "outputs": [],
   "source": []
  },
  {
   "cell_type": "code",
   "execution_count": 52,
   "metadata": {},
   "outputs": [
    {
     "ename": "SyntaxError",
     "evalue": "unmatched ')' (1992380440.py, line 1)",
     "output_type": "error",
     "traceback": [
      "\u001b[0;36m  Cell \u001b[0;32mIn[52], line 1\u001b[0;36m\u001b[0m\n\u001b[0;31m    df = pd.DataFrame(np.random.rand(10, 5)),columns = [\"prices\"])\u001b[0m\n\u001b[0m                                                                 ^\u001b[0m\n\u001b[0;31mSyntaxError\u001b[0m\u001b[0;31m:\u001b[0m unmatched ')'\n"
     ]
    }
   ],
   "source": [
    "\n",
    "df = pd.DataFrame(np.random.rand(10, 5)),columns = [\"prices\"])"
   ]
  },
  {
   "cell_type": "code",
   "execution_count": 39,
   "metadata": {},
   "outputs": [
    {
     "data": {
      "text/plain": [
       "<bound method DataFrame.info of      0\n",
       "0   83\n",
       "1   43\n",
       "2   17\n",
       "3   55\n",
       "4   62\n",
       "5   55\n",
       "6   89\n",
       "7   78\n",
       "8   35\n",
       "9   43\n",
       "10  86\n",
       "11  41\n",
       "12  47\n",
       "13  60\n",
       "14  88\n",
       "15  85\n",
       "16  85\n",
       "17  97\n",
       "18  31\n",
       "19  17>"
      ]
     },
     "execution_count": 39,
     "metadata": {},
     "output_type": "execute_result"
    }
   ],
   "source": [
    "df.info"
   ]
  },
  {
   "cell_type": "code",
   "execution_count": 38,
   "metadata": {},
   "outputs": [
    {
     "data": {
      "text/html": [
       "<div>\n",
       "<style scoped>\n",
       "    .dataframe tbody tr th:only-of-type {\n",
       "        vertical-align: middle;\n",
       "    }\n",
       "\n",
       "    .dataframe tbody tr th {\n",
       "        vertical-align: top;\n",
       "    }\n",
       "\n",
       "    .dataframe thead th {\n",
       "        text-align: right;\n",
       "    }\n",
       "</style>\n",
       "<table border=\"1\" class=\"dataframe\">\n",
       "  <thead>\n",
       "    <tr style=\"text-align: right;\">\n",
       "      <th></th>\n",
       "      <th>0</th>\n",
       "    </tr>\n",
       "  </thead>\n",
       "  <tbody>\n",
       "    <tr>\n",
       "      <th>0</th>\n",
       "      <td>83</td>\n",
       "    </tr>\n",
       "    <tr>\n",
       "      <th>1</th>\n",
       "      <td>43</td>\n",
       "    </tr>\n",
       "    <tr>\n",
       "      <th>2</th>\n",
       "      <td>17</td>\n",
       "    </tr>\n",
       "    <tr>\n",
       "      <th>3</th>\n",
       "      <td>55</td>\n",
       "    </tr>\n",
       "    <tr>\n",
       "      <th>4</th>\n",
       "      <td>62</td>\n",
       "    </tr>\n",
       "    <tr>\n",
       "      <th>5</th>\n",
       "      <td>55</td>\n",
       "    </tr>\n",
       "    <tr>\n",
       "      <th>6</th>\n",
       "      <td>89</td>\n",
       "    </tr>\n",
       "    <tr>\n",
       "      <th>7</th>\n",
       "      <td>78</td>\n",
       "    </tr>\n",
       "    <tr>\n",
       "      <th>8</th>\n",
       "      <td>35</td>\n",
       "    </tr>\n",
       "    <tr>\n",
       "      <th>9</th>\n",
       "      <td>43</td>\n",
       "    </tr>\n",
       "    <tr>\n",
       "      <th>10</th>\n",
       "      <td>86</td>\n",
       "    </tr>\n",
       "    <tr>\n",
       "      <th>11</th>\n",
       "      <td>41</td>\n",
       "    </tr>\n",
       "    <tr>\n",
       "      <th>12</th>\n",
       "      <td>47</td>\n",
       "    </tr>\n",
       "    <tr>\n",
       "      <th>13</th>\n",
       "      <td>60</td>\n",
       "    </tr>\n",
       "    <tr>\n",
       "      <th>14</th>\n",
       "      <td>88</td>\n",
       "    </tr>\n",
       "    <tr>\n",
       "      <th>15</th>\n",
       "      <td>85</td>\n",
       "    </tr>\n",
       "    <tr>\n",
       "      <th>16</th>\n",
       "      <td>85</td>\n",
       "    </tr>\n",
       "    <tr>\n",
       "      <th>17</th>\n",
       "      <td>97</td>\n",
       "    </tr>\n",
       "    <tr>\n",
       "      <th>18</th>\n",
       "      <td>31</td>\n",
       "    </tr>\n",
       "    <tr>\n",
       "      <th>19</th>\n",
       "      <td>17</td>\n",
       "    </tr>\n",
       "  </tbody>\n",
       "</table>\n",
       "</div>"
      ],
      "text/plain": [
       "     0\n",
       "0   83\n",
       "1   43\n",
       "2   17\n",
       "3   55\n",
       "4   62\n",
       "5   55\n",
       "6   89\n",
       "7   78\n",
       "8   35\n",
       "9   43\n",
       "10  86\n",
       "11  41\n",
       "12  47\n",
       "13  60\n",
       "14  88\n",
       "15  85\n",
       "16  85\n",
       "17  97\n",
       "18  31\n",
       "19  17"
      ]
     },
     "execution_count": 38,
     "metadata": {},
     "output_type": "execute_result"
    }
   ],
   "source": [
    "df['']"
   ]
  },
  {
   "cell_type": "code",
   "execution_count": null,
   "metadata": {},
   "outputs": [],
   "source": [
    "a = 13\n",
    "b = 83"
   ]
  },
  {
   "cell_type": "markdown",
   "metadata": {},
   "source": [
    "exercice 5"
   ]
  },
  {
   "cell_type": "code",
   "execution_count": 53,
   "metadata": {},
   "outputs": [
    {
     "data": {
      "image/png": "[encoded data removed]",
      "text/plain": [
       "<Figure size 640x480 with 2 Axes>"
      ]
     },
     "metadata": {},
     "output_type": "display_data"
    },
    {
     "name": "stdout",
     "output_type": "stream",
     "text": [
      "Pixel Values:\n",
      " [[190 227 198  44 214]\n",
      " [ 20 100 213  78 164]\n",
      " [ 79  63 203  36  44]\n",
      " [224   8  52 171 219]\n",
      " [246  71  46 191 181]]\n"
     ]
    }
   ],
   "source": [
    "import numpy as np\n",
    "import matplotlib.pyplot as plt\n",
    "\n",
    "\n",
    "image = np.random.randint(0, 256, size=(5, 5), dtype=np.uint8)\n",
    "\n",
    "plt.imshow(image, cmap=\"gray\", vmin=0, vmax=255)\n",
    "plt.colorbar(label=\"Pixel Intensity\")\n",
    "plt.title(\"5x5 Grayscale Image\")\n",
    "plt.show()\n",
    "\n",
    "\n",
    "print(\"Pixel Values:\\n\", image)\n"
   ]
  },
  {
   "cell_type": "markdown",
   "metadata": {},
   "source": []
  },
  {
   "cell_type": "markdown",
   "metadata": {},
   "source": [
    "exercice 6"
   ]
  },
  {
   "cell_type": "code",
   "execution_count": 55,
   "metadata": {},
   "outputs": [],
   "source": [
    "import numpy as np\n",
    "import scipy.stats as stats\n"
   ]
  },
  {
   "cell_type": "code",
   "execution_count": 54,
   "metadata": {},
   "outputs": [
    {
     "ename": "SyntaxError",
     "evalue": "unexpected EOF while parsing (2603887511.py, line 17)",
     "output_type": "error",
     "traceback": [
      "\u001b[0;36m  Cell \u001b[0;32mIn[54], line 17\u001b[0;36m\u001b[0m\n\u001b[0;31m    \u001b[0m\n\u001b[0m    ^\u001b[0m\n\u001b[0;31mSyntaxError\u001b[0m\u001b[0;31m:\u001b[0m unexpected EOF while parsing\n"
     ]
    }
   ],
   "source": [
    "import numpy as np\n",
    "import scipy.stats as stats\n",
    "\n",
    "\n",
    "np.random.seed(42)\n",
    "\n",
    "productivity_before = np.random.normal(loc=50, scale=10, size=30)\n",
    "\n",
    "\n",
    "productivity_after = productivity_before + np.random.normal(loc=5, scale=3, size=30)\n",
    "\n",
    "\n",
    "mean_before = np.mean(productivity_before)\n",
    "mean_after = np.mean(productivity_after)\n",
    "std_before = np.std(productivity_before, ddof=1)\n",
    "std_after = np.std(productivity_after, ddof=1\n",
    "\n"
   ]
  },
  {
   "cell_type": "markdown",
   "metadata": {},
   "source": [
    "exercice 7"
   ]
  },
  {
   "cell_type": "code",
   "execution_count": 56,
   "metadata": {},
   "outputs": [],
   "source": [
    "import numpy as np"
   ]
  },
  {
   "cell_type": "code",
   "execution_count": 57,
   "metadata": {},
   "outputs": [],
   "source": [
    "np.random.seed(42)"
   ]
  },
  {
   "cell_type": "code",
   "execution_count": 58,
   "metadata": {},
   "outputs": [],
   "source": [
    "array1 = np.random.randint(1, 100, size=10)\n",
    "array2 = np.random.randint(1, 100, size=10)"
   ]
  },
  {
   "cell_type": "code",
   "execution_count": 59,
   "metadata": {},
   "outputs": [
    {
     "name": "stdout",
     "output_type": "stream",
     "text": [
      "Array 1: [52 93 15 72 61 21 83 87 75 75]\n",
      "Array 2: [88 24  3 22 53  2 88 30 38  2]\n"
     ]
    }
   ],
   "source": [
    "print(\"Array 1:\", array1)\n",
    "print(\"Array 2:\", array2)"
   ]
  },
  {
   "cell_type": "code",
   "execution_count": 60,
   "metadata": {},
   "outputs": [],
   "source": [
    "comparison_result = array1 > array2"
   ]
  },
  {
   "cell_type": "code",
   "execution_count": 61,
   "metadata": {},
   "outputs": [
    {
     "name": "stdout",
     "output_type": "stream",
     "text": [
      "Element-wise comparison (Array 1 > Array 2):\n",
      "[False  True  True  True  True  True False  True  True  True]\n"
     ]
    }
   ],
   "source": [
    "print(\"Element-wise comparison (Array 1 > Array 2):\")\n",
    "print(comparison_result)"
   ]
  },
  {
   "cell_type": "markdown",
   "metadata": {},
   "source": [
    "exercice 8"
   ]
  },
  {
   "cell_type": "code",
   "execution_count": 63,
   "metadata": {},
   "outputs": [],
   "source": [
    "import numpy as np\n",
    "import pandas as pd"
   ]
  },
  {
   "cell_type": "code",
   "execution_count": 64,
   "metadata": {},
   "outputs": [],
   "source": [
    "date_range = pd.date_range(start=\"2023-01-01\", end=\"2023-12-31\", freq=\"D\")\n"
   ]
  },
  {
   "cell_type": "code",
   "execution_count": 65,
   "metadata": {},
   "outputs": [],
   "source": [
    "np.random.seed(42)  \n",
    "time_series_data = np.random.randint(50, 150, size=len(date_range))"
   ]
  },
  {
   "cell_type": "code",
   "execution_count": 66,
   "metadata": {},
   "outputs": [],
   "source": [
    "time_series_df = pd.DataFrame({\"Date\": date_range, \"Value\": time_series_data})\n",
    "time_series_df.set_index(\"Date\", inplace=True)\n"
   ]
  },
  {
   "cell_type": "code",
   "execution_count": 67,
   "metadata": {},
   "outputs": [],
   "source": [
    "q1 = time_series_df[\"2023-01-01\":\"2023-03-31\"]  \n",
    "q2 = time_series_df[\"2023-04-01\":\"2023-06-30\"]  \n",
    "q3 = time_series_df[\"2023-07-01\":\"2023-09-30\"]  \n",
    "q4 = time_series_df[\"2023-10-01\":\"2023-12-31\"]  "
   ]
  },
  {
   "cell_type": "code",
   "execution_count": 68,
   "metadata": {},
   "outputs": [
    {
     "name": "stdout",
     "output_type": "stream",
     "text": [
      "=== Janvier à Mars ===\n",
      "            Value\n",
      "Date             \n",
      "2023-01-01    101\n",
      "2023-01-02    142\n",
      "2023-01-03     64\n",
      "2023-01-04    121\n",
      "2023-01-05    110 \n",
      "\n"
     ]
    }
   ],
   "source": [
    "print(\"=== Janvier à Mars ===\")\n",
    "print(q1.head(), \"\\n\")"
   ]
  },
  {
   "cell_type": "code",
   "execution_count": 69,
   "metadata": {},
   "outputs": [
    {
     "name": "stdout",
     "output_type": "stream",
     "text": [
      "=== Avril à Juin ===\n",
      "            Value\n",
      "Date             \n",
      "2023-04-01    121\n",
      "2023-04-02    127\n",
      "2023-04-03    136\n",
      "2023-04-04    111\n",
      "2023-04-05     89 \n",
      "\n"
     ]
    }
   ],
   "source": [
    "print(\"=== Avril à Juin ===\")\n",
    "print(q2.head(), \"\\n\")"
   ]
  },
  {
   "cell_type": "code",
   "execution_count": 70,
   "metadata": {},
   "outputs": [
    {
     "name": "stdout",
     "output_type": "stream",
     "text": [
      "=== Juillet à Septembre ===\n",
      "            Value\n",
      "Date             \n",
      "2023-07-01     77\n",
      "2023-07-02     77\n",
      "2023-07-03     93\n",
      "2023-07-04    133\n",
      "2023-07-05     79 \n",
      "\n"
     ]
    }
   ],
   "source": [
    "print(\"=== Juillet à Septembre ===\")\n",
    "print(q3.head(), \"\\n\")"
   ]
  },
  {
   "cell_type": "code",
   "execution_count": 71,
   "metadata": {},
   "outputs": [
    {
     "name": "stdout",
     "output_type": "stream",
     "text": [
      "=== Octobre à Décembre ===\n",
      "            Value\n",
      "Date             \n",
      "2023-10-01    131\n",
      "2023-10-02     50\n",
      "2023-10-03     60\n",
      "2023-10-04    141\n",
      "2023-10-05    106 \n",
      "\n"
     ]
    }
   ],
   "source": [
    "print(\"=== Octobre à Décembre ===\")\n",
    "print(q4.head(), \"\\n\")"
   ]
  },
  {
   "cell_type": "markdown",
   "metadata": {},
   "source": [
    "exercice 9"
   ]
  },
  {
   "cell_type": "code",
   "execution_count": 73,
   "metadata": {},
   "outputs": [],
   "source": [
    "import numpy as np\n",
    "import pandas as pd"
   ]
  },
  {
   "cell_type": "code",
   "execution_count": 74,
   "metadata": {},
   "outputs": [],
   "source": [
    "np_array = np.random.randint(1, 100, size=(5, 3))"
   ]
  },
  {
   "cell_type": "code",
   "execution_count": 75,
   "metadata": {},
   "outputs": [],
   "source": [
    "df_from_np = pd.DataFrame(np_array, columns=[\"A\", \"B\", \"C\"])"
   ]
  },
  {
   "cell_type": "code",
   "execution_count": 76,
   "metadata": {},
   "outputs": [
    {
     "name": "stdout",
     "output_type": "stream",
     "text": [
      "NumPy Array:\n",
      "[[17 44 92]\n",
      " [30 93 46]\n",
      " [ 6 99 37]\n",
      " [24 93 46]\n",
      " [53 95 99]]\n",
      "\n",
      "Converted to Pandas DataFrame:\n",
      "    A   B   C\n",
      "0  17  44  92\n",
      "1  30  93  46\n",
      "2   6  99  37\n",
      "3  24  93  46\n",
      "4  53  95  99\n"
     ]
    }
   ],
   "source": [
    "print(\"NumPy Array:\")\n",
    "print(np_array)\n",
    "print(\"\\nConverted to Pandas DataFrame:\")\n",
    "print(df_from_np)"
   ]
  },
  {
   "cell_type": "markdown",
   "metadata": {},
   "source": []
  },
  {
   "cell_type": "code",
   "execution_count": null,
   "metadata": {},
   "outputs": [],
   "source": []
  },
  {
   "cell_type": "markdown",
   "metadata": {},
   "source": []
  },
  {
   "cell_type": "code",
   "execution_count": null,
   "metadata": {},
   "outputs": [],
   "source": []
  },
  {
   "cell_type": "code",
   "execution_count": null,
   "metadata": {},
   "outputs": [],
   "source": []
  },
  {
   "cell_type": "code",
   "execution_count": null,
   "metadata": {},
   "outputs": [],
   "source": []
  },
  {
   "cell_type": "code",
   "execution_count": null,
   "metadata": {},
   "outputs": [],
   "source": []
  }
 ],
 "metadata": {
  "kernelspec": {
   "display_name": "3.8.10",
   "language": "python",
   "name": "python3"
  },
  "language_info": {
   "codemirror_mode": {
    "name": "ipython",
    "version": 3
   },
   "file_extension": ".py",
   "mimetype": "text/x-python",
   "name": "python",
   "nbconvert_exporter": "python",
   "pygments_lexer": "ipython3",
   "version": "3.8.10"
  }
 },
 "nbformat": 4,
 "nbformat_minor": 2
}
