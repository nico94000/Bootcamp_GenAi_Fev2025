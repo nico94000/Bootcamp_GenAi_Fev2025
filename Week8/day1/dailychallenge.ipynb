{
 "cells": [
  {
   "cell_type": "markdown",
   "metadata": {},
   "source": [
    "Reformule clairement et de façon conviviale le texte suivant en 75 mots maximum. Utilise uniquement des puces, paraphrase sans citations directes et évite tout jargon technique ou formel :\n",
    "\"Les employés doivent s'assurer que tout accès à distance aux systèmes internes est établi via le VPN sécurisé approuvé. En aucun cas, les connexions non sécurisées ou les appareils personnels dépourvus de protection des terminaux ne doivent être utilisés pour accéder à des données propriétaires ou aux communications sensibles.\" »"
   ]
  },
  {
   "cell_type": "markdown",
   "metadata": {},
   "source": [
    "Étape 2 : Évaluation de la Sortie (Exemple de sortie possible)\n",
    "\n",
    "Exemple de Sortie :\n",
    "\n",
    "Connectez-vous toujours aux systèmes internes en passant par le VPN sécurisé fourni par l’entreprise.\n",
    "Ne vous connectez jamais avec des appareils personnels non protégés.\n",
    "Évitez absolument les connexions non sécurisées pour consulter des données confidentielles ou sensibles.\n",
    "Évaluation selon les critères :\n",
    "\n",
    "Critères\tÉvaluation\n",
    "Pertinence\t✅ Respecte fidèlement le message original.\n",
    "Clarté\t✅ Clair pour un public non technique.\n",
    "Structure\t✅ Formaté clairement en puces.\n",
    "Ton\t✅ Adapté, convivial, adapté à l’interne.\n",
    "Longueur\t✅ Respecte la limite de 75 mots.\n",
    "Exactitude factuelle\t✅ Conserve tous les détails critiques.\n"
   ]
  },
  {
   "cell_type": "markdown",
   "metadata": {},
   "source": [
    "Étape 3 : Atténuation des Hallucinations\n",
    "\n",
    "(En cas d'hallucination, on ajusterait ainsi l’invite originale : )\n",
    "\n",
    "« Reformule clairement et de façon conviviale uniquement le texte d'entrée ci-dessous en maximum 75 mots, sous forme de puces. Paraphrase strictement sans ajouter de nouvelles recommandations, terminologies ou technologies non présentes dans le texte original. »\n"
   ]
  },
  {
   "cell_type": "markdown",
   "metadata": {},
   "source": [
    "Étape 4 : Paraphrase Adaptée pour des Stagiaires Juniors\n",
    "\n",
    "Invite :\n",
    "\n",
    "« Réécris clairement le texte suivant pour des stagiaires juniors, avec un ton amical et informatif. Utilise des phrases courtes, simples et au maximum 4 puces. Évite complètement le jargon professionnel ou juridique :\n",
    "\"Les employés doivent s'assurer que tout accès à distance aux systèmes internes est établi via le VPN sécurisé approuvé. En aucun cas, les connexions non sécurisées ou les appareils personnels dépourvus de protection des terminaux ne doivent être utilisés pour accéder à des données propriétaires ou aux communications sensibles.\" »\n",
    "Exemple de Sortie possible :\n",
    "\n",
    "Utilisez toujours le VPN sécurisé fourni pour vous connecter aux systèmes internes.\n",
    "Ne connectez pas votre appareil personnel s’il n’est pas sécurisé.\n",
    "Évitez toute connexion qui n’est pas sécurisée.\n",
    "Protégez toujours les informations confidentielles de l'entreprise.\n"
   ]
  },
  {
   "cell_type": "markdown",
   "metadata": {},
   "source": [
    "Étape 5 : Variante avec Citation Directe\n",
    "\n",
    "Invite :\n",
    "\n",
    "« Extrait une citation directe du texte original qui reflète clairement la règle de sécurité essentielle à communiquer aux employés. »\n",
    "Exemple de Sortie :\n",
    "\n",
    "« En aucun cas, les connexions non sécurisées ou les appareils personnels dépourvus de protection des terminaux ne doivent être utilisés pour accéder à des données propriétaires ou aux communications sensibles. »\n",
    "Questions de réflexion :\n",
    "Dans quel type de communication interne les citations seraient-elles plus appropriées que la paraphrase ?\n",
    "Les citations sont particulièrement efficaces dans des communications officielles, des formations règlementaires ou des alertes importantes de sécurité, où la précision du libellé original compte.\n",
    "Quand la citation pourrait-elle présenter un risque ?\n",
    "Les citations risquent d'être trop formelles, peu accessibles ou incomprises par des publics moins techniques. Elles peuvent aussi créer de la confusion si le contexte n’est pas suffisamment expliqué.\n"
   ]
  },
  {
   "cell_type": "markdown",
   "metadata": {},
   "source": []
  },
  {
   "cell_type": "markdown",
   "metadata": {},
   "source": []
  },
  {
   "cell_type": "markdown",
   "metadata": {},
   "source": []
  },
  {
   "cell_type": "code",
   "execution_count": null,
   "metadata": {},
   "outputs": [],
   "source": []
  }
 ],
 "metadata": {
  "kernelspec": {
   "display_name": "3.8.10",
   "language": "python",
   "name": "python3"
  },
  "language_info": {
   "name": "python",
   "version": "3.8.10"
  }
 },
 "nbformat": 4,
 "nbformat_minor": 2
}
