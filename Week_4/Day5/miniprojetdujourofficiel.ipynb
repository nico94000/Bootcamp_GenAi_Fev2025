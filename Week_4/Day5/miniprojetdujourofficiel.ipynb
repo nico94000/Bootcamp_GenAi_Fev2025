{
 "cells": [
  {
   "cell_type": "code",
   "execution_count": 9,
   "metadata": {},
   "outputs": [],
   "source": [
    "from tensorflow.keras.preprocessing.sequence import pad_sequences\n"
   ]
  },
  {
   "cell_type": "code",
   "execution_count": 10,
   "metadata": {},
   "outputs": [
    {
     "name": "stdout",
     "output_type": "stream",
     "text": [
      "Requirement already satisfied: tensorflow in /Users/Nicolas/.pyenv/versions/3.8.10/lib/python3.8/site-packages (2.13.0)\n",
      "Requirement already satisfied: keras in /Users/Nicolas/.pyenv/versions/3.8.10/lib/python3.8/site-packages (2.13.1)\n",
      "Requirement already satisfied: tensorflow-macos==2.13.0 in /Users/Nicolas/.pyenv/versions/3.8.10/lib/python3.8/site-packages (from tensorflow) (2.13.0)\n",
      "Requirement already satisfied: setuptools in /Users/Nicolas/.pyenv/versions/3.8.10/lib/python3.8/site-packages (from tensorflow-macos==2.13.0->tensorflow) (56.0.0)\n",
      "Requirement already satisfied: absl-py>=1.0.0 in /Users/Nicolas/.pyenv/versions/3.8.10/lib/python3.8/site-packages (from tensorflow-macos==2.13.0->tensorflow) (2.1.0)\n",
      "Requirement already satisfied: numpy<=1.24.3,>=1.22 in /Users/Nicolas/.pyenv/versions/3.8.10/lib/python3.8/site-packages (from tensorflow-macos==2.13.0->tensorflow) (1.24.3)\n",
      "Requirement already satisfied: termcolor>=1.1.0 in /Users/Nicolas/.pyenv/versions/3.8.10/lib/python3.8/site-packages (from tensorflow-macos==2.13.0->tensorflow) (2.4.0)\n",
      "Requirement already satisfied: flatbuffers>=23.1.21 in /Users/Nicolas/.pyenv/versions/3.8.10/lib/python3.8/site-packages (from tensorflow-macos==2.13.0->tensorflow) (25.2.10)\n",
      "Requirement already satisfied: opt-einsum>=2.3.2 in /Users/Nicolas/.pyenv/versions/3.8.10/lib/python3.8/site-packages (from tensorflow-macos==2.13.0->tensorflow) (3.4.0)\n",
      "Requirement already satisfied: grpcio<2.0,>=1.24.3 in /Users/Nicolas/.pyenv/versions/3.8.10/lib/python3.8/site-packages (from tensorflow-macos==2.13.0->tensorflow) (1.70.0)\n",
      "Requirement already satisfied: tensorflow-estimator<2.14,>=2.13.0 in /Users/Nicolas/.pyenv/versions/3.8.10/lib/python3.8/site-packages (from tensorflow-macos==2.13.0->tensorflow) (2.13.0)\n",
      "Requirement already satisfied: astunparse>=1.6.0 in /Users/Nicolas/.pyenv/versions/3.8.10/lib/python3.8/site-packages (from tensorflow-macos==2.13.0->tensorflow) (1.6.3)\n",
      "Requirement already satisfied: gast<=0.4.0,>=0.2.1 in /Users/Nicolas/.pyenv/versions/3.8.10/lib/python3.8/site-packages (from tensorflow-macos==2.13.0->tensorflow) (0.4.0)\n",
      "Requirement already satisfied: libclang>=13.0.0 in /Users/Nicolas/.pyenv/versions/3.8.10/lib/python3.8/site-packages (from tensorflow-macos==2.13.0->tensorflow) (18.1.1)\n",
      "Requirement already satisfied: typing-extensions<4.6.0,>=3.6.6 in /Users/Nicolas/.pyenv/versions/3.8.10/lib/python3.8/site-packages (from tensorflow-macos==2.13.0->tensorflow) (4.5.0)\n",
      "Requirement already satisfied: six>=1.12.0 in /Users/Nicolas/.pyenv/versions/3.8.10/lib/python3.8/site-packages (from tensorflow-macos==2.13.0->tensorflow) (1.17.0)\n",
      "Requirement already satisfied: h5py>=2.9.0 in /Users/Nicolas/.pyenv/versions/3.8.10/lib/python3.8/site-packages (from tensorflow-macos==2.13.0->tensorflow) (3.11.0)\n",
      "Requirement already satisfied: packaging in /Users/Nicolas/.pyenv/versions/3.8.10/lib/python3.8/site-packages (from tensorflow-macos==2.13.0->tensorflow) (24.2)\n",
      "Requirement already satisfied: wrapt>=1.11.0 in /Users/Nicolas/.pyenv/versions/3.8.10/lib/python3.8/site-packages (from tensorflow-macos==2.13.0->tensorflow) (1.17.2)\n",
      "Requirement already satisfied: google-pasta>=0.1.1 in /Users/Nicolas/.pyenv/versions/3.8.10/lib/python3.8/site-packages (from tensorflow-macos==2.13.0->tensorflow) (0.2.0)\n",
      "Requirement already satisfied: protobuf!=4.21.0,!=4.21.1,!=4.21.2,!=4.21.3,!=4.21.4,!=4.21.5,<5.0.0dev,>=3.20.3 in /Users/Nicolas/.pyenv/versions/3.8.10/lib/python3.8/site-packages (from tensorflow-macos==2.13.0->tensorflow) (4.25.6)\n",
      "Requirement already satisfied: tensorboard<2.14,>=2.13 in /Users/Nicolas/.pyenv/versions/3.8.10/lib/python3.8/site-packages (from tensorflow-macos==2.13.0->tensorflow) (2.13.0)\n",
      "Requirement already satisfied: wheel<1.0,>=0.23.0 in /Users/Nicolas/.pyenv/versions/3.8.10/lib/python3.8/site-packages (from astunparse>=1.6.0->tensorflow-macos==2.13.0->tensorflow) (0.45.1)\n",
      "Requirement already satisfied: google-auth-oauthlib<1.1,>=0.5 in /Users/Nicolas/.pyenv/versions/3.8.10/lib/python3.8/site-packages (from tensorboard<2.14,>=2.13->tensorflow-macos==2.13.0->tensorflow) (1.0.0)\n",
      "Requirement already satisfied: google-auth<3,>=1.6.3 in /Users/Nicolas/.pyenv/versions/3.8.10/lib/python3.8/site-packages (from tensorboard<2.14,>=2.13->tensorflow-macos==2.13.0->tensorflow) (2.38.0)\n",
      "Requirement already satisfied: requests<3,>=2.21.0 in /Users/Nicolas/.pyenv/versions/3.8.10/lib/python3.8/site-packages (from tensorboard<2.14,>=2.13->tensorflow-macos==2.13.0->tensorflow) (2.32.3)\n",
      "Requirement already satisfied: tensorboard-data-server<0.8.0,>=0.7.0 in /Users/Nicolas/.pyenv/versions/3.8.10/lib/python3.8/site-packages (from tensorboard<2.14,>=2.13->tensorflow-macos==2.13.0->tensorflow) (0.7.2)\n",
      "Requirement already satisfied: markdown>=2.6.8 in /Users/Nicolas/.pyenv/versions/3.8.10/lib/python3.8/site-packages (from tensorboard<2.14,>=2.13->tensorflow-macos==2.13.0->tensorflow) (3.7)\n",
      "Requirement already satisfied: werkzeug>=1.0.1 in /Users/Nicolas/.pyenv/versions/3.8.10/lib/python3.8/site-packages (from tensorboard<2.14,>=2.13->tensorflow-macos==2.13.0->tensorflow) (3.0.6)\n",
      "Requirement already satisfied: cachetools<6.0,>=2.0.0 in /Users/Nicolas/.pyenv/versions/3.8.10/lib/python3.8/site-packages (from google-auth<3,>=1.6.3->tensorboard<2.14,>=2.13->tensorflow-macos==2.13.0->tensorflow) (5.5.1)\n",
      "Requirement already satisfied: pyasn1-modules>=0.2.1 in /Users/Nicolas/.pyenv/versions/3.8.10/lib/python3.8/site-packages (from google-auth<3,>=1.6.3->tensorboard<2.14,>=2.13->tensorflow-macos==2.13.0->tensorflow) (0.4.1)\n",
      "Requirement already satisfied: rsa<5,>=3.1.4 in /Users/Nicolas/.pyenv/versions/3.8.10/lib/python3.8/site-packages (from google-auth<3,>=1.6.3->tensorboard<2.14,>=2.13->tensorflow-macos==2.13.0->tensorflow) (4.9)\n",
      "Requirement already satisfied: requests-oauthlib>=0.7.0 in /Users/Nicolas/.pyenv/versions/3.8.10/lib/python3.8/site-packages (from google-auth-oauthlib<1.1,>=0.5->tensorboard<2.14,>=2.13->tensorflow-macos==2.13.0->tensorflow) (2.0.0)\n",
      "Requirement already satisfied: importlib-metadata>=4.4 in /Users/Nicolas/.pyenv/versions/3.8.10/lib/python3.8/site-packages (from markdown>=2.6.8->tensorboard<2.14,>=2.13->tensorflow-macos==2.13.0->tensorflow) (8.5.0)\n",
      "Requirement already satisfied: zipp>=3.20 in /Users/Nicolas/.pyenv/versions/3.8.10/lib/python3.8/site-packages (from importlib-metadata>=4.4->markdown>=2.6.8->tensorboard<2.14,>=2.13->tensorflow-macos==2.13.0->tensorflow) (3.20.2)\n",
      "Requirement already satisfied: pyasn1<0.7.0,>=0.4.6 in /Users/Nicolas/.pyenv/versions/3.8.10/lib/python3.8/site-packages (from pyasn1-modules>=0.2.1->google-auth<3,>=1.6.3->tensorboard<2.14,>=2.13->tensorflow-macos==2.13.0->tensorflow) (0.6.1)\n",
      "Requirement already satisfied: urllib3<3,>=1.21.1 in /Users/Nicolas/.pyenv/versions/3.8.10/lib/python3.8/site-packages (from requests<3,>=2.21.0->tensorboard<2.14,>=2.13->tensorflow-macos==2.13.0->tensorflow) (2.2.3)\n",
      "Requirement already satisfied: certifi>=2017.4.17 in /Users/Nicolas/.pyenv/versions/3.8.10/lib/python3.8/site-packages (from requests<3,>=2.21.0->tensorboard<2.14,>=2.13->tensorflow-macos==2.13.0->tensorflow) (2025.1.31)\n",
      "Requirement already satisfied: idna<4,>=2.5 in /Users/Nicolas/.pyenv/versions/3.8.10/lib/python3.8/site-packages (from requests<3,>=2.21.0->tensorboard<2.14,>=2.13->tensorflow-macos==2.13.0->tensorflow) (3.10)\n",
      "Requirement already satisfied: charset-normalizer<4,>=2 in /Users/Nicolas/.pyenv/versions/3.8.10/lib/python3.8/site-packages (from requests<3,>=2.21.0->tensorboard<2.14,>=2.13->tensorflow-macos==2.13.0->tensorflow) (3.4.1)\n",
      "Requirement already satisfied: oauthlib>=3.0.0 in /Users/Nicolas/.pyenv/versions/3.8.10/lib/python3.8/site-packages (from requests-oauthlib>=0.7.0->google-auth-oauthlib<1.1,>=0.5->tensorboard<2.14,>=2.13->tensorflow-macos==2.13.0->tensorflow) (3.2.2)\n",
      "Requirement already satisfied: MarkupSafe>=2.1.1 in /Users/Nicolas/.pyenv/versions/3.8.10/lib/python3.8/site-packages (from werkzeug>=1.0.1->tensorboard<2.14,>=2.13->tensorflow-macos==2.13.0->tensorflow) (2.1.5)\n",
      "\u001b[33mWARNING: You are using pip version 21.1.1; however, version 25.0.1 is available.\n",
      "You should consider upgrading via the '/Users/Nicolas/.pyenv/versions/3.8.10/bin/python -m pip install --upgrade pip' command.\u001b[0m\n",
      "Note: you may need to restart the kernel to use updated packages.\n"
     ]
    }
   ],
   "source": [
    "pip install tensorflow keras\n"
   ]
  },
  {
   "cell_type": "code",
   "execution_count": 11,
   "metadata": {},
   "outputs": [],
   "source": [
    "import pandas as pd\n",
    "import numpy as np\n",
    "import tensorflow as tf\n",
    "from tensorflow import keras\n",
    "from tensorflow.keras.datasets import imdb"
   ]
  },
  {
   "cell_type": "code",
   "execution_count": 12,
   "metadata": {},
   "outputs": [],
   "source": [
    "from tensorflow.keras.preprocessing.text import Tokenizer\n"
   ]
  },
  {
   "cell_type": "code",
   "execution_count": 13,
   "metadata": {},
   "outputs": [],
   "source": [
    "file_path = \"IMDBDataset.csv\"\n",
    "df = pd.read_csv(file_path)"
   ]
  },
  {
   "cell_type": "code",
   "execution_count": 14,
   "metadata": {},
   "outputs": [
    {
     "name": "stdout",
     "output_type": "stream",
     "text": [
      "Aperçu des données :\n",
      "                                              review sentiment\n",
      "0  One of the other reviewers has mentioned that ...  positive\n",
      "1  A wonderful little production. <br /><br />The...  positive\n",
      "2  I thought this was a wonderful way to spend ti...  positive\n",
      "3  Basically there's a family where a little boy ...  negative\n",
      "4  Petter Mattei's \"Love in the Time of Money\" is...  positive\n"
     ]
    }
   ],
   "source": [
    "print(\"Aperçu des données :\")\n",
    "print(df.head())\n"
   ]
  },
  {
   "cell_type": "code",
   "execution_count": 15,
   "metadata": {},
   "outputs": [
    {
     "name": "stdout",
     "output_type": "stream",
     "text": [
      "\n",
      "Valeurs manquantes :\n",
      "review       0\n",
      "sentiment    0\n",
      "dtype: int64\n"
     ]
    }
   ],
   "source": [
    "print(\"\\nValeurs manquantes :\")\n",
    "print(df.isnull().sum())\n"
   ]
  },
  {
   "cell_type": "code",
   "execution_count": 16,
   "metadata": {},
   "outputs": [
    {
     "name": "stdout",
     "output_type": "stream",
     "text": [
      "\n",
      "Répartition des classes :\n",
      "sentiment\n",
      "positive    25000\n",
      "negative    25000\n",
      "Name: count, dtype: int64\n"
     ]
    }
   ],
   "source": [
    "print(\"\\nRépartition des classes :\")\n",
    "print(df['sentiment'].value_counts())\n"
   ]
  },
  {
   "cell_type": "code",
   "execution_count": 17,
   "metadata": {},
   "outputs": [
    {
     "name": "stdout",
     "output_type": "stream",
     "text": [
      "\n",
      "Prétraitement terminé !\n",
      "Taille des données d'entraînement : 40000\n",
      "Taille des données de test : 10000\n"
     ]
    }
   ],
   "source": [
    "# 2. Convertir les labels en valeurs binaires\n",
    "df['sentiment'] = df['sentiment'].map({'positive': 1, 'negative': 0})\n",
    "\n",
    "# 3. Nettoyer le texte (suppression des majuscules et de la ponctuation)\n",
    "df['review'] = df['review'].str.lower().str.replace(r\"[^a-z0-9 ]\", \"\", regex=True)\n",
    "\n",
    "# 4. Tokenisation\n",
    "tokenizer = Tokenizer(num_words=10000, oov_token=\"<OOV>\")\n",
    "tokenizer.fit_on_texts(df['review'])\n",
    "sequences = tokenizer.texts_to_sequences(df['review'])\n",
    "\n",
    "# 5. Padding (uniformisation de la longueur des critiques)\n",
    "max_length = 200  # On tronque ou padde à 200 mots\n",
    "x_data = pad_sequences(sequences, maxlen=max_length, padding='post', truncating='post')\n",
    "y_data = df['sentiment'].values\n",
    "\n",
    "# 6. Séparation des ensembles de données\n",
    "split = int(0.8 * len(x_data))  # 80% entraînement, 20% test\n",
    "x_train, x_test = x_data[:split], x_data[split:]\n",
    "y_train, y_test = y_data[:split], y_data[split:]\n",
    "\n",
    "print(\"\\nPrétraitement terminé !\")\n",
    "print(f\"Taille des données d'entraînement : {len(x_train)}\")\n",
    "print(f\"Taille des données de test : {len(x_test)}\")\n"
   ]
  },
  {
   "cell_type": "code",
   "execution_count": 18,
   "metadata": {},
   "outputs": [
    {
     "name": "stdout",
     "output_type": "stream",
     "text": [
      "Requirement already satisfied: tensorflow in /Users/Nicolas/.pyenv/versions/3.8.10/lib/python3.8/site-packages (2.13.0)\n",
      "Collecting tensorflow\n",
      "  Using cached tensorflow-2.13.1-cp38-cp38-macosx_12_0_arm64.whl (1.9 kB)\n",
      "Requirement already satisfied: keras in /Users/Nicolas/.pyenv/versions/3.8.10/lib/python3.8/site-packages (2.13.1)\n",
      "Collecting keras\n",
      "  Using cached keras-2.15.0-py3-none-any.whl (1.7 MB)\n",
      "Requirement already satisfied: tensorflow-macos==2.13.0 in /Users/Nicolas/.pyenv/versions/3.8.10/lib/python3.8/site-packages (from tensorflow) (2.13.0)\n",
      "Requirement already satisfied: tensorflow-estimator<2.14,>=2.13.0 in /Users/Nicolas/.pyenv/versions/3.8.10/lib/python3.8/site-packages (from tensorflow-macos==2.13.0->tensorflow) (2.13.0)\n",
      "Requirement already satisfied: typing-extensions<4.6.0,>=3.6.6 in /Users/Nicolas/.pyenv/versions/3.8.10/lib/python3.8/site-packages (from tensorflow-macos==2.13.0->tensorflow) (4.5.0)\n",
      "Requirement already satisfied: opt-einsum>=2.3.2 in /Users/Nicolas/.pyenv/versions/3.8.10/lib/python3.8/site-packages (from tensorflow-macos==2.13.0->tensorflow) (3.4.0)\n",
      "Requirement already satisfied: grpcio<2.0,>=1.24.3 in /Users/Nicolas/.pyenv/versions/3.8.10/lib/python3.8/site-packages (from tensorflow-macos==2.13.0->tensorflow) (1.70.0)\n",
      "Requirement already satisfied: h5py>=2.9.0 in /Users/Nicolas/.pyenv/versions/3.8.10/lib/python3.8/site-packages (from tensorflow-macos==2.13.0->tensorflow) (3.11.0)\n",
      "Requirement already satisfied: tensorboard<2.14,>=2.13 in /Users/Nicolas/.pyenv/versions/3.8.10/lib/python3.8/site-packages (from tensorflow-macos==2.13.0->tensorflow) (2.13.0)\n",
      "Requirement already satisfied: termcolor>=1.1.0 in /Users/Nicolas/.pyenv/versions/3.8.10/lib/python3.8/site-packages (from tensorflow-macos==2.13.0->tensorflow) (2.4.0)\n",
      "Requirement already satisfied: google-pasta>=0.1.1 in /Users/Nicolas/.pyenv/versions/3.8.10/lib/python3.8/site-packages (from tensorflow-macos==2.13.0->tensorflow) (0.2.0)\n",
      "Requirement already satisfied: packaging in /Users/Nicolas/.pyenv/versions/3.8.10/lib/python3.8/site-packages (from tensorflow-macos==2.13.0->tensorflow) (24.2)\n",
      "Requirement already satisfied: flatbuffers>=23.1.21 in /Users/Nicolas/.pyenv/versions/3.8.10/lib/python3.8/site-packages (from tensorflow-macos==2.13.0->tensorflow) (25.2.10)\n",
      "Requirement already satisfied: astunparse>=1.6.0 in /Users/Nicolas/.pyenv/versions/3.8.10/lib/python3.8/site-packages (from tensorflow-macos==2.13.0->tensorflow) (1.6.3)\n",
      "Requirement already satisfied: gast<=0.4.0,>=0.2.1 in /Users/Nicolas/.pyenv/versions/3.8.10/lib/python3.8/site-packages (from tensorflow-macos==2.13.0->tensorflow) (0.4.0)\n",
      "Requirement already satisfied: six>=1.12.0 in /Users/Nicolas/.pyenv/versions/3.8.10/lib/python3.8/site-packages (from tensorflow-macos==2.13.0->tensorflow) (1.17.0)\n",
      "Requirement already satisfied: protobuf!=4.21.0,!=4.21.1,!=4.21.2,!=4.21.3,!=4.21.4,!=4.21.5,<5.0.0dev,>=3.20.3 in /Users/Nicolas/.pyenv/versions/3.8.10/lib/python3.8/site-packages (from tensorflow-macos==2.13.0->tensorflow) (4.25.6)\n",
      "Requirement already satisfied: wrapt>=1.11.0 in /Users/Nicolas/.pyenv/versions/3.8.10/lib/python3.8/site-packages (from tensorflow-macos==2.13.0->tensorflow) (1.17.2)\n",
      "Requirement already satisfied: absl-py>=1.0.0 in /Users/Nicolas/.pyenv/versions/3.8.10/lib/python3.8/site-packages (from tensorflow-macos==2.13.0->tensorflow) (2.1.0)\n",
      "Requirement already satisfied: libclang>=13.0.0 in /Users/Nicolas/.pyenv/versions/3.8.10/lib/python3.8/site-packages (from tensorflow-macos==2.13.0->tensorflow) (18.1.1)\n",
      "Requirement already satisfied: setuptools in /Users/Nicolas/.pyenv/versions/3.8.10/lib/python3.8/site-packages (from tensorflow-macos==2.13.0->tensorflow) (56.0.0)\n",
      "Requirement already satisfied: numpy<=1.24.3,>=1.22 in /Users/Nicolas/.pyenv/versions/3.8.10/lib/python3.8/site-packages (from tensorflow-macos==2.13.0->tensorflow) (1.24.3)\n",
      "Requirement already satisfied: wheel<1.0,>=0.23.0 in /Users/Nicolas/.pyenv/versions/3.8.10/lib/python3.8/site-packages (from astunparse>=1.6.0->tensorflow-macos==2.13.0->tensorflow) (0.45.1)\n",
      "Requirement already satisfied: requests<3,>=2.21.0 in /Users/Nicolas/.pyenv/versions/3.8.10/lib/python3.8/site-packages (from tensorboard<2.14,>=2.13->tensorflow-macos==2.13.0->tensorflow) (2.32.3)\n",
      "Requirement already satisfied: tensorboard-data-server<0.8.0,>=0.7.0 in /Users/Nicolas/.pyenv/versions/3.8.10/lib/python3.8/site-packages (from tensorboard<2.14,>=2.13->tensorflow-macos==2.13.0->tensorflow) (0.7.2)\n",
      "Requirement already satisfied: google-auth-oauthlib<1.1,>=0.5 in /Users/Nicolas/.pyenv/versions/3.8.10/lib/python3.8/site-packages (from tensorboard<2.14,>=2.13->tensorflow-macos==2.13.0->tensorflow) (1.0.0)\n",
      "Requirement already satisfied: google-auth<3,>=1.6.3 in /Users/Nicolas/.pyenv/versions/3.8.10/lib/python3.8/site-packages (from tensorboard<2.14,>=2.13->tensorflow-macos==2.13.0->tensorflow) (2.38.0)\n",
      "Requirement already satisfied: markdown>=2.6.8 in /Users/Nicolas/.pyenv/versions/3.8.10/lib/python3.8/site-packages (from tensorboard<2.14,>=2.13->tensorflow-macos==2.13.0->tensorflow) (3.7)\n",
      "Requirement already satisfied: werkzeug>=1.0.1 in /Users/Nicolas/.pyenv/versions/3.8.10/lib/python3.8/site-packages (from tensorboard<2.14,>=2.13->tensorflow-macos==2.13.0->tensorflow) (3.0.6)\n",
      "Requirement already satisfied: cachetools<6.0,>=2.0.0 in /Users/Nicolas/.pyenv/versions/3.8.10/lib/python3.8/site-packages (from google-auth<3,>=1.6.3->tensorboard<2.14,>=2.13->tensorflow-macos==2.13.0->tensorflow) (5.5.1)\n",
      "Requirement already satisfied: rsa<5,>=3.1.4 in /Users/Nicolas/.pyenv/versions/3.8.10/lib/python3.8/site-packages (from google-auth<3,>=1.6.3->tensorboard<2.14,>=2.13->tensorflow-macos==2.13.0->tensorflow) (4.9)\n",
      "Requirement already satisfied: pyasn1-modules>=0.2.1 in /Users/Nicolas/.pyenv/versions/3.8.10/lib/python3.8/site-packages (from google-auth<3,>=1.6.3->tensorboard<2.14,>=2.13->tensorflow-macos==2.13.0->tensorflow) (0.4.1)\n",
      "Requirement already satisfied: requests-oauthlib>=0.7.0 in /Users/Nicolas/.pyenv/versions/3.8.10/lib/python3.8/site-packages (from google-auth-oauthlib<1.1,>=0.5->tensorboard<2.14,>=2.13->tensorflow-macos==2.13.0->tensorflow) (2.0.0)\n",
      "Requirement already satisfied: importlib-metadata>=4.4 in /Users/Nicolas/.pyenv/versions/3.8.10/lib/python3.8/site-packages (from markdown>=2.6.8->tensorboard<2.14,>=2.13->tensorflow-macos==2.13.0->tensorflow) (8.5.0)\n",
      "Requirement already satisfied: zipp>=3.20 in /Users/Nicolas/.pyenv/versions/3.8.10/lib/python3.8/site-packages (from importlib-metadata>=4.4->markdown>=2.6.8->tensorboard<2.14,>=2.13->tensorflow-macos==2.13.0->tensorflow) (3.20.2)\n",
      "Requirement already satisfied: pyasn1<0.7.0,>=0.4.6 in /Users/Nicolas/.pyenv/versions/3.8.10/lib/python3.8/site-packages (from pyasn1-modules>=0.2.1->google-auth<3,>=1.6.3->tensorboard<2.14,>=2.13->tensorflow-macos==2.13.0->tensorflow) (0.6.1)\n",
      "Requirement already satisfied: charset-normalizer<4,>=2 in /Users/Nicolas/.pyenv/versions/3.8.10/lib/python3.8/site-packages (from requests<3,>=2.21.0->tensorboard<2.14,>=2.13->tensorflow-macos==2.13.0->tensorflow) (3.4.1)\n",
      "Requirement already satisfied: certifi>=2017.4.17 in /Users/Nicolas/.pyenv/versions/3.8.10/lib/python3.8/site-packages (from requests<3,>=2.21.0->tensorboard<2.14,>=2.13->tensorflow-macos==2.13.0->tensorflow) (2025.1.31)\n",
      "Requirement already satisfied: idna<4,>=2.5 in /Users/Nicolas/.pyenv/versions/3.8.10/lib/python3.8/site-packages (from requests<3,>=2.21.0->tensorboard<2.14,>=2.13->tensorflow-macos==2.13.0->tensorflow) (3.10)\n",
      "Requirement already satisfied: urllib3<3,>=1.21.1 in /Users/Nicolas/.pyenv/versions/3.8.10/lib/python3.8/site-packages (from requests<3,>=2.21.0->tensorboard<2.14,>=2.13->tensorflow-macos==2.13.0->tensorflow) (2.2.3)\n",
      "Requirement already satisfied: oauthlib>=3.0.0 in /Users/Nicolas/.pyenv/versions/3.8.10/lib/python3.8/site-packages (from requests-oauthlib>=0.7.0->google-auth-oauthlib<1.1,>=0.5->tensorboard<2.14,>=2.13->tensorflow-macos==2.13.0->tensorflow) (3.2.2)\n",
      "Requirement already satisfied: MarkupSafe>=2.1.1 in /Users/Nicolas/.pyenv/versions/3.8.10/lib/python3.8/site-packages (from werkzeug>=1.0.1->tensorboard<2.14,>=2.13->tensorflow-macos==2.13.0->tensorflow) (2.1.5)\n",
      "\u001b[33mWARNING: You are using pip version 21.1.1; however, version 25.0.1 is available.\n",
      "You should consider upgrading via the '/Users/Nicolas/.pyenv/versions/3.8.10/bin/python -m pip install --upgrade pip' command.\u001b[0m\n",
      "Note: you may need to restart the kernel to use updated packages.\n"
     ]
    }
   ],
   "source": [
    "pip install tensorflow keras --upgrade\n"
   ]
  },
  {
   "cell_type": "code",
   "execution_count": null,
   "metadata": {},
   "outputs": [],
   "source": []
  }
 ],
 "metadata": {
  "kernelspec": {
   "display_name": "3.8.10",
   "language": "python",
   "name": "python3"
  },
  "language_info": {
   "codemirror_mode": {
    "name": "ipython",
    "version": 3
   },
   "file_extension": ".py",
   "mimetype": "text/x-python",
   "name": "python",
   "nbconvert_exporter": "python",
   "pygments_lexer": "ipython3",
   "version": "3.8.10"
  }
 },
 "nbformat": 4,
 "nbformat_minor": 2
}
