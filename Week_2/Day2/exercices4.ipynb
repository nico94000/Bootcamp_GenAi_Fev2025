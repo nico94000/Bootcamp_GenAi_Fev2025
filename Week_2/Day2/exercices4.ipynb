{
 "cells": [
  {
   "cell_type": "code",
   "execution_count": 1,
   "metadata": {},
   "outputs": [
    {
     "name": "stdout",
     "output_type": "stream",
     "text": [
      "  Product Name      Category  Sale Amount Date of Sale  Customer Age  \\\n",
      "0   collection         Sport       282.04   2023-06-13            65   \n",
      "1         plan         Sport        24.56   2024-10-06            24   \n",
      "2  institution          Mode        24.99   2023-07-22            71   \n",
      "3       debate        Maison       762.56   2023-08-19            60   \n",
      "4      society  Électronique      1511.27   2023-10-09            59   \n",
      "\n",
      "  Store Location   Payment Method  \n",
      "0     Henryburgh         Virement  \n",
      "1    Brendaburgh         Virement  \n",
      "2      Craigport  Carte de crédit  \n",
      "3     Morganview           PayPal  \n",
      "4      Jamietown          Espèces  \n"
     ]
    }
   ],
   "source": [
    "import pandas as pd\n",
    "import numpy as np\n",
    "from faker import Faker\n",
    "\n",
    "# Initialisation de Faker\n",
    "fake = Faker()\n",
    "\n",
    "# Nombre d'échantillons à générer\n",
    "num_samples = 50  # Change ce nombre pour plus de données\n",
    "\n",
    "# Catégories de produits\n",
    "categories = [\"Électronique\", \"Mode\", \"Alimentation\", \"Maison\", \"Sport\"]\n",
    "\n",
    "# Modes de paiement\n",
    "payment_methods = [\"Carte de crédit\", \"Espèces\", \"PayPal\", \"Virement\"]\n",
    "\n",
    "# Générer les données synthétiques\n",
    "data = {\n",
    "    \"Product Name\": [fake.word() for _ in range(num_samples)],\n",
    "    \"Category\": [np.random.choice(categories) for _ in range(num_samples)],\n",
    "    \"Sale Amount\": np.random.uniform(5, 2000, num_samples).round(2),\n",
    "    \"Date of Sale\": [fake.date_between(start_date=\"-2y\", end_date=\"today\") for _ in range(num_samples)],\n",
    "    \"Customer Age\": np.random.randint(18, 75, num_samples),\n",
    "    \"Store Location\": [fake.city() for _ in range(num_samples)],\n",
    "    \"Payment Method\": [np.random.choice(payment_methods) for _ in range(num_samples)]\n",
    "}\n",
    "\n",
    "# Création du DataFrame\n",
    "df = pd.DataFrame(data)\n",
    "\n",
    "# Affichage des premières lignes\n",
    "print(df.head())\n",
    "\n",
    "# Sauvegarde en CSV si besoin\n",
    "df.to_csv(\"synthetic_retail_sales.csv\", index=False)\n"
   ]
  }
 ],
 "metadata": {
  "kernelspec": {
   "display_name": "Python 3",
   "language": "python",
   "name": "python3"
  },
  "language_info": {
   "codemirror_mode": {
    "name": "ipython",
    "version": 3
   },
   "file_extension": ".py",
   "mimetype": "text/x-python",
   "name": "python",
   "nbconvert_exporter": "python",
   "pygments_lexer": "ipython3",
   "version": "3.13.2"
  }
 },
 "nbformat": 4,
 "nbformat_minor": 2
}
