{
 "cells": [
  {
   "cell_type": "code",
   "execution_count": 1,
   "metadata": {},
   "outputs": [],
   "source": [
    "import pandas as pd"
   ]
  },
  {
   "cell_type": "code",
   "execution_count": 4,
   "metadata": {},
   "outputs": [
    {
     "name": "stdout",
     "output_type": "stream",
     "text": [
      "  Product Name  Sale Amount Date of Sale  Customer Age\n",
      "0       Laptop      1200.50   2025-02-17            35\n",
      "1     Sneakers        89.99   2025-02-16            27\n",
      "2   Coffee Mug        15.00   2025-02-15            22\n"
     ]
    }
   ],
   "source": [
    "import pandas as pd\n",
    "\n",
    "\n",
    "data = {\n",
    "    \"Product Name\": [\"Laptop\", \"Sneakers\", \"Coffee Mug\"],\n",
    "    \"Sale Amount\": [1200.50, 89.99, 15.00],\n",
    "    \"Date of Sale\": pd.to_datetime([\"2025-02-17\", \"2025-02-16\", \"2025-02-15\"]),\n",
    "    \"Customer Age\": [35, 27, 22]\n",
    "}\n",
    "\n",
    "df = pd.DataFrame(data)\n",
    "print(df)\n",
    "\n",
    "\n"
   ]
  },
  {
   "cell_type": "code",
   "execution_count": 5,
   "metadata": {},
   "outputs": [
    {
     "name": "stdout",
     "output_type": "stream",
     "text": [
      "Collecting faker\n",
      "  Downloading Faker-36.1.1-py3-none-any.whl.metadata (15 kB)\n",
      "Requirement already satisfied: tzdata in /Library/Frameworks/Python.framework/Versions/3.13/lib/python3.13/site-packages (from faker) (2025.1)\n",
      "Downloading Faker-36.1.1-py3-none-any.whl (1.9 MB)\n",
      "\u001b[2K   \u001b[90m━━━━━━━━━━━━━━━━━━━━━━━━━━━━━━━━━━━━━━━━\u001b[0m \u001b[32m1.9/1.9 MB\u001b[0m \u001b[31m9.1 MB/s\u001b[0m eta \u001b[36m0:00:00\u001b[0ma \u001b[36m0:00:01\u001b[0m\n",
      "\u001b[?25hInstalling collected packages: faker\n",
      "Successfully installed faker-36.1.1\n",
      "\n",
      "\u001b[1m[\u001b[0m\u001b[34;49mnotice\u001b[0m\u001b[1;39;49m]\u001b[0m\u001b[39;49m A new release of pip is available: \u001b[0m\u001b[31;49m24.3.1\u001b[0m\u001b[39;49m -> \u001b[0m\u001b[32;49m25.0.1\u001b[0m\n",
      "\u001b[1m[\u001b[0m\u001b[34;49mnotice\u001b[0m\u001b[1;39;49m]\u001b[0m\u001b[39;49m To update, run: \u001b[0m\u001b[32;49mpip3 install --upgrade pip\u001b[0m\n",
      "Note: you may need to restart the kernel to use updated packages.\n"
     ]
    }
   ],
   "source": [
    "pip install faker "
   ]
  },
  {
   "cell_type": "code",
   "execution_count": 6,
   "metadata": {},
   "outputs": [
    {
     "name": "stdout",
     "output_type": "stream",
     "text": [
      "Requirement already satisfied: numpy in /Library/Frameworks/Python.framework/Versions/3.13/lib/python3.13/site-packages (2.2.3)\n",
      "\n",
      "\u001b[1m[\u001b[0m\u001b[34;49mnotice\u001b[0m\u001b[1;39;49m]\u001b[0m\u001b[39;49m A new release of pip is available: \u001b[0m\u001b[31;49m24.3.1\u001b[0m\u001b[39;49m -> \u001b[0m\u001b[32;49m25.0.1\u001b[0m\n",
      "\u001b[1m[\u001b[0m\u001b[34;49mnotice\u001b[0m\u001b[1;39;49m]\u001b[0m\u001b[39;49m To update, run: \u001b[0m\u001b[32;49mpip3 install --upgrade pip\u001b[0m\n",
      "Note: you may need to restart the kernel to use updated packages.\n"
     ]
    }
   ],
   "source": [
    "pip install numpy"
   ]
  },
  {
   "cell_type": "code",
   "execution_count": 7,
   "metadata": {},
   "outputs": [
    {
     "name": "stdout",
     "output_type": "stream",
     "text": [
      "  Product Name  Sale Amount Date of Sale  Customer Age\n",
      "0         talk       293.04   2024-06-29            54\n",
      "1         show       712.55   2024-10-26            44\n",
      "2      purpose        86.64   2024-03-02            40\n",
      "3          box       753.95   2024-12-15            22\n",
      "4       modern       151.77   2024-11-26            57\n",
      "5        piece        29.39   2024-12-22            31\n",
      "6        peace       641.74   2024-08-27            39\n",
      "7      popular       325.32   2024-07-10            42\n",
      "8         firm        67.39   2024-09-12            50\n",
      "9        green       197.29   2024-12-05            45\n"
     ]
    }
   ],
   "source": [
    "import pandas as pd\n",
    "import numpy as np\n",
    "from faker import Faker\n",
    "\n",
    "# Initialiser Faker\n",
    "fake = Faker()\n",
    "\n",
    "# Nombre d'échantillons à générer\n",
    "num_samples = 10\n",
    "\n",
    "# Générer les données synthétiques\n",
    "data = {\n",
    "    \"Product Name\": [fake.word() for _ in range(num_samples)],  # Noms de produits aléatoires\n",
    "    \"Sale Amount\": np.random.uniform(10, 1000, num_samples).round(2),  # Montant entre 10 et 1000€\n",
    "    \"Date of Sale\": [fake.date_between(start_date=\"-1y\", end_date=\"today\") for _ in range(num_samples)],  # Dates des 12 derniers mois\n",
    "    \"Customer Age\": np.random.randint(18, 70, num_samples)  # Âge entre 18 et 70 ans\n",
    "}\n",
    "\n",
    "# Créer un DataFrame Pandas\n",
    "df = pd.DataFrame(data)\n",
    "\n",
    "# Afficher le DataFrame\n",
    "print(df)\n"
   ]
  },
  {
   "cell_type": "code",
   "execution_count": 8,
   "metadata": {},
   "outputs": [
    {
     "name": "stdout",
     "output_type": "stream",
     "text": [
      "Requirement already satisfied: faker in /Library/Frameworks/Python.framework/Versions/3.13/lib/python3.13/site-packages (36.1.1)\n",
      "Requirement already satisfied: numpy in /Library/Frameworks/Python.framework/Versions/3.13/lib/python3.13/site-packages (2.2.3)\n",
      "Requirement already satisfied: pandas in /Library/Frameworks/Python.framework/Versions/3.13/lib/python3.13/site-packages (2.2.3)\n",
      "Requirement already satisfied: tzdata in /Library/Frameworks/Python.framework/Versions/3.13/lib/python3.13/site-packages (from faker) (2025.1)\n",
      "Requirement already satisfied: python-dateutil>=2.8.2 in /Users/Nicolas/Library/Python/3.13/lib/python/site-packages (from pandas) (2.9.0.post0)\n",
      "Requirement already satisfied: pytz>=2020.1 in /Library/Frameworks/Python.framework/Versions/3.13/lib/python3.13/site-packages (from pandas) (2025.1)\n",
      "Requirement already satisfied: six>=1.5 in /Users/Nicolas/Library/Python/3.13/lib/python/site-packages (from python-dateutil>=2.8.2->pandas) (1.17.0)\n",
      "\n",
      "\u001b[1m[\u001b[0m\u001b[34;49mnotice\u001b[0m\u001b[1;39;49m]\u001b[0m\u001b[39;49m A new release of pip is available: \u001b[0m\u001b[31;49m24.3.1\u001b[0m\u001b[39;49m -> \u001b[0m\u001b[32;49m25.0.1\u001b[0m\n",
      "\u001b[1m[\u001b[0m\u001b[34;49mnotice\u001b[0m\u001b[1;39;49m]\u001b[0m\u001b[39;49m To update, run: \u001b[0m\u001b[32;49mpip3 install --upgrade pip\u001b[0m\n",
      "Note: you may need to restart the kernel to use updated packages.\n"
     ]
    }
   ],
   "source": [
    "pip install faker numpy pandas\n"
   ]
  },
  {
   "cell_type": "code",
   "execution_count": 10,
   "metadata": {},
   "outputs": [
    {
     "name": "stdout",
     "output_type": "stream",
     "text": [
      "  Product Name  Sale Amount Date of Sale  Customer Age\n",
      "0        paper      1164.73   2024-02-29            73\n",
      "1          eye      1456.67   2024-04-17            67\n",
      "2   television       547.32   2023-11-16            64\n",
      "3         deal       592.67   2023-08-13            29\n",
      "4         film      1046.33   2023-03-18            72\n"
     ]
    }
   ],
   "source": [
    "import pandas as pd\n",
    "import numpy as np\n",
    "from faker import Faker\n",
    "\n",
    "# Initialiser Faker\n",
    "fake = Faker()\n",
    "\n",
    "# Nombre d'échantillons à générer\n",
    "num_samples = 20  # Ajuste ce nombre pour plus de données\n",
    "\n",
    "# Générer les données synthétiques\n",
    "data = {\n",
    "    \"Product Name\": [fake.word() for _ in range(num_samples)],  # Noms de produits\n",
    "    \"Sale Amount\": np.random.uniform(5, 2000, num_samples).round(2),  # Montants entre 5 et 2000€\n",
    "    \"Date of Sale\": [fake.date_between(start_date=\"-2y\", end_date=\"today\") for _ in range(num_samples)],  # 2 dernières années\n",
    "    \"Customer Age\": np.random.randint(18, 75, num_samples)  # Âge entre 18 et 75 ans\n",
    "}\n",
    "\n",
    "\n",
    "df = pd.DataFrame(data)\n",
    "\n",
    "\n",
    "print(df.head())\n",
    "\n",
    "\n",
    "df.to_csv(\"synthetic_sales_data.csv\", index=False)\n"
   ]
  }
 ],
 "metadata": {
  "kernelspec": {
   "display_name": "Python 3",
   "language": "python",
   "name": "python3"
  },
  "language_info": {
   "codemirror_mode": {
    "name": "ipython",
    "version": 3
   },
   "file_extension": ".py",
   "mimetype": "text/x-python",
   "name": "python",
   "nbconvert_exporter": "python",
   "pygments_lexer": "ipython3",
   "version": "3.13.2"
  }
 },
 "nbformat": 4,
 "nbformat_minor": 2
}
