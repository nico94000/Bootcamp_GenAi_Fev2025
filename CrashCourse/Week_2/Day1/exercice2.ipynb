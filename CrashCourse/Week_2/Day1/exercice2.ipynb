{
 "cells": [
  {
   "cell_type": "code",
   "execution_count": 8,
   "metadata": {},
   "outputs": [
    {
     "name": "stdout",
     "output_type": "stream",
     "text": [
      "         index       Entity Code  Year Schizophrenia (%) Bipolar disorder (%)  \\\n",
      "0            0  Afghanistan  AFG  1990           0.16056             0.697779   \n",
      "1            1  Afghanistan  AFG  1991          0.160312             0.697961   \n",
      "2            2  Afghanistan  AFG  1992          0.160135             0.698107   \n",
      "3            3  Afghanistan  AFG  1993          0.160037             0.698257   \n",
      "4            4  Afghanistan  AFG  1994          0.160022             0.698469   \n",
      "...        ...          ...  ...   ...               ...                  ...   \n",
      "108548  108548     Zimbabwe  ZWE  2013      303564.60359                  NaN   \n",
      "108549  108549     Zimbabwe  ZWE  2014     311665.769283                  NaN   \n",
      "108550  108550     Zimbabwe  ZWE  2015     320638.507158                  NaN   \n",
      "108551  108551     Zimbabwe  ZWE  2016     330437.353798                  NaN   \n",
      "108552  108552     Zimbabwe  ZWE  2017     340583.157405                  NaN   \n",
      "\n",
      "       Eating disorders (%)  Anxiety disorders (%)  Drug use disorders (%)  \\\n",
      "0                  0.101855               4.828830                1.677082   \n",
      "1                  0.099313               4.829740                1.684746   \n",
      "2                  0.096692               4.831108                1.694334   \n",
      "3                  0.094336               4.830864                1.705320   \n",
      "4                  0.092439               4.829423                1.716069   \n",
      "...                     ...                    ...                     ...   \n",
      "108548                  NaN                    NaN                     NaN   \n",
      "108549                  NaN                    NaN                     NaN   \n",
      "108550                  NaN                    NaN                     NaN   \n",
      "108551                  NaN                    NaN                     NaN   \n",
      "108552                  NaN                    NaN                     NaN   \n",
      "\n",
      "        Depression (%)  Alcohol use disorders (%)  \n",
      "0             4.071831                   0.672404  \n",
      "1             4.079531                   0.671768  \n",
      "2             4.088358                   0.670644  \n",
      "3             4.096190                   0.669738  \n",
      "4             4.099582                   0.669260  \n",
      "...                ...                        ...  \n",
      "108548             NaN                        NaN  \n",
      "108549             NaN                        NaN  \n",
      "108550             NaN                        NaN  \n",
      "108551             NaN                        NaN  \n",
      "108552             NaN                        NaN  \n",
      "\n",
      "[108553 rows x 11 columns]\n",
      "<class 'pandas.core.frame.DataFrame'>\n",
      "RangeIndex: 108553 entries, 0 to 108552\n",
      "Data columns (total 11 columns):\n",
      " #   Column                     Non-Null Count   Dtype  \n",
      "---  ------                     --------------   -----  \n",
      " 0   index                      108553 non-null  int64  \n",
      " 1   Entity                     108553 non-null  object \n",
      " 2   Code                       103141 non-null  object \n",
      " 3   Year                       108553 non-null  object \n",
      " 4   Schizophrenia (%)          25875 non-null   object \n",
      " 5   Bipolar disorder (%)       19406 non-null   object \n",
      " 6   Eating disorders (%)       100236 non-null  object \n",
      " 7   Anxiety disorders (%)      6468 non-null    float64\n",
      " 8   Drug use disorders (%)     6468 non-null    float64\n",
      " 9   Depression (%)             6468 non-null    float64\n",
      " 10  Alcohol use disorders (%)  6468 non-null    float64\n",
      "dtypes: float64(4), int64(1), object(6)\n",
      "memory usage: 9.1+ MB\n",
      "None\n",
      "               index  Anxiety disorders (%)  Drug use disorders (%)  \\\n",
      "count  108553.000000            6468.000000             6468.000000   \n",
      "mean    54276.000000               3.989921                0.862278   \n",
      "std     31336.696223               1.167526                0.460679   \n",
      "min         0.000000               2.023393                0.383650   \n",
      "25%     27138.000000               3.188824                0.535064   \n",
      "50%     54276.000000               3.554373                0.726430   \n",
      "75%     81414.000000               4.682163                0.940157   \n",
      "max    108552.000000               8.967330                3.452476   \n",
      "\n",
      "       Depression (%)  Alcohol use disorders (%)  \n",
      "count     6468.000000                6468.000000  \n",
      "mean         3.497654                   1.585821  \n",
      "std          0.655859                   0.860283  \n",
      "min          2.139903                   0.446940  \n",
      "25%          3.005529                   0.993685  \n",
      "50%          3.499606                   1.479936  \n",
      "75%          3.912381                   1.867834  \n",
      "max          6.602754                   5.474668  \n"
     ]
    },
    {
     "name": "stderr",
     "output_type": "stream",
     "text": [
      "/var/folders/4x/y19tv9t12q123fdsq8qvdq_c0000gn/T/ipykernel_4408/2273128451.py:2: DtypeWarning: Columns (5,6) have mixed types. Specify dtype option on import or set low_memory=False.\n",
      "  df = pd.read_csv(\"mental.csv\")\n"
     ]
    }
   ],
   "source": [
    "import pandas as pd\n",
    "df = pd.read_csv(\"mental.csv\")\n",
    "print(df)\n",
    "print(df.info())\n",
    "print(df.describe())\n"
   ]
  }
 ],
 "metadata": {
  "kernelspec": {
   "display_name": "Python 3",
   "language": "python",
   "name": "python3"
  },
  "language_info": {
   "codemirror_mode": {
    "name": "ipython",
    "version": 3
   },
   "file_extension": ".py",
   "mimetype": "text/x-python",
   "name": "python",
   "nbconvert_exporter": "python",
   "pygments_lexer": "ipython3",
   "version": "3.13.2"
  }
 },
 "nbformat": 4,
 "nbformat_minor": 2
}
